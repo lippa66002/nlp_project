{
 "cells": [
  {
   "cell_type": "code",
   "execution_count": 2,
   "metadata": {
    "execution": {
     "iopub.execute_input": "2025-05-23T15:40:14.726717Z",
     "iopub.status.busy": "2025-05-23T15:40:14.726403Z",
     "iopub.status.idle": "2025-05-23T15:40:49.124135Z",
     "shell.execute_reply": "2025-05-23T15:40:49.123385Z",
     "shell.execute_reply.started": "2025-05-23T15:40:14.726695Z"
    },
    "trusted": true
   },
   "outputs": [
    {
     "name": "stdout",
     "output_type": "stream",
     "text": [
      "Collecting hnswlib\n",
      "  Downloading hnswlib-0.8.0.tar.gz (36 kB)\n",
      "  Installing build dependencies ... \u001b[?25l\u001b[?25hdone\n",
      "  Getting requirements to build wheel ... \u001b[?25l\u001b[?25hdone\n",
      "  Preparing metadata (pyproject.toml) ... \u001b[?25l\u001b[?25hdone\n",
      "Requirement already satisfied: numpy in /usr/local/lib/python3.11/dist-packages (from hnswlib) (1.26.4)\n",
      "Requirement already satisfied: mkl_fft in /usr/local/lib/python3.11/dist-packages (from numpy->hnswlib) (1.3.8)\n",
      "Requirement already satisfied: mkl_random in /usr/local/lib/python3.11/dist-packages (from numpy->hnswlib) (1.2.4)\n",
      "Requirement already satisfied: mkl_umath in /usr/local/lib/python3.11/dist-packages (from numpy->hnswlib) (0.1.1)\n",
      "Requirement already satisfied: mkl in /usr/local/lib/python3.11/dist-packages (from numpy->hnswlib) (2025.1.0)\n",
      "Requirement already satisfied: tbb4py in /usr/local/lib/python3.11/dist-packages (from numpy->hnswlib) (2022.1.0)\n",
      "Requirement already satisfied: mkl-service in /usr/local/lib/python3.11/dist-packages (from numpy->hnswlib) (2.4.1)\n",
      "Requirement already satisfied: intel-openmp<2026,>=2024 in /usr/local/lib/python3.11/dist-packages (from mkl->numpy->hnswlib) (2024.2.0)\n",
      "Requirement already satisfied: tbb==2022.* in /usr/local/lib/python3.11/dist-packages (from mkl->numpy->hnswlib) (2022.1.0)\n",
      "Requirement already satisfied: tcmlib==1.* in /usr/local/lib/python3.11/dist-packages (from tbb==2022.*->mkl->numpy->hnswlib) (1.3.0)\n",
      "Requirement already satisfied: intel-cmplr-lib-rt in /usr/local/lib/python3.11/dist-packages (from mkl_umath->numpy->hnswlib) (2024.2.0)\n",
      "Requirement already satisfied: intel-cmplr-lib-ur==2024.2.0 in /usr/local/lib/python3.11/dist-packages (from intel-openmp<2026,>=2024->mkl->numpy->hnswlib) (2024.2.0)\n",
      "Building wheels for collected packages: hnswlib\n",
      "  Building wheel for hnswlib (pyproject.toml) ... \u001b[?25l\u001b[?25hdone\n",
      "  Created wheel for hnswlib: filename=hnswlib-0.8.0-cp311-cp311-linux_x86_64.whl size=2389210 sha256=4d9f50f5028f7b188854ce9b8b79627479562e2df975ffa5c5449a13aac00b54\n",
      "  Stored in directory: /root/.cache/pip/wheels/ea/4e/27/39aebca9958719776e36fada290845a7ef10f053ad70e22ceb\n",
      "Successfully built hnswlib\n",
      "Installing collected packages: hnswlib\n",
      "Successfully installed hnswlib-0.8.0\n"
     ]
    }
   ],
   "source": [
    "!pip install hnswlib\n"
   ]
  },
  {
   "cell_type": "code",
   "execution_count": null,
   "metadata": {
    "execution": {
     "iopub.execute_input": "2025-05-23T15:41:04.155704Z",
     "iopub.status.busy": "2025-05-23T15:41:04.155379Z",
     "iopub.status.idle": "2025-05-23T15:41:04.286278Z",
     "shell.execute_reply": "2025-05-23T15:41:04.285575Z",
     "shell.execute_reply.started": "2025-05-23T15:41:04.155676Z"
    },
    "trusted": true
   },
   "outputs": [
    {
     "name": "stdout",
     "output_type": "stream",
     "text": [
      "/kaggle/input/nlp-resources/test_data.parquet\n"
     ]
    }
   ],
   "source": [
    "\n",
    "!ls /kaggle/input/nlp-resources/test_data.parquet\n"
   ]
  },
  {
   "cell_type": "code",
   "execution_count": 15,
   "metadata": {
    "execution": {
     "iopub.execute_input": "2025-05-23T15:46:52.709133Z",
     "iopub.status.busy": "2025-05-23T15:46:52.708245Z",
     "iopub.status.idle": "2025-05-23T15:46:53.649394Z",
     "shell.execute_reply": "2025-05-23T15:46:53.648450Z",
     "shell.execute_reply.started": "2025-05-23T15:46:52.709099Z"
    },
    "trusted": true
   },
   "outputs": [],
   "source": [
    "import pandas as pd\n",
    "\n",
    "\n",
    "all_data=pd.read_parquet(\"/kaggle/input/nlp-resources/cleaned_data.parquet\")\n",
    "labels = pd.read_parquet(\"/kaggle/input/labeled/df_supervised.parquet\")"
   ]
  },
  {
   "cell_type": "code",
   "execution_count": 19,
   "metadata": {
    "execution": {
     "iopub.execute_input": "2025-05-23T15:49:19.425737Z",
     "iopub.status.busy": "2025-05-23T15:49:19.425155Z",
     "iopub.status.idle": "2025-05-23T15:49:19.431475Z",
     "shell.execute_reply": "2025-05-23T15:49:19.430760Z",
     "shell.execute_reply.started": "2025-05-23T15:49:19.425713Z"
    },
    "trusted": true
   },
   "outputs": [
    {
     "name": "stdout",
     "output_type": "stream",
     "text": [
      "text             Caption: Tasmanian berry grower Nic Hansen sho...\n",
      "cluster_id                                                       4\n",
      "cluster_label                                 Finance & Investment\n",
      "Name: 0, dtype: object\n"
     ]
    }
   ],
   "source": [
    "\n",
    "lab = labels['cluster_label'].tolist()"
   ]
  },
  {
   "cell_type": "markdown",
   "metadata": {},
   "source": [
    "Let's load a sentence transformer to compute the embeddings and a cross model encoder for reranking"
   ]
  },
  {
   "cell_type": "code",
   "execution_count": 20,
   "metadata": {
    "execution": {
     "iopub.execute_input": "2025-05-23T15:49:32.048468Z",
     "iopub.status.busy": "2025-05-23T15:49:32.048160Z",
     "iopub.status.idle": "2025-05-23T15:49:33.567073Z",
     "shell.execute_reply": "2025-05-23T15:49:33.566460Z",
     "shell.execute_reply.started": "2025-05-23T15:49:32.048448Z"
    },
    "trusted": true
   },
   "outputs": [],
   "source": [
    "from sentence_transformers import SentenceTransformer, CrossEncoder, util\n",
    "\n",
    "semb_model = SentenceTransformer('multi-qa-MiniLM-L6-cos-v1')\n",
    "xenc_model = CrossEncoder('cross-encoder/ms-marco-MiniLM-L-6-v2') #they work better but they need the compute the embedding every time we have a new query"
   ]
  },
  {
   "cell_type": "markdown",
   "metadata": {},
   "source": [
    "Let's now compute the context embedding we will use for answering"
   ]
  },
  {
   "cell_type": "code",
   "execution_count": 21,
   "metadata": {
    "execution": {
     "iopub.execute_input": "2025-05-23T15:51:23.067233Z",
     "iopub.status.busy": "2025-05-23T15:51:23.066684Z",
     "iopub.status.idle": "2025-05-23T15:51:51.697353Z",
     "shell.execute_reply": "2025-05-23T15:51:51.696763Z",
     "shell.execute_reply.started": "2025-05-23T15:51:23.067210Z"
    },
    "trusted": true
   },
   "outputs": [
    {
     "data": {
      "application/vnd.jupyter.widget-view+json": {
       "model_id": "c0572dc6f08242b9876acd78803c0076",
       "version_major": 2,
       "version_minor": 0
      },
      "text/plain": [
       "Batches:   0%|          | 0/342 [00:00<?, ?it/s]"
      ]
     },
     "metadata": {},
     "output_type": "display_data"
    }
   ],
   "source": [
    "import torch\n",
    "contexts = all_data['context'].tolist()\n",
    "corpus_embeddings = semb_model.encode(contexts, convert_to_tensor=True, show_progress_bar=True)\n",
    "#corpus_embeddings = torch.load('//kaggle/input/corpusembeddings/corpus_embeddings.pt')\n"
   ]
  },
  {
   "cell_type": "markdown",
   "metadata": {},
   "source": [
    "Let's now use some random sentence, one for each cluster previously identified: we will use cosine similarity to see what is the most similar context and if it belongs to the same category"
   ]
  },
  {
   "cell_type": "code",
   "execution_count": 22,
   "metadata": {
    "execution": {
     "iopub.execute_input": "2025-05-23T15:51:59.424667Z",
     "iopub.status.busy": "2025-05-23T15:51:59.423978Z",
     "iopub.status.idle": "2025-05-23T15:51:59.429384Z",
     "shell.execute_reply": "2025-05-23T15:51:59.428700Z",
     "shell.execute_reply.started": "2025-05-23T15:51:59.424643Z"
    },
    "trusted": true
   },
   "outputs": [],
   "source": [
    "queries = [\n",
    "    \"She uploaded the latest app update to the cloud-based platform without a hitch.\",           # Digital/Online Services\n",
    "    \"The director revealed the teaser trailer at the midnight screening.\",                      # Film & Television\n",
    "    \"The assembly line hummed as robotic arms welded the steel frame with precision.\",           # Industrial & Machinery\n",
    "    \"He laced up his cleats just before kick-off under the stadium lights.\",                    # Sports & Athletics\n",
    "    \"She diversified her portfolio by investing in emerging market bonds last quarter.\",        # Finance & Investment\n",
    "    \"They sold out tickets to the championship gaming tournament in under an hour.\",             # Gaming & Events\n",
    "    \"Guests strolled through the resort’s marble lobby, overlooking the sun-drenched terrace.\",  # Hospitality & Real Estate\n",
    "    \"He spent the afternoon lost in a novel about existentialism and the human condition.\",      # Literature & Philosophy\n",
    "    \"The clinic introduced a cutting-edge diagnostic tool to improve patient outcomes.\",         # Healthcare & Medicine\n",
    "    \"She curated a capsule wardrobe to streamline her daily style routine.\",                     # Lifestyle & Personal Interests\n",
    "    \"Lawmakers convened to draft the new regulations on data privacy and trade compliance.\",    # Legal & Government\n",
    "    \"He savored the flaky croissant while reading the recipe for boulangerie perfection.\",      # Food & Culinary\n",
    "    \"The candidate outlined her vision for education reform during the televised debate.\",       # Politics & Public Affairs\n",
    "    \"Volunteers conducted a beach cleanup to protect the fragile coastal ecosystem.\",           # Environment & Ecology\n",
    "    \"She blended acrylics to capture the vibrant hues of the urban skyline at dusk.\",            # Art & Design\n",
    "    \"Researchers presented their groundbreaking findings on renewable energy sources.\",         # Education & Research\n",
    "    \"The DJ mixed vintage vinyl records to curate the perfect summer soundtrack.\",              # Music & Audio\n",
    "    \"He practiced mindfulness meditation to maintain balance amid his hectic schedule.\"         # Wellness & Personal Care\n",
    "]\n"
   ]
  },
  {
   "cell_type": "markdown",
   "metadata": {},
   "source": [
    "Let's compute the embeddings of these sentences, too."
   ]
  },
  {
   "cell_type": "code",
   "execution_count": 23,
   "metadata": {
    "execution": {
     "iopub.execute_input": "2025-05-23T15:52:02.289939Z",
     "iopub.status.busy": "2025-05-23T15:52:02.289294Z",
     "iopub.status.idle": "2025-05-23T15:52:02.316269Z",
     "shell.execute_reply": "2025-05-23T15:52:02.315636Z",
     "shell.execute_reply.started": "2025-05-23T15:52:02.289916Z"
    },
    "trusted": true
   },
   "outputs": [
    {
     "data": {
      "application/vnd.jupyter.widget-view+json": {
       "model_id": "38010fedd45c4c93a4d1e835fc3b40b8",
       "version_major": 2,
       "version_minor": 0
      },
      "text/plain": [
       "Batches:   0%|          | 0/1 [00:00<?, ?it/s]"
      ]
     },
     "metadata": {},
     "output_type": "display_data"
    }
   ],
   "source": [
    "queries_embeddings = semb_model.encode(queries, convert_to_tensor=True,show_progress_bar=True )"
   ]
  },
  {
   "cell_type": "markdown",
   "metadata": {},
   "source": [
    "Let's find the most similar contexts with cosine similarity and see what category they belong to and if they are actually relevant."
   ]
  },
  {
   "cell_type": "markdown",
   "metadata": {},
   "source": [
    "We can also use the built-in function for semantic search"
   ]
  },
  {
   "cell_type": "code",
   "execution_count": 24,
   "metadata": {
    "execution": {
     "iopub.execute_input": "2025-05-23T15:52:05.799929Z",
     "iopub.status.busy": "2025-05-23T15:52:05.799645Z",
     "iopub.status.idle": "2025-05-23T15:52:05.862768Z",
     "shell.execute_reply": "2025-05-23T15:52:05.862135Z",
     "shell.execute_reply.started": "2025-05-23T15:52:05.799909Z"
    },
    "trusted": true
   },
   "outputs": [
    {
     "data": {
      "application/vnd.jupyter.widget-view+json": {
       "model_id": "64e89157df6342d688306dda23a1b627",
       "version_major": 2,
       "version_minor": 0
      },
      "text/plain": [
       "Batches:   0%|          | 0/1 [00:00<?, ?it/s]"
      ]
     },
     "metadata": {},
     "output_type": "display_data"
    },
    {
     "data": {
      "text/plain": [
       "[[{'corpus_id': 603, 'score': 0.40528178215026855},\n",
       "  {'corpus_id': 642, 'score': 0.3988167345523834},\n",
       "  {'corpus_id': 9173, 'score': 0.39425790309906006},\n",
       "  {'corpus_id': 6954, 'score': 0.39246395230293274},\n",
       "  {'corpus_id': 9056, 'score': 0.3865756690502167},\n",
       "  {'corpus_id': 273, 'score': 0.380735844373703},\n",
       "  {'corpus_id': 113, 'score': 0.36934608221054077},\n",
       "  {'corpus_id': 6911, 'score': 0.3677324950695038},\n",
       "  {'corpus_id': 851, 'score': 0.3670920133590698},\n",
       "  {'corpus_id': 5821, 'score': 0.3656845688819885}],\n",
       " [{'corpus_id': 1497, 'score': 0.4757058322429657},\n",
       "  {'corpus_id': 317, 'score': 0.46287935972213745},\n",
       "  {'corpus_id': 6703, 'score': 0.42867356538772583},\n",
       "  {'corpus_id': 8269, 'score': 0.4266166090965271},\n",
       "  {'corpus_id': 10420, 'score': 0.4123404920101166},\n",
       "  {'corpus_id': 1819, 'score': 0.40546783804893494},\n",
       "  {'corpus_id': 2713, 'score': 0.39723342657089233},\n",
       "  {'corpus_id': 10865, 'score': 0.3966255187988281},\n",
       "  {'corpus_id': 10168, 'score': 0.3938640356063843},\n",
       "  {'corpus_id': 6059, 'score': 0.3811684250831604}],\n",
       " [{'corpus_id': 349, 'score': 0.3818286955356598},\n",
       "  {'corpus_id': 4939, 'score': 0.3773568272590637},\n",
       "  {'corpus_id': 2635, 'score': 0.3600747883319855},\n",
       "  {'corpus_id': 4445, 'score': 0.35328352451324463},\n",
       "  {'corpus_id': 1281, 'score': 0.33834928274154663},\n",
       "  {'corpus_id': 8098, 'score': 0.3346855640411377},\n",
       "  {'corpus_id': 4411, 'score': 0.33245939016342163},\n",
       "  {'corpus_id': 10521, 'score': 0.33194392919540405},\n",
       "  {'corpus_id': 306, 'score': 0.33130478858947754},\n",
       "  {'corpus_id': 3975, 'score': 0.32621321082115173}],\n",
       " [{'corpus_id': 4019, 'score': 0.445904016494751},\n",
       "  {'corpus_id': 8818, 'score': 0.4314984679222107},\n",
       "  {'corpus_id': 3651, 'score': 0.42169439792633057},\n",
       "  {'corpus_id': 1331, 'score': 0.40466398000717163},\n",
       "  {'corpus_id': 4970, 'score': 0.3961334526538849},\n",
       "  {'corpus_id': 3321, 'score': 0.3892374038696289},\n",
       "  {'corpus_id': 9109, 'score': 0.3877379298210144},\n",
       "  {'corpus_id': 6204, 'score': 0.3876381516456604},\n",
       "  {'corpus_id': 6166, 'score': 0.3838760554790497},\n",
       "  {'corpus_id': 7371, 'score': 0.3723979592323303}],\n",
       " [{'corpus_id': 4251, 'score': 0.3975133001804352},\n",
       "  {'corpus_id': 9276, 'score': 0.39488324522972107},\n",
       "  {'corpus_id': 4176, 'score': 0.3845389485359192},\n",
       "  {'corpus_id': 9949, 'score': 0.38276949524879456},\n",
       "  {'corpus_id': 5168, 'score': 0.3824242353439331},\n",
       "  {'corpus_id': 8774, 'score': 0.38006657361984253},\n",
       "  {'corpus_id': 8627, 'score': 0.3788278102874756},\n",
       "  {'corpus_id': 2446, 'score': 0.37461718916893005},\n",
       "  {'corpus_id': 2138, 'score': 0.3696806728839874},\n",
       "  {'corpus_id': 8807, 'score': 0.3675335645675659}],\n",
       " [{'corpus_id': 5780, 'score': 0.4488106966018677},\n",
       "  {'corpus_id': 2778, 'score': 0.44422852993011475},\n",
       "  {'corpus_id': 10876, 'score': 0.44232484698295593},\n",
       "  {'corpus_id': 7899, 'score': 0.43876054883003235},\n",
       "  {'corpus_id': 3886, 'score': 0.42483794689178467},\n",
       "  {'corpus_id': 5609, 'score': 0.4234427213668823},\n",
       "  {'corpus_id': 5467, 'score': 0.4223022758960724},\n",
       "  {'corpus_id': 2060, 'score': 0.40957069396972656},\n",
       "  {'corpus_id': 4334, 'score': 0.39901864528656006},\n",
       "  {'corpus_id': 4824, 'score': 0.39691871404647827}],\n",
       " [{'corpus_id': 6274, 'score': 0.5659597516059875},\n",
       "  {'corpus_id': 6970, 'score': 0.5397916436195374},\n",
       "  {'corpus_id': 1969, 'score': 0.5215518474578857},\n",
       "  {'corpus_id': 4847, 'score': 0.5126266479492188},\n",
       "  {'corpus_id': 835, 'score': 0.5011575818061829},\n",
       "  {'corpus_id': 5476, 'score': 0.49312999844551086},\n",
       "  {'corpus_id': 9404, 'score': 0.48842155933380127},\n",
       "  {'corpus_id': 429, 'score': 0.48320722579956055},\n",
       "  {'corpus_id': 5504, 'score': 0.4780292510986328},\n",
       "  {'corpus_id': 5149, 'score': 0.47592437267303467}],\n",
       " [{'corpus_id': 3401, 'score': 0.4830784797668457},\n",
       "  {'corpus_id': 5741, 'score': 0.46537405252456665},\n",
       "  {'corpus_id': 7713, 'score': 0.4553493857383728},\n",
       "  {'corpus_id': 7458, 'score': 0.45100000500679016},\n",
       "  {'corpus_id': 644, 'score': 0.4415121078491211},\n",
       "  {'corpus_id': 6728, 'score': 0.4333825707435608},\n",
       "  {'corpus_id': 7180, 'score': 0.4309496283531189},\n",
       "  {'corpus_id': 1492, 'score': 0.4134620726108551},\n",
       "  {'corpus_id': 3371, 'score': 0.4067052900791168},\n",
       "  {'corpus_id': 10262, 'score': 0.40257349610328674}],\n",
       " [{'corpus_id': 10772, 'score': 0.5396955013275146},\n",
       "  {'corpus_id': 2344, 'score': 0.5385386943817139},\n",
       "  {'corpus_id': 925, 'score': 0.508459210395813},\n",
       "  {'corpus_id': 6759, 'score': 0.500112771987915},\n",
       "  {'corpus_id': 4524, 'score': 0.4993616044521332},\n",
       "  {'corpus_id': 6632, 'score': 0.4954540729522705},\n",
       "  {'corpus_id': 7500, 'score': 0.49463164806365967},\n",
       "  {'corpus_id': 8273, 'score': 0.4867258667945862},\n",
       "  {'corpus_id': 9279, 'score': 0.4855497479438782},\n",
       "  {'corpus_id': 465, 'score': 0.47931376099586487}],\n",
       " [{'corpus_id': 9978, 'score': 0.513710081577301},\n",
       "  {'corpus_id': 6794, 'score': 0.4926045536994934},\n",
       "  {'corpus_id': 10367, 'score': 0.49145063757896423},\n",
       "  {'corpus_id': 4518, 'score': 0.4909561276435852},\n",
       "  {'corpus_id': 8115, 'score': 0.48971620202064514},\n",
       "  {'corpus_id': 10466, 'score': 0.48447415232658386},\n",
       "  {'corpus_id': 7215, 'score': 0.4803757071495056},\n",
       "  {'corpus_id': 1982, 'score': 0.4747315049171448},\n",
       "  {'corpus_id': 6524, 'score': 0.4725237488746643},\n",
       "  {'corpus_id': 3087, 'score': 0.4703733026981354}],\n",
       " [{'corpus_id': 9083, 'score': 0.5010966062545776},\n",
       "  {'corpus_id': 3777, 'score': 0.4965741038322449},\n",
       "  {'corpus_id': 10066, 'score': 0.49134838581085205},\n",
       "  {'corpus_id': 1727, 'score': 0.45147064328193665},\n",
       "  {'corpus_id': 2071, 'score': 0.4506399929523468},\n",
       "  {'corpus_id': 5951, 'score': 0.450344443321228},\n",
       "  {'corpus_id': 7094, 'score': 0.4327201545238495},\n",
       "  {'corpus_id': 7436, 'score': 0.4319644868373871},\n",
       "  {'corpus_id': 10844, 'score': 0.42961588501930237},\n",
       "  {'corpus_id': 9946, 'score': 0.4286281168460846}],\n",
       " [{'corpus_id': 3995, 'score': 0.4465380012989044},\n",
       "  {'corpus_id': 1418, 'score': 0.4413962662220001},\n",
       "  {'corpus_id': 9204, 'score': 0.4343125820159912},\n",
       "  {'corpus_id': 7102, 'score': 0.422701358795166},\n",
       "  {'corpus_id': 9175, 'score': 0.4185807704925537},\n",
       "  {'corpus_id': 2804, 'score': 0.4127230942249298},\n",
       "  {'corpus_id': 9286, 'score': 0.4041406512260437},\n",
       "  {'corpus_id': 9128, 'score': 0.4040070176124573},\n",
       "  {'corpus_id': 2596, 'score': 0.39974936842918396},\n",
       "  {'corpus_id': 2062, 'score': 0.3956526517868042}],\n",
       " [{'corpus_id': 3566, 'score': 0.5479544401168823},\n",
       "  {'corpus_id': 2663, 'score': 0.5314804911613464},\n",
       "  {'corpus_id': 807, 'score': 0.5099546909332275},\n",
       "  {'corpus_id': 7083, 'score': 0.49840736389160156},\n",
       "  {'corpus_id': 9327, 'score': 0.49585646390914917},\n",
       "  {'corpus_id': 10758, 'score': 0.4944787621498108},\n",
       "  {'corpus_id': 2137, 'score': 0.48973312973976135},\n",
       "  {'corpus_id': 5330, 'score': 0.4897247552871704},\n",
       "  {'corpus_id': 9944, 'score': 0.4862379729747772},\n",
       "  {'corpus_id': 5238, 'score': 0.4859016537666321}],\n",
       " [{'corpus_id': 5251, 'score': 0.5113391280174255},\n",
       "  {'corpus_id': 4199, 'score': 0.5021004676818848},\n",
       "  {'corpus_id': 2369, 'score': 0.501459538936615},\n",
       "  {'corpus_id': 7109, 'score': 0.47506481409072876},\n",
       "  {'corpus_id': 7712, 'score': 0.4713616967201233},\n",
       "  {'corpus_id': 2464, 'score': 0.46949300169944763},\n",
       "  {'corpus_id': 9531, 'score': 0.46922388672828674},\n",
       "  {'corpus_id': 9445, 'score': 0.46684443950653076},\n",
       "  {'corpus_id': 9212, 'score': 0.46650195121765137},\n",
       "  {'corpus_id': 3803, 'score': 0.46144914627075195}],\n",
       " [{'corpus_id': 10557, 'score': 0.5118967294692993},\n",
       "  {'corpus_id': 3610, 'score': 0.5021874904632568},\n",
       "  {'corpus_id': 4212, 'score': 0.4753950238227844},\n",
       "  {'corpus_id': 4166, 'score': 0.4627382755279541},\n",
       "  {'corpus_id': 6529, 'score': 0.44449156522750854},\n",
       "  {'corpus_id': 9657, 'score': 0.44395187497138977},\n",
       "  {'corpus_id': 6032, 'score': 0.44385430216789246},\n",
       "  {'corpus_id': 8090, 'score': 0.4422920346260071},\n",
       "  {'corpus_id': 5407, 'score': 0.4339871406555176},\n",
       "  {'corpus_id': 400, 'score': 0.4254436492919922}],\n",
       " [{'corpus_id': 8440, 'score': 0.6472057104110718},\n",
       "  {'corpus_id': 5950, 'score': 0.6244122982025146},\n",
       "  {'corpus_id': 1914, 'score': 0.5797081589698792},\n",
       "  {'corpus_id': 7994, 'score': 0.5777305960655212},\n",
       "  {'corpus_id': 3953, 'score': 0.5660581588745117},\n",
       "  {'corpus_id': 8940, 'score': 0.5347898006439209},\n",
       "  {'corpus_id': 7701, 'score': 0.5324375033378601},\n",
       "  {'corpus_id': 9150, 'score': 0.5281141996383667},\n",
       "  {'corpus_id': 4787, 'score': 0.5149182081222534},\n",
       "  {'corpus_id': 2041, 'score': 0.5146597623825073}],\n",
       " [{'corpus_id': 7497, 'score': 0.5315297842025757},\n",
       "  {'corpus_id': 2562, 'score': 0.524539589881897},\n",
       "  {'corpus_id': 961, 'score': 0.5165725946426392},\n",
       "  {'corpus_id': 861, 'score': 0.5101146697998047},\n",
       "  {'corpus_id': 7104, 'score': 0.500664234161377},\n",
       "  {'corpus_id': 7800, 'score': 0.49861669540405273},\n",
       "  {'corpus_id': 3892, 'score': 0.4970722198486328},\n",
       "  {'corpus_id': 2249, 'score': 0.49582505226135254},\n",
       "  {'corpus_id': 686, 'score': 0.4884876608848572},\n",
       "  {'corpus_id': 3605, 'score': 0.48701274394989014}],\n",
       " [{'corpus_id': 7711, 'score': 0.45154136419296265},\n",
       "  {'corpus_id': 9719, 'score': 0.42111045122146606},\n",
       "  {'corpus_id': 7951, 'score': 0.420631468296051},\n",
       "  {'corpus_id': 1012, 'score': 0.3879932165145874},\n",
       "  {'corpus_id': 8920, 'score': 0.3703247606754303},\n",
       "  {'corpus_id': 9473, 'score': 0.3621034026145935},\n",
       "  {'corpus_id': 8367, 'score': 0.35573720932006836},\n",
       "  {'corpus_id': 9097, 'score': 0.347470760345459},\n",
       "  {'corpus_id': 3122, 'score': 0.34255245327949524},\n",
       "  {'corpus_id': 5774, 'score': 0.3413914442062378}]]"
      ]
     },
     "execution_count": 24,
     "metadata": {},
     "output_type": "execute_result"
    }
   ],
   "source": [
    "query_embeddings =  semb_model.encode(queries, convert_to_tensor=True)\n",
    "\n",
    "util.semantic_search(query_embeddings, corpus_embeddings, score_function=util.cos_sim)"
   ]
  },
  {
   "cell_type": "markdown",
   "metadata": {},
   "source": [
    "We can also speed up this process by pre-normalising the embeddings and compute directly the dot-product instead of cosine similarity."
   ]
  },
  {
   "cell_type": "code",
   "execution_count": 25,
   "metadata": {
    "execution": {
     "iopub.execute_input": "2025-05-23T15:52:13.737577Z",
     "iopub.status.busy": "2025-05-23T15:52:13.736741Z",
     "iopub.status.idle": "2025-05-23T15:52:42.421785Z",
     "shell.execute_reply": "2025-05-23T15:52:42.420970Z",
     "shell.execute_reply.started": "2025-05-23T15:52:13.737549Z"
    },
    "trusted": true
   },
   "outputs": [
    {
     "data": {
      "application/vnd.jupyter.widget-view+json": {
       "model_id": "2763877f62194dfb92634c2ca2a3fb46",
       "version_major": 2,
       "version_minor": 0
      },
      "text/plain": [
       "Batches:   0%|          | 0/342 [00:00<?, ?it/s]"
      ]
     },
     "metadata": {},
     "output_type": "display_data"
    },
    {
     "data": {
      "application/vnd.jupyter.widget-view+json": {
       "model_id": "2e490aa11d4f4941bb7a125a1e8310eb",
       "version_major": 2,
       "version_minor": 0
      },
      "text/plain": [
       "Batches:   0%|          | 0/1 [00:00<?, ?it/s]"
      ]
     },
     "metadata": {},
     "output_type": "display_data"
    }
   ],
   "source": [
    "normalised_docs_embeddings = util.normalize_embeddings(semb_model.encode(contexts, convert_to_tensor=True))\n",
    "normalised_query_embeddings = util.normalize_embeddings(semb_model.encode(queries, convert_to_tensor=True))\n",
    "#norm_docs_embeddings = torch.load('/kaggle/input/normdocsembedding/norm_docs_embeddings.pt')\n",
    "#norm_query_embeddings = torch.load('/kaggle/input/normqueryemb/norm_query_embeddings.pt')"
   ]
  },
  {
   "cell_type": "code",
   "execution_count": 26,
   "metadata": {
    "execution": {
     "iopub.execute_input": "2025-05-23T15:52:45.030118Z",
     "iopub.status.busy": "2025-05-23T15:52:45.029841Z",
     "iopub.status.idle": "2025-05-23T15:52:45.041905Z",
     "shell.execute_reply": "2025-05-23T15:52:45.041238Z",
     "shell.execute_reply.started": "2025-05-23T15:52:45.030097Z"
    },
    "trusted": true
   },
   "outputs": [
    {
     "data": {
      "text/plain": [
       "[[{'corpus_id': 603, 'score': 0.40528178215026855},\n",
       "  {'corpus_id': 642, 'score': 0.3988167345523834},\n",
       "  {'corpus_id': 9173, 'score': 0.39425790309906006},\n",
       "  {'corpus_id': 6954, 'score': 0.39246395230293274},\n",
       "  {'corpus_id': 9056, 'score': 0.3865756690502167},\n",
       "  {'corpus_id': 273, 'score': 0.380735844373703},\n",
       "  {'corpus_id': 113, 'score': 0.36934608221054077},\n",
       "  {'corpus_id': 6911, 'score': 0.3677324950695038},\n",
       "  {'corpus_id': 851, 'score': 0.3670920133590698},\n",
       "  {'corpus_id': 5821, 'score': 0.3656845688819885}],\n",
       " [{'corpus_id': 1497, 'score': 0.4757058322429657},\n",
       "  {'corpus_id': 317, 'score': 0.46287935972213745},\n",
       "  {'corpus_id': 6703, 'score': 0.42867356538772583},\n",
       "  {'corpus_id': 8269, 'score': 0.4266166090965271},\n",
       "  {'corpus_id': 10420, 'score': 0.4123404920101166},\n",
       "  {'corpus_id': 1819, 'score': 0.40546783804893494},\n",
       "  {'corpus_id': 2713, 'score': 0.39723342657089233},\n",
       "  {'corpus_id': 10865, 'score': 0.3966255187988281},\n",
       "  {'corpus_id': 10168, 'score': 0.3938640356063843},\n",
       "  {'corpus_id': 6059, 'score': 0.3811684250831604}],\n",
       " [{'corpus_id': 349, 'score': 0.3818286955356598},\n",
       "  {'corpus_id': 4939, 'score': 0.3773568272590637},\n",
       "  {'corpus_id': 2635, 'score': 0.3600747883319855},\n",
       "  {'corpus_id': 4445, 'score': 0.35328352451324463},\n",
       "  {'corpus_id': 1281, 'score': 0.33834928274154663},\n",
       "  {'corpus_id': 8098, 'score': 0.3346855640411377},\n",
       "  {'corpus_id': 4411, 'score': 0.33245939016342163},\n",
       "  {'corpus_id': 10521, 'score': 0.33194392919540405},\n",
       "  {'corpus_id': 306, 'score': 0.33130478858947754},\n",
       "  {'corpus_id': 3975, 'score': 0.32621321082115173}],\n",
       " [{'corpus_id': 4019, 'score': 0.445904016494751},\n",
       "  {'corpus_id': 8818, 'score': 0.4314984679222107},\n",
       "  {'corpus_id': 3651, 'score': 0.42169439792633057},\n",
       "  {'corpus_id': 1331, 'score': 0.40466398000717163},\n",
       "  {'corpus_id': 4970, 'score': 0.3961334526538849},\n",
       "  {'corpus_id': 3321, 'score': 0.3892374038696289},\n",
       "  {'corpus_id': 9109, 'score': 0.3877379298210144},\n",
       "  {'corpus_id': 6204, 'score': 0.3876381516456604},\n",
       "  {'corpus_id': 6166, 'score': 0.3838760554790497},\n",
       "  {'corpus_id': 7371, 'score': 0.3723979592323303}],\n",
       " [{'corpus_id': 4251, 'score': 0.3975133001804352},\n",
       "  {'corpus_id': 9276, 'score': 0.39488324522972107},\n",
       "  {'corpus_id': 4176, 'score': 0.3845389485359192},\n",
       "  {'corpus_id': 9949, 'score': 0.38276949524879456},\n",
       "  {'corpus_id': 5168, 'score': 0.3824242353439331},\n",
       "  {'corpus_id': 8774, 'score': 0.38006657361984253},\n",
       "  {'corpus_id': 8627, 'score': 0.3788278102874756},\n",
       "  {'corpus_id': 2446, 'score': 0.37461718916893005},\n",
       "  {'corpus_id': 2138, 'score': 0.3696806728839874},\n",
       "  {'corpus_id': 8807, 'score': 0.3675335645675659}],\n",
       " [{'corpus_id': 5780, 'score': 0.4488106966018677},\n",
       "  {'corpus_id': 2778, 'score': 0.44422852993011475},\n",
       "  {'corpus_id': 10876, 'score': 0.44232484698295593},\n",
       "  {'corpus_id': 7899, 'score': 0.43876054883003235},\n",
       "  {'corpus_id': 3886, 'score': 0.42483794689178467},\n",
       "  {'corpus_id': 5609, 'score': 0.4234427213668823},\n",
       "  {'corpus_id': 5467, 'score': 0.4223022758960724},\n",
       "  {'corpus_id': 2060, 'score': 0.40957069396972656},\n",
       "  {'corpus_id': 4334, 'score': 0.39901864528656006},\n",
       "  {'corpus_id': 4824, 'score': 0.39691871404647827}],\n",
       " [{'corpus_id': 6274, 'score': 0.5659597516059875},\n",
       "  {'corpus_id': 6970, 'score': 0.5397916436195374},\n",
       "  {'corpus_id': 1969, 'score': 0.5215518474578857},\n",
       "  {'corpus_id': 4847, 'score': 0.5126266479492188},\n",
       "  {'corpus_id': 835, 'score': 0.5011575818061829},\n",
       "  {'corpus_id': 5476, 'score': 0.49312999844551086},\n",
       "  {'corpus_id': 9404, 'score': 0.48842155933380127},\n",
       "  {'corpus_id': 429, 'score': 0.48320722579956055},\n",
       "  {'corpus_id': 5504, 'score': 0.4780292510986328},\n",
       "  {'corpus_id': 5149, 'score': 0.47592437267303467}],\n",
       " [{'corpus_id': 3401, 'score': 0.4830784797668457},\n",
       "  {'corpus_id': 5741, 'score': 0.46537405252456665},\n",
       "  {'corpus_id': 7713, 'score': 0.4553493857383728},\n",
       "  {'corpus_id': 7458, 'score': 0.45100000500679016},\n",
       "  {'corpus_id': 644, 'score': 0.4415121078491211},\n",
       "  {'corpus_id': 6728, 'score': 0.4333825707435608},\n",
       "  {'corpus_id': 7180, 'score': 0.4309496283531189},\n",
       "  {'corpus_id': 1492, 'score': 0.4134620726108551},\n",
       "  {'corpus_id': 3371, 'score': 0.4067052900791168},\n",
       "  {'corpus_id': 10262, 'score': 0.40257349610328674}],\n",
       " [{'corpus_id': 10772, 'score': 0.5396955013275146},\n",
       "  {'corpus_id': 2344, 'score': 0.5385386943817139},\n",
       "  {'corpus_id': 925, 'score': 0.508459210395813},\n",
       "  {'corpus_id': 6759, 'score': 0.500112771987915},\n",
       "  {'corpus_id': 4524, 'score': 0.4993616044521332},\n",
       "  {'corpus_id': 6632, 'score': 0.4954540729522705},\n",
       "  {'corpus_id': 7500, 'score': 0.49463164806365967},\n",
       "  {'corpus_id': 8273, 'score': 0.4867258667945862},\n",
       "  {'corpus_id': 9279, 'score': 0.4855497479438782},\n",
       "  {'corpus_id': 465, 'score': 0.47931376099586487}],\n",
       " [{'corpus_id': 9978, 'score': 0.513710081577301},\n",
       "  {'corpus_id': 6794, 'score': 0.4926045536994934},\n",
       "  {'corpus_id': 10367, 'score': 0.49145063757896423},\n",
       "  {'corpus_id': 4518, 'score': 0.4909561276435852},\n",
       "  {'corpus_id': 8115, 'score': 0.48971620202064514},\n",
       "  {'corpus_id': 10466, 'score': 0.48447415232658386},\n",
       "  {'corpus_id': 7215, 'score': 0.4803757071495056},\n",
       "  {'corpus_id': 1982, 'score': 0.4747315049171448},\n",
       "  {'corpus_id': 6524, 'score': 0.4725237488746643},\n",
       "  {'corpus_id': 3087, 'score': 0.4703733026981354}],\n",
       " [{'corpus_id': 9083, 'score': 0.5010966062545776},\n",
       "  {'corpus_id': 3777, 'score': 0.4965741038322449},\n",
       "  {'corpus_id': 10066, 'score': 0.49134838581085205},\n",
       "  {'corpus_id': 1727, 'score': 0.45147064328193665},\n",
       "  {'corpus_id': 2071, 'score': 0.4506399929523468},\n",
       "  {'corpus_id': 5951, 'score': 0.450344443321228},\n",
       "  {'corpus_id': 7094, 'score': 0.4327201545238495},\n",
       "  {'corpus_id': 7436, 'score': 0.4319644868373871},\n",
       "  {'corpus_id': 10844, 'score': 0.42961588501930237},\n",
       "  {'corpus_id': 9946, 'score': 0.4286281168460846}],\n",
       " [{'corpus_id': 3995, 'score': 0.4465380012989044},\n",
       "  {'corpus_id': 1418, 'score': 0.4413962662220001},\n",
       "  {'corpus_id': 9204, 'score': 0.4343125820159912},\n",
       "  {'corpus_id': 7102, 'score': 0.422701358795166},\n",
       "  {'corpus_id': 9175, 'score': 0.4185807704925537},\n",
       "  {'corpus_id': 2804, 'score': 0.4127230942249298},\n",
       "  {'corpus_id': 9286, 'score': 0.4041406512260437},\n",
       "  {'corpus_id': 9128, 'score': 0.4040070176124573},\n",
       "  {'corpus_id': 2596, 'score': 0.39974936842918396},\n",
       "  {'corpus_id': 2062, 'score': 0.3956526517868042}],\n",
       " [{'corpus_id': 3566, 'score': 0.5479544401168823},\n",
       "  {'corpus_id': 2663, 'score': 0.5314804911613464},\n",
       "  {'corpus_id': 807, 'score': 0.5099546909332275},\n",
       "  {'corpus_id': 7083, 'score': 0.49840736389160156},\n",
       "  {'corpus_id': 9327, 'score': 0.49585646390914917},\n",
       "  {'corpus_id': 10758, 'score': 0.4944787621498108},\n",
       "  {'corpus_id': 2137, 'score': 0.48973312973976135},\n",
       "  {'corpus_id': 5330, 'score': 0.4897247552871704},\n",
       "  {'corpus_id': 9944, 'score': 0.4862379729747772},\n",
       "  {'corpus_id': 5238, 'score': 0.4859016537666321}],\n",
       " [{'corpus_id': 5251, 'score': 0.5113391280174255},\n",
       "  {'corpus_id': 4199, 'score': 0.5021004676818848},\n",
       "  {'corpus_id': 2369, 'score': 0.501459538936615},\n",
       "  {'corpus_id': 7109, 'score': 0.47506481409072876},\n",
       "  {'corpus_id': 7712, 'score': 0.4713616967201233},\n",
       "  {'corpus_id': 2464, 'score': 0.46949300169944763},\n",
       "  {'corpus_id': 9531, 'score': 0.46922388672828674},\n",
       "  {'corpus_id': 9445, 'score': 0.46684443950653076},\n",
       "  {'corpus_id': 9212, 'score': 0.46650195121765137},\n",
       "  {'corpus_id': 3803, 'score': 0.46144914627075195}],\n",
       " [{'corpus_id': 10557, 'score': 0.5118967294692993},\n",
       "  {'corpus_id': 3610, 'score': 0.5021874904632568},\n",
       "  {'corpus_id': 4212, 'score': 0.4753950238227844},\n",
       "  {'corpus_id': 4166, 'score': 0.4627382755279541},\n",
       "  {'corpus_id': 6529, 'score': 0.44449156522750854},\n",
       "  {'corpus_id': 9657, 'score': 0.44395187497138977},\n",
       "  {'corpus_id': 6032, 'score': 0.44385430216789246},\n",
       "  {'corpus_id': 8090, 'score': 0.4422920346260071},\n",
       "  {'corpus_id': 5407, 'score': 0.4339871406555176},\n",
       "  {'corpus_id': 400, 'score': 0.4254436492919922}],\n",
       " [{'corpus_id': 8440, 'score': 0.6472057104110718},\n",
       "  {'corpus_id': 5950, 'score': 0.6244122982025146},\n",
       "  {'corpus_id': 1914, 'score': 0.5797081589698792},\n",
       "  {'corpus_id': 7994, 'score': 0.5777305960655212},\n",
       "  {'corpus_id': 3953, 'score': 0.5660581588745117},\n",
       "  {'corpus_id': 8940, 'score': 0.5347898006439209},\n",
       "  {'corpus_id': 7701, 'score': 0.5324375033378601},\n",
       "  {'corpus_id': 9150, 'score': 0.5281141996383667},\n",
       "  {'corpus_id': 4787, 'score': 0.5149182081222534},\n",
       "  {'corpus_id': 2041, 'score': 0.5146597623825073}],\n",
       " [{'corpus_id': 7497, 'score': 0.5315297842025757},\n",
       "  {'corpus_id': 2562, 'score': 0.524539589881897},\n",
       "  {'corpus_id': 961, 'score': 0.5165725946426392},\n",
       "  {'corpus_id': 861, 'score': 0.5101146697998047},\n",
       "  {'corpus_id': 7104, 'score': 0.500664234161377},\n",
       "  {'corpus_id': 7800, 'score': 0.49861669540405273},\n",
       "  {'corpus_id': 3892, 'score': 0.4970722198486328},\n",
       "  {'corpus_id': 2249, 'score': 0.49582505226135254},\n",
       "  {'corpus_id': 686, 'score': 0.4884876608848572},\n",
       "  {'corpus_id': 3605, 'score': 0.48701274394989014}],\n",
       " [{'corpus_id': 7711, 'score': 0.45154136419296265},\n",
       "  {'corpus_id': 9719, 'score': 0.42111045122146606},\n",
       "  {'corpus_id': 7951, 'score': 0.420631468296051},\n",
       "  {'corpus_id': 1012, 'score': 0.3879932165145874},\n",
       "  {'corpus_id': 8920, 'score': 0.3703247606754303},\n",
       "  {'corpus_id': 9473, 'score': 0.3621034026145935},\n",
       "  {'corpus_id': 8367, 'score': 0.35573720932006836},\n",
       "  {'corpus_id': 9097, 'score': 0.347470760345459},\n",
       "  {'corpus_id': 3122, 'score': 0.34255245327949524},\n",
       "  {'corpus_id': 5774, 'score': 0.3413914442062378}]]"
      ]
     },
     "execution_count": 26,
     "metadata": {},
     "output_type": "execute_result"
    }
   ],
   "source": [
    "hits = util.semantic_search(normalised_query_embeddings, normalised_docs_embeddings, score_function=util.dot_score)\n",
    "hits"
   ]
  },
  {
   "cell_type": "code",
   "execution_count": null,
   "metadata": {
    "trusted": true
   },
   "outputs": [],
   "source": []
  },
  {
   "cell_type": "markdown",
   "metadata": {},
   "source": [
    "Since it took a lot of time, let's save the embedding we previously computed"
   ]
  },
  {
   "cell_type": "code",
   "execution_count": 27,
   "metadata": {
    "execution": {
     "iopub.execute_input": "2025-05-23T15:52:51.607847Z",
     "iopub.status.busy": "2025-05-23T15:52:51.607213Z",
     "iopub.status.idle": "2025-05-23T15:52:51.668740Z",
     "shell.execute_reply": "2025-05-23T15:52:51.668165Z",
     "shell.execute_reply.started": "2025-05-23T15:52:51.607825Z"
    },
    "trusted": true
   },
   "outputs": [],
   "source": [
    "torch.save(corpus_embeddings, 'corpus_embeddings.pt')\n",
    "torch.save(normalised_docs_embeddings, 'norm_docs_embeddings.pt')\n",
    "torch.save(normalised_query_embeddings, 'norm_query_embeddings.pt')"
   ]
  },
  {
   "cell_type": "markdown",
   "metadata": {},
   "source": [
    "In order to load them the next time i have to do this"
   ]
  },
  {
   "cell_type": "code",
   "execution_count": null,
   "metadata": {
    "trusted": true
   },
   "outputs": [],
   "source": [
    "'''corpus_embeddings = torch.load('corpus_embeddings.pt')\n",
    "norm_docs_embeddings = torch.load('normalised_docs_embeddings.pt')\n",
    "norm_query_embeddings = torch.load('normalised_query_embeddings.pt')'''"
   ]
  },
  {
   "cell_type": "markdown",
   "metadata": {},
   "source": [
    "Let's now try and do the same thing with the cross encoder. Basically this model will be used to compute the similarity instead of using cosine similarity."
   ]
  },
  {
   "cell_type": "code",
   "execution_count": null,
   "metadata": {
    "execution": {
     "iopub.execute_input": "2025-05-23T15:57:47.758853Z",
     "iopub.status.busy": "2025-05-23T15:57:47.758564Z",
     "iopub.status.idle": "2025-05-23T16:06:47.597091Z",
     "shell.execute_reply": "2025-05-23T16:06:47.596413Z",
     "shell.execute_reply.started": "2025-05-23T15:57:47.758833Z"
    },
    "trusted": true
   },
   "outputs": [
    {
     "data": {
      "application/vnd.jupyter.widget-view+json": {
       "model_id": "f255fab318314e369841a36712b92de6",
       "version_major": 2,
       "version_minor": 0
      },
      "text/plain": [
       "Batches:   0%|          | 0/342 [00:00<?, ?it/s]"
      ]
     },
     "metadata": {},
     "output_type": "display_data"
    },
    {
     "name": "stdout",
     "output_type": "stream",
     "text": [
      "Query: \"She uploaded the latest app update to the cloud-based platform without a hitch.\"\n",
      "Top 5 most similar contexts:\n",
      "---------------------------------------\n",
      "Score: -5.1386 – \"5. eHarmony\n",
      "eHarmony is known as a platform that is top locating a soulmate and building effective relationships. In line with the supplied informatio...\", Digital/Online Services\n",
      "Score: -5.3458 – \"The latest Google real time auto-translation app update has promised to recognise a spoken language and make a real-time transcript of the words, as w...\", Digital/Online Services\n",
      "Score: -5.4027 – \"Read the Original Article at\n",
      "Google on Wednesday outlined its vision for the Internet, which will include a broad scope of technical ambitions using t...\", Digital/Online Services\n",
      "Score: -5.4532 – \"Business New platform transforms Excel spreadsheets into working web apps in minutes, automatically Image Credit: Craig Chew-Moulding November 13, 201...\", Digital/Online Services\n",
      "Score: -5.8853 – \"FatCloud Announces New Free Community Edition of FatDB Plus Free Cloud Based Trial Environment To celebrate its lower pricing structure FatCloud has r...\", Digital/Online Services\n",
      "\n",
      "\n"
     ]
    },
    {
     "data": {
      "application/vnd.jupyter.widget-view+json": {
       "model_id": "b266b91d12e446f6b741aa514d8521f2",
       "version_major": 2,
       "version_minor": 0
      },
      "text/plain": [
       "Batches:   0%|          | 0/342 [00:00<?, ?it/s]"
      ]
     },
     "metadata": {},
     "output_type": "display_data"
    },
    {
     "name": "stdout",
     "output_type": "stream",
     "text": [
      "Query: \"The director revealed the teaser trailer at the midnight screening.\"\n",
      "Top 5 most similar contexts:\n",
      "---------------------------------------\n",
      "Score: -2.7779 – \"'The Dark Knight Rises' Countdown: Fake Trailers and Feline Fatales\n",
      "Chris Clow is a comic book expert and contributor to Batman-On-Film.com. You can f...\", Film & Television\n",
      "Score: -4.3955 – \"210 – What Happens Nexton May 28th, 2009\n",
      "IN-DEPTH REVIEW OF THE SUPERFOGEYS OVER AT “DIGITAL STRIPS!”\n",
      "Wow. The Midnight Cartooner, a contributor at Di...\", Film & Television\n",
      "Score: -4.6109 – \"Calm Down, A ‘Rogue One’ Trailer is Coming\n",
      "There was plenty of buzz surrounding the upcoming addition to the Star Wars saga at San Diego Comic Con thi...\", Film & Television\n",
      "Score: -5.2504 – \"Some Guy Who Kills People is set to be the sleeper hit of the Toronto After Dark Film Festival. Though it screened at 1:30 pm on a Sunday afternoon, i...\", Film & Television\n",
      "Score: -5.2556 – \"Hi Folks, Have you watched this movie- 2012? Here's a little bit background on this movie:\n",
      "2012 is an epic adventure about a global cataclysm that bri...\", Film & Television\n",
      "\n",
      "\n"
     ]
    },
    {
     "data": {
      "application/vnd.jupyter.widget-view+json": {
       "model_id": "10ea4cd3758b4b3b84a7d503b09991c2",
       "version_major": 2,
       "version_minor": 0
      },
      "text/plain": [
       "Batches:   0%|          | 0/342 [00:00<?, ?it/s]"
      ]
     },
     "metadata": {},
     "output_type": "display_data"
    },
    {
     "name": "stdout",
     "output_type": "stream",
     "text": [
      "Query: \"The assembly line hummed as robotic arms welded the steel frame with precision.\"\n",
      "Top 5 most similar contexts:\n",
      "---------------------------------------\n",
      "Score: -4.2790 – \"Robot Arm\n",
      "This Project will produce a robot arm, approximately 1,2m long, with 3 knee-joints, 2 rotating joints and 5 degrees of freedom in total.\n",
      "The...\", Industrial & Machinery\n",
      "Score: -6.2318 – \"The giant steel-framed globe, a 31-foot steel structure on a roundabout in front of MOA, also known as the ‘MOA Globe’, greeted visitors of the mall s...\", Industrial & Machinery\n",
      "Score: -6.6602 – \"2. Early Entry, Lethality, and Survivability Operational Capability Requirements\n",
      "EEL01: Precision Line of Sight Munitions and Weapon Systems. Required...\", Industrial & Machinery\n",
      "Score: -6.9826 – \"-CRAFTSMANSHIP-Manufacturing of Daishin\n",
      "01/ 05\n",
      "Specialized in ultra-fine parts\n",
      "Daishin’s technology began with parts feeders of precision watch parts ...\", Industrial & Machinery\n",
      "Score: -7.1718 – \"Tape, a circle, a wire 50 NP - alloy 50\n",
      "International Equivalent\n",
      "Relevance\n",
      "The soft magnetic alloy precision 50 NP (50H) has a high magnetic permeabil...\", Industrial & Machinery\n",
      "\n",
      "\n"
     ]
    },
    {
     "data": {
      "application/vnd.jupyter.widget-view+json": {
       "model_id": "e11e256dd306471a84f7af4b74753ced",
       "version_major": 2,
       "version_minor": 0
      },
      "text/plain": [
       "Batches:   0%|          | 0/342 [00:00<?, ?it/s]"
      ]
     },
     "metadata": {},
     "output_type": "display_data"
    },
    {
     "name": "stdout",
     "output_type": "stream",
     "text": [
      "Query: \"He laced up his cleats just before kick-off under the stadium lights.\"\n",
      "Top 5 most similar contexts:\n",
      "---------------------------------------\n",
      "Score: -3.2247 – \"Courtesy of Victor Cruz's twitter page.\n",
      "In light of the horrible tragedy that shook the small town of Newtown, Connecticut, one NFL player is paying r...\", Sports & Athletics\n",
      "Score: -4.8232 – \"Flag on the Play: Misleading Energy Responses to the Super Bowl Blackout\n",
      "\"Flag on the Play: Misleading Energy Responses to the Super Bowl Blackout\" sp...\", Environment & Ecology\n",
      "Score: -5.2534 – \"City lose late on to Brackley\n",
      "Match Result\n",
      "The Minstermen were denied their first league win of the season as two late second half goals earned Brackl...\", Sports & Athletics\n",
      "Score: -5.4090 – \"TAMPA, Fla. --\n",
      "*****\n",
      "Bonani, a Sao Paolo native who moved to tiny Lake Wales, Fla., at age 11, learned before Wednesday's practice that he would suppl...\", Sports & Athletics\n",
      "Score: -5.5165 – \"Discuss 'YOUTH HOLD OFF THE CITIZENS AT THE BRIDGE' on our Forums\n",
      "A hugely entertaining first leg of the FA Youth Cup Final saw Chelsea come from behi...\", Sports & Athletics\n",
      "\n",
      "\n"
     ]
    },
    {
     "data": {
      "application/vnd.jupyter.widget-view+json": {
       "model_id": "52232e039a514243803a78406504161c",
       "version_major": 2,
       "version_minor": 0
      },
      "text/plain": [
       "Batches:   0%|          | 0/342 [00:00<?, ?it/s]"
      ]
     },
     "metadata": {},
     "output_type": "display_data"
    },
    {
     "name": "stdout",
     "output_type": "stream",
     "text": [
      "Query: \"She diversified her portfolio by investing in emerging market bonds last quarter.\"\n",
      "Top 5 most similar contexts:\n",
      "---------------------------------------\n",
      "Score: -4.2616 – \"Community Bank N.A. decreased its holdings in shares of United Parcel Service, Inc. (NYSE:UPS) by 6.0% during the 3rd quarter, according to the compan...\", Finance & Investment\n",
      "Score: -4.8693 – \"- : Emerging Stocks Rise as China Rallies on MSCI Index Speculation\n",
      "LAGOS, Nigeria, Capital Markets in Africa: Emerging-market stocks rose to a three-...\", Finance & Investment\n",
      "Score: -6.0347 – \"Simply Money Advisors decreased its holdings in SPDR S&P 500 ETF Trust (NYSEARCA:SPY) by 10.0% in the 4th quarter, according to the company in its mos...\", Finance & Investment\n",
      "Score: -6.1643 – \"Dell Inc. unveiled four low-cost computer models Wednesday designed for China, India and other emerging economies in a new bid to tap the potential of...\", Finance & Investment\n",
      "Score: -6.1697 – \"Does political risk deter FDI from emerging markets?\n",
      "“Ask anyone you meet on the street whether political risk has risen in the last few years, and yo...\", Finance & Investment\n",
      "\n",
      "\n"
     ]
    },
    {
     "data": {
      "application/vnd.jupyter.widget-view+json": {
       "model_id": "55f1c7c045494626b621541acd407299",
       "version_major": 2,
       "version_minor": 0
      },
      "text/plain": [
       "Batches:   0%|          | 0/342 [00:00<?, ?it/s]"
      ]
     },
     "metadata": {},
     "output_type": "display_data"
    },
    {
     "name": "stdout",
     "output_type": "stream",
     "text": [
      "Query: \"They sold out tickets to the championship gaming tournament in under an hour.\"\n",
      "Top 5 most similar contexts:\n",
      "---------------------------------------\n",
      "Score: -2.9329 – \"There are now 100 days to go until the FIFA Confederations Cup Brazil 2013 gets underway. More than 500,000 tickets have already been sold for the tou...\", Gaming & Events\n",
      "Score: -4.1465 – \"ArtsFest draws crowd\n",
      "Review Photo/James loewenstein Mark Panty of Etters, Pa., shows some of the trivets he was selling Sunday at ArtsFest.\n",
      "Review Pho...\", Gaming & Events\n",
      "Score: -4.4571 – \"A trip to the City Ground awaits for our upcoming fixture, an away EFL Cup clash with Championship side Nottingham Forest.\n",
      "Considering our convincing ...\", Sports & Athletics\n",
      "Score: -5.1309 – \"Coverage of The 147th Open on SiriusXM\n",
      "Jul 12, 2018, 07:00 ET\n",
      "SiriusXM's \"The Open Radio\" channel to present 48 hours of live hole-by-hole coverage Ju...\", Gaming & Events\n",
      "Score: -5.4538 – \"2017 Clarkson Cup presented by Scotiabank\n",
      "Sunday, March 5, 2017 @ 4 PM\n",
      "Canadian Tire Centre ● Ottawa, ON\n",
      "Tickets to the 2017 Clarkson Cup final are av...\", Gaming & Events\n",
      "\n",
      "\n"
     ]
    },
    {
     "data": {
      "application/vnd.jupyter.widget-view+json": {
       "model_id": "d2d026b77981407caa3cc2c4ab6b6ad9",
       "version_major": 2,
       "version_minor": 0
      },
      "text/plain": [
       "Batches:   0%|          | 0/342 [00:00<?, ?it/s]"
      ]
     },
     "metadata": {},
     "output_type": "display_data"
    },
    {
     "name": "stdout",
     "output_type": "stream",
     "text": [
      "Query: \"Guests strolled through the resort’s marble lobby, overlooking the sun-drenched terrace.\"\n",
      "Top 5 most similar contexts:\n",
      "---------------------------------------\n",
      "Score: 0.9488 – \"White marble floors glisten throughout the lobby and every Louis XIV style incidental table is adorned with a unique arrangement of freshly cut flower...\", Hospitality & Real Estate\n",
      "Score: -3.2683 – \"The Chess Hotel\n",
      "Grid of 31 images\n",
      "Featured Image Lobby Lobby Lobby Lobby Sitting Area Lobby Sitting Area Guestroom Guestroom Guestroom Guestroom Guest...\", Hospitality & Real Estate\n",
      "Score: -3.3093 – \" bunk beds (90/ 190) , 2 bedrooms with 2 single beds (90/ 190) and 2 master bedrooms ( 160/190 ), plus a reading corner with TV and a sofa bed for 1 p...\", Hospitality & Real Estate\n",
      "Score: -4.6680 – \"Wander round St Cézaire\n",
      "Explore the picturesque hilltop town, stop for a café au lait or a leisurely lunch on the square, meet the locals playing boul...\", Hospitality & Real Estate\n",
      "Score: -4.7284 – \"Palm Meadows Club is Bangalore Finest Luxury Business Resort for many corporate companies to gather for business events or to make a corporate team ou...\", Hospitality & Real Estate\n",
      "\n",
      "\n"
     ]
    },
    {
     "data": {
      "application/vnd.jupyter.widget-view+json": {
       "model_id": "ef885f53ff9943c0bd7b57ee86bab256",
       "version_major": 2,
       "version_minor": 0
      },
      "text/plain": [
       "Batches:   0%|          | 0/342 [00:00<?, ?it/s]"
      ]
     },
     "metadata": {},
     "output_type": "display_data"
    },
    {
     "name": "stdout",
     "output_type": "stream",
     "text": [
      "Query: \"He spent the afternoon lost in a novel about existentialism and the human condition.\"\n",
      "Top 5 most similar contexts:\n",
      "---------------------------------------\n",
      "Score: -5.3549 – \"One.\n",
      "Meillassoux has proposed that dichotomy theist/deist and atheist is a false dilemma (see fallacy of black and white, etc.). He calls this dilemma...\", Literature & Philosophy\n",
      "Score: -5.8982 – \"Ten years ago it would have been inconceivable for Philip Roth to publish a novel like The Plot Against America. From My Life as a Man to the blackly ...\", Politics & Public Affairs\n",
      "Score: -6.1371 – \"George Wylie Henderson (1904-1965) was a novelist and short-story writer whose works reflected a transition between the literary style of the Harlem R...\", Literature & Philosophy\n",
      "Score: -6.4054 – \"Truth\n",
      "Ellie Carless\n",
      "Geelong Grammar School\n",
      "Daniel had lived a rather non-existent life before this all happened. He kept himself contained between the...\", Literature & Philosophy\n",
      "Score: -6.9438 – \"Engineered to perfection\n",
      "I finally got around to finishing my listen through of Brave New World. It’s certainly deserving of its place on numerous ‘mu...\", Literature & Philosophy\n",
      "\n",
      "\n"
     ]
    },
    {
     "data": {
      "application/vnd.jupyter.widget-view+json": {
       "model_id": "985f3c401454475281f03ff66d01162d",
       "version_major": 2,
       "version_minor": 0
      },
      "text/plain": [
       "Batches:   0%|          | 0/342 [00:00<?, ?it/s]"
      ]
     },
     "metadata": {},
     "output_type": "display_data"
    },
    {
     "name": "stdout",
     "output_type": "stream",
     "text": [
      "Query: \"The clinic introduced a cutting-edge diagnostic tool to improve patient outcomes.\"\n",
      "Top 5 most similar contexts:\n",
      "---------------------------------------\n",
      "Score: -0.7211 – \"Title\n",
      "Providing patient-centered enhanced discharge planning and rural transition support: Building a rural transitions network between regional refer...\", Healthcare & Medicine\n",
      "Score: -2.2737 – \"OrthoSensor Introduces NEW Clinical and Economic Advantages with its Sensors at the American Academy of Orthopaedic Surgeons\n",
      "Mar 12, 2019, 08:42 ET\n",
      "DA...\", Wellness & Personal Care\n",
      "Score: -2.8516 – \"How CMOs Can Solve the Next Set of Hospital Challenges\n",
      "FOR IMMEDIATE RELEASE\n",
      "Hospitals have systems in place that were designed to store, access and d...\", Healthcare & Medicine\n",
      "Score: -3.3841 – \"Connect Care: Strengthening Connections within Healthcare for Albertans\n",
      "Scott Simmons, Connect Care CORe Lead (Diagnostic Imaging)\n",
      "Alberta Health Serv...\", Healthcare & Medicine\n",
      "Score: -3.4202 – \"Is VR physical therapy the key to helping paraplegics walk again?\n",
      "There’s more to virtual reality (VR) than immersing yourself in the gorgeous scenery...\", Healthcare & Medicine\n",
      "\n",
      "\n"
     ]
    },
    {
     "data": {
      "application/vnd.jupyter.widget-view+json": {
       "model_id": "e7b8688ea56c4244be5beda05248fe48",
       "version_major": 2,
       "version_minor": 0
      },
      "text/plain": [
       "Batches:   0%|          | 0/342 [00:00<?, ?it/s]"
      ]
     },
     "metadata": {},
     "output_type": "display_data"
    },
    {
     "name": "stdout",
     "output_type": "stream",
     "text": [
      "Query: \"She curated a capsule wardrobe to streamline her daily style routine.\"\n",
      "Top 5 most similar contexts:\n",
      "---------------------------------------\n",
      "Score: -4.0594 – \"image: 2014AW Capsule Rain in Eclipse, photo by M. SILVESTER/ editorial by Oka HuiYun Lin\n",
      "After viewing the post of Notjustalabel.com’s ‘Shirt’ select...\", Art & Design\n",
      "Score: -5.0852 – \"London Based Fashion Technology start-up Metail has partnered with British Glamour for a European first in immersive online editorial fashion\n",
      "Cambridg...\", Art & Design\n",
      "Score: -6.2861 – \"Priming Is Essential\n",
      "One of the biggest mistakes women with 'oily' skin make is not integrating a primer into their daily routine. Primers offer a hug...\", Wellness & Personal Care\n",
      "Score: -6.6774 – \"The prices indicated in this catalogue do not include shipping costs.\n",
      "Fabiana Filippi's shirts and blouses are the perfect base to create solid modern...\", Art & Design\n",
      "Score: -6.9450 – \"Name: Sik'sani Qin'dalasque\n",
      "Race: Drowolath\n",
      "Age: 43\n",
      "Equipment:\n",
      "On and Off her person\n",
      "One dagger (hidden), two hidden knives and there are four knives ...\", Literature & Philosophy\n",
      "\n",
      "\n"
     ]
    },
    {
     "data": {
      "application/vnd.jupyter.widget-view+json": {
       "model_id": "4165b267dd69417fb95c13ce79fbc1e4",
       "version_major": 2,
       "version_minor": 0
      },
      "text/plain": [
       "Batches:   0%|          | 0/342 [00:00<?, ?it/s]"
      ]
     },
     "metadata": {},
     "output_type": "display_data"
    },
    {
     "name": "stdout",
     "output_type": "stream",
     "text": [
      "Query: \"Lawmakers convened to draft the new regulations on data privacy and trade compliance.\"\n",
      "Top 5 most similar contexts:\n",
      "---------------------------------------\n",
      "Score: -1.4382 – \"Care homes must have their house in order, now that the new General Data Protection Regulation (GDPR) has come into effect. Introduced two years ago, ...\", Healthcare & Medicine\n",
      "Score: -2.4777 – \"Bangladesh Bank governor Fazle Kabir and Bangladesh Institute of Bank Management director general Toufic Ahmad Choudhury are seen with the officials h...\", Finance & Investment\n",
      "Score: -2.8367 – \"BUSINESS RULES\n",
      "by Bruce Silver\n",
      "Major IT initiatives may be a tough sell in this economy, but many\n",
      "organizations are investing in order to meet governm...\", Finance & Investment\n",
      "Score: -2.9966 – \"Global Mapping S.A.C. operating company of globalmapping.biz (hereinafter Global Mapping)respects your right to online privacy when you use our websit...\", Digital/Online Services\n",
      "Score: -3.4424 – \"James Thew - Fotolia\n",
      "IAM a core building block for GDPR compliance\n",
      "Identity and access management is key to enabling organisations to become compliant...\", Digital/Online Services\n",
      "\n",
      "\n"
     ]
    },
    {
     "data": {
      "application/vnd.jupyter.widget-view+json": {
       "model_id": "3a10189421c8484ab2bdbbabbe733903",
       "version_major": 2,
       "version_minor": 0
      },
      "text/plain": [
       "Batches:   0%|          | 0/342 [00:00<?, ?it/s]"
      ]
     },
     "metadata": {},
     "output_type": "display_data"
    },
    {
     "name": "stdout",
     "output_type": "stream",
     "text": [
      "Query: \"He savored the flaky croissant while reading the recipe for boulangerie perfection.\"\n",
      "Top 5 most similar contexts:\n",
      "---------------------------------------\n",
      "Score: -6.3480 – \"This month I've been on a little holiday in Europe. I'm currently in the countryside not too far from Limoges, which is roughly in the centre of Franc...\", Food & Culinary\n",
      "Score: -6.3949 – \"As soon as it hits October I start planning my Thanksgiving dinner. This year, I started planning in September. I blame the covid quarantine. In case ...\", Food & Culinary\n",
      "Score: -7.4903 – \"Those who follow my blog might remember we hosted a very special reception at our home a couple of months ago. So far, I only shared one of the recipe...\", Food & Culinary\n",
      "Score: -7.6112 – \"22 Mar Show your pride in the South African Culinary Olympics team!\n",
      "It was a rainy evening and we were stuck in the middle of rush-hour traffic. “So w...\", Food & Culinary\n",
      "Score: -7.6635 – \"I’m a lady who needs her coffee. Sure, I know how to make it at home and often do, by the carafe-full. Sometimes, however, life requires you to head t...\", Food & Culinary\n",
      "\n",
      "\n"
     ]
    },
    {
     "data": {
      "application/vnd.jupyter.widget-view+json": {
       "model_id": "36409a1f214d4019a82d2d6eacd1b7b3",
       "version_major": 2,
       "version_minor": 0
      },
      "text/plain": [
       "Batches:   0%|          | 0/342 [00:00<?, ?it/s]"
      ]
     },
     "metadata": {},
     "output_type": "display_data"
    },
    {
     "name": "stdout",
     "output_type": "stream",
     "text": [
      "Query: \"The candidate outlined her vision for education reform during the televised debate.\"\n",
      "Top 5 most similar contexts:\n",
      "---------------------------------------\n",
      "Score: -2.2542 – \"Support for including Intelligent Design creationism in science classes deep sixed Judy Johnson's run for state senate.\n",
      "For immediate release\n",
      "Prehisto...\", Politics & Public Affairs\n",
      "Score: -3.4051 – \"Rep. Steve Knight, challenger Katie Hill spar over special interest money in Simi debate\n",
      "U.S. Rep. Steve Knight and challenger Katie Hill sparred over...\", Politics & Public Affairs\n",
      "Score: -4.3236 – \"Tensions within the world's most powerful media family were dramatically laid bare on Thursday when Elisabeth Murdoch set out her own vision of media ...\", Film & Television\n",
      "Score: -4.6297 – \"EDWARD F. MARONEY PHOTO\n",
      "THIS WAY TO THE MICROPHONE – That seems to be the advice Gov. Deval Patrick, right, is offering to rivals Charlie Baker, left,...\", Politics & Public Affairs\n",
      "Score: -4.7157 – \"Esther McVey has called for fairer funding for Cheshire schools and demanded answers as to why the area misses out to areas such as London.\n",
      "The Tatton...\", Education & Research\n",
      "\n",
      "\n"
     ]
    },
    {
     "data": {
      "application/vnd.jupyter.widget-view+json": {
       "model_id": "ced97c80708e45bf88c9bcd3f926933d",
       "version_major": 2,
       "version_minor": 0
      },
      "text/plain": [
       "Batches:   0%|          | 0/342 [00:00<?, ?it/s]"
      ]
     },
     "metadata": {},
     "output_type": "display_data"
    },
    {
     "name": "stdout",
     "output_type": "stream",
     "text": [
      "Query: \"Volunteers conducted a beach cleanup to protect the fragile coastal ecosystem.\"\n",
      "Top 5 most similar contexts:\n",
      "---------------------------------------\n",
      "Score: -2.6140 – \"Creek Cleanup FAQ’s\n",
      "Q: What do I need to know about creek cleanups? Are they different from a beach or neighborhood cleanup?\n",
      "A: Cleaning up a creek ha...\", Environment & Ecology\n",
      "Score: -4.8163 – \"- Programs\n",
      "- Boating\n",
      "- Green boating\n",
      "- Boat responsibility\n",
      "Boat responsibility\n",
      "Operate & maintain your boat responsibly\n",
      "How boaters operate and mainta...\", Wellness & Personal Care\n",
      "Score: -4.9707 – \"\n",
      "Attraction by Types\n",
      "beaches\n",
      "Islands\n",
      "waterfalls\n",
      "temples\n",
      "nationalparks\n",
      "museums\n",
      "animals\n",
      "nightlife\n",
      "Attraction by City\n",
      "Amphoe Muang\n",
      "Amphoe Kathu\n",
      "Amphoe Th...\", Environment & Ecology\n",
      "Score: -6.2402 – \"Coral Gardeners\n",
      "Coral Gardeners\n",
      "October-2020\n",
      "Regenerate the coral reef systems with Coral Gardeners\n",
      "We wanted to share with you a little bit about Cor...\", Environment & Ecology\n",
      "Score: -6.4343 – \"Pete Ceglinski, an Australian surfer looking to clean the world’s oceans one marina at a time\n",
      "By CHRIS ASHTON\n",
      "Pollution in our oceans is a man-made di...\", Environment & Ecology\n",
      "\n",
      "\n"
     ]
    },
    {
     "data": {
      "application/vnd.jupyter.widget-view+json": {
       "model_id": "bfab08be60504cde96f740715b950890",
       "version_major": 2,
       "version_minor": 0
      },
      "text/plain": [
       "Batches:   0%|          | 0/342 [00:00<?, ?it/s]"
      ]
     },
     "metadata": {},
     "output_type": "display_data"
    },
    {
     "name": "stdout",
     "output_type": "stream",
     "text": [
      "Query: \"She blended acrylics to capture the vibrant hues of the urban skyline at dusk.\"\n",
      "Top 5 most similar contexts:\n",
      "---------------------------------------\n",
      "Score: -6.2397 – \"Leading up to the shipping of my entire makeup collection from one country to another, I came across products in the archives that I'd almost forgotte...\", Art & Design\n",
      "Score: -7.7189 – \"Good morning, crafters! Design Team Member Cynthia here with a final project featuring several of the latest Kat Scrappiness goodies. For this card, I...\", Art & Design\n",
      "Score: -7.7698 – \"The Urban Decay Naked Skin Foundation (proper & long name = Urban Decay Weightless Ultra Definition Liquid Makeup) shot into the limelight a couple of...\", Art & Design\n",
      "Score: -8.2318 – \"\n",
      "16 comments:\n",
      "\"One of my favourite accessories here at the house is..\"\n",
      "And here I thought it was going to end with:\n",
      "\"...the girl in the second picture...\", Art & Design\n",
      "Score: -8.6477 – \"At dusk, we stopped along our way to Tofino, parking at the signs marked 'Ancient Forest: Cathedral Grove'. At that time of night the moss ceremonious...\", Environment & Ecology\n",
      "\n",
      "\n"
     ]
    },
    {
     "data": {
      "application/vnd.jupyter.widget-view+json": {
       "model_id": "82589c50c9a44105adc14954751c56ba",
       "version_major": 2,
       "version_minor": 0
      },
      "text/plain": [
       "Batches:   0%|          | 0/342 [00:00<?, ?it/s]"
      ]
     },
     "metadata": {},
     "output_type": "display_data"
    },
    {
     "name": "stdout",
     "output_type": "stream",
     "text": [
      "Query: \"Researchers presented their groundbreaking findings on renewable energy sources.\"\n",
      "Top 5 most similar contexts:\n",
      "---------------------------------------\n",
      "Score: 1.2387 – \"AUSTIN—Today, the Texas Public Policy Foundation released the research paper, The Economic Fall and Political Rise of Renewable Energy.\n",
      "The paper’s au...\", Finance & Investment\n",
      "Score: -1.2008 – \"Please enable Javascript in your browser.\n",
      "Researchers worldwide are working to develop new technologies for producing clean energy. A team of research...\", Industrial & Machinery\n",
      "Score: -2.6774 – \"Renewable Energy and Health: Me, Myself and I\n",
      "In the continuing debate surrounding how, why, when, where and whether we should move decisively ahead w...\", Wellness & Personal Care\n",
      "Score: -2.7935 – \"Coal, oil, and natural gas are still dominant sources of energy despite the fact that renewable energy is getting more and more supporters. Wind power...\", Finance & Investment\n",
      "Score: -3.2396 – \"State Grid China teams up with German tech association on smart energy\n",
      "Both organisations have experience and expertise in integration and standardiza...\", Finance & Investment\n",
      "\n",
      "\n"
     ]
    },
    {
     "data": {
      "application/vnd.jupyter.widget-view+json": {
       "model_id": "d162ab95c84147178c90bca4050efe61",
       "version_major": 2,
       "version_minor": 0
      },
      "text/plain": [
       "Batches:   0%|          | 0/342 [00:00<?, ?it/s]"
      ]
     },
     "metadata": {},
     "output_type": "display_data"
    },
    {
     "name": "stdout",
     "output_type": "stream",
     "text": [
      "Query: \"The DJ mixed vintage vinyl records to curate the perfect summer soundtrack.\"\n",
      "Top 5 most similar contexts:\n",
      "---------------------------------------\n",
      "Score: -2.9979 – \"Spotify released its official “Song of the Summer” list this week, and and it’s filled with tracks you’ve probably had stuck in your head over the pas...\", Music & Audio\n",
      "Score: -3.3983 – \"Some trunk rattling awesomeness for your Mother’s Day weekend.\n",
      "Ty Dolla $ign – Beach House 3 Deluxe\n",
      "Last year, Ty Dolla $ign blessed the masses with t...\", Music & Audio\n",
      "Score: -3.6043 – \"Artist(s): G.O.O.D. Music\n",
      "Cruel Summer is looking more like just another summer gone by.\n",
      "Review Score: 3.8\n",
      "It’s been a long and grueling summer for mu...\", Music & Audio\n",
      "Score: -4.3465 – \"\n",
      "Mar\n",
      "25\n",
      "Sexy Funky Electro House Set Chris Humphrey\n",
      "Posted (\n",
      "admin\n",
      ") in\n",
      "House Music News\n",
      "on March-25-2006\n",
      "Coming from Ibiza Spain Chris Humphreys know...\", Music & Audio\n",
      "Score: -5.5894 – \"The soundtrack to the much-hyped film House of Wax is on the shelves, thanks to the Maverick label. The disc mires down in metallic grunge for most of...\", Music & Audio\n",
      "\n",
      "\n"
     ]
    },
    {
     "data": {
      "application/vnd.jupyter.widget-view+json": {
       "model_id": "96ffa7d35bf8491b95e3982387f11dcf",
       "version_major": 2,
       "version_minor": 0
      },
      "text/plain": [
       "Batches:   0%|          | 0/342 [00:00<?, ?it/s]"
      ]
     },
     "metadata": {},
     "output_type": "display_data"
    },
    {
     "name": "stdout",
     "output_type": "stream",
     "text": [
      "Query: \"He practiced mindfulness meditation to maintain balance amid his hectic schedule.\"\n",
      "Top 5 most similar contexts:\n",
      "---------------------------------------\n",
      "Score: -3.8127 – \"One of the more recent discoveries of neuroscience is that when you stare into space, gather wool, daydream, or otherwise let your mind wander, the “d...\", Lifestyle & Personal Interests\n",
      "Score: -4.4015 – \"\"My husband knew that I found Therapeutic Touch helpful and comforting but didn't believe it really worked until Tama did a session for me and nurses ...\", Healthcare & Medicine\n",
      "Score: -4.5501 – \"All About Yoga And Why It’s Good For You\n",
      "All About Yoga and Why It’s Good For You\n",
      "Yoga’s popularity is on the rise. No matter where you live, it is li...\", Wellness & Personal Care\n",
      "Score: -4.7199 – \"QV, Sewickley Academy coaches value preseason practice for winter sports\n",
      "TribLIVE Sports Videos\n",
      "Yoga is part of one team's workouts as squads at Quake...\", Sports & Athletics\n",
      "Score: -5.1472 – \"It quotes self-help author Gabrielle Bernstein -- who, of course, has a new book coming out (“May Cause Miracles: A 40-Day Guidebook of Subtle Shifts ...\", Lifestyle & Personal Interests\n",
      "\n",
      "\n"
     ]
    }
   ],
   "source": [
    "import numpy as np\n",
    "\n",
    "import textwrap  \n",
    "\n",
    "MAX_CHARS = 150\n",
    "TOP_K = 5\n",
    "\n",
    "for query in queries:\n",
    "    \n",
    "    xenc_model_inputs = [[query, context] for context in contexts]\n",
    "    # compute similaruty\n",
    "    scores = xenc_model.predict(xenc_model_inputs)\n",
    "\n",
    "    # i take highest TOP_K \n",
    "    top_idxs = np.argsort(-scores)[:TOP_K]\n",
    "\n",
    "    print(f\"Query: \\\"{query}\\\"\")\n",
    "    print(\"Top 5 most similar contexts:\")\n",
    "    print(\"---------------------------------------\")\n",
    "    for idx in top_idxs:\n",
    "        full_ctx = contexts[idx]\n",
    "        # hortening contex\n",
    "        short_ctx = full_ctx[:MAX_CHARS] + (\"...\" if len(full_ctx) > MAX_CHARS else \"\")\n",
    "       \n",
    "\n",
    "        print(f\"Score: {scores[idx]:.4f} – \\\"{short_ctx}\\\", {lab[idx]}\")\n",
    "    print(\"\\n\")"
   ]
  },
  {
   "cell_type": "markdown",
   "metadata": {},
   "source": [
    "Very nice: as we can see in many cases the labels match!"
   ]
  },
  {
   "cell_type": "markdown",
   "metadata": {},
   "source": [
    "When we use an embedding model with cosine similarity, we can pre-compute the embeddings in our data set and index them to speed-up the search. There are techniques for Approximate Nearest Neighbor (ANN), which use clustering to index the embedding space and speed-up the search process. Let's do indexing with HNSWLIB"
   ]
  },
  {
   "cell_type": "code",
   "execution_count": 35,
   "metadata": {
    "execution": {
     "iopub.execute_input": "2025-05-23T16:11:42.934798Z",
     "iopub.status.busy": "2025-05-23T16:11:42.934488Z",
     "iopub.status.idle": "2025-05-23T16:11:42.939151Z",
     "shell.execute_reply": "2025-05-23T16:11:42.938390Z",
     "shell.execute_reply.started": "2025-05-23T16:11:42.934780Z"
    },
    "trusted": true
   },
   "outputs": [],
   "source": [
    "import hnswlib\n",
    "\n",
    "index = hnswlib.Index(space='cosine', dim=corpus_embeddings.size(1))"
   ]
  },
  {
   "cell_type": "markdown",
   "metadata": {},
   "source": [
    "Now we can index our data. The index we compute can be saved and loaded, so we can check if it is already availabel and load it (this will save time)"
   ]
  },
  {
   "cell_type": "code",
   "execution_count": 36,
   "metadata": {
    "execution": {
     "iopub.execute_input": "2025-05-23T16:11:45.324157Z",
     "iopub.status.busy": "2025-05-23T16:11:45.323896Z",
     "iopub.status.idle": "2025-05-23T16:11:45.358899Z",
     "shell.execute_reply": "2025-05-23T16:11:45.358310Z",
     "shell.execute_reply.started": "2025-05-23T16:11:45.324141Z"
    },
    "trusted": true
   },
   "outputs": [
    {
     "name": "stdout",
     "output_type": "stream",
     "text": [
      "Loading index...\n"
     ]
    }
   ],
   "source": [
    "import os\n",
    "\n",
    "# Define hnswlib index path\n",
    "index_path = \"./hnswlib.index\"\n",
    "\n",
    "# Load index if available\n",
    "if os.path.exists(index_path):\n",
    "    print(\"Loading index...\")\n",
    "    index.load_index(index_path)\n",
    "# Else index data collection\n",
    "else:\n",
    "    # Initialise the index\n",
    "    print(\"Start creating HNSWLIB index\")\n",
    "    index.init_index(max_elements=corpus_embeddings.size(0), ef_construction=400, M=64)\n",
    "    #  Compute the HNSWLIB index (it may take a while)\n",
    "    index.add_items(corpus_embeddings.cpu(), list(range(len(corpus_embeddings))))\n",
    "    # Save the index to a file for future loading\n",
    "    print(\"Saving index to:\", index_path)\n",
    "    index.save_index(index_path)"
   ]
  },
  {
   "cell_type": "markdown",
   "metadata": {},
   "source": [
    "Let's see if it's actually faster by measuring the running time"
   ]
  },
  {
   "cell_type": "code",
   "execution_count": 40,
   "metadata": {
    "execution": {
     "iopub.execute_input": "2025-05-23T16:13:29.059756Z",
     "iopub.status.busy": "2025-05-23T16:13:29.059030Z",
     "iopub.status.idle": "2025-05-23T16:13:29.069053Z",
     "shell.execute_reply": "2025-05-23T16:13:29.068434Z",
     "shell.execute_reply.started": "2025-05-23T16:13:29.059733Z"
    },
    "trusted": true
   },
   "outputs": [
    {
     "name": "stdout",
     "output_type": "stream",
     "text": [
      "Search time with index: 0:00:00.002146\n",
      "Search time without index: 0:00:00.003131\n"
     ]
    }
   ],
   "source": [
    "from datetime import datetime\n",
    "\n",
    "# Search using index\n",
    "t_start = datetime.now()\n",
    "_ = index.knn_query(queries_embeddings[0].cpu(), k=128)\n",
    "t_stop = datetime.now()\n",
    "print(f\"Search time with index: {t_stop - t_start}\")\n",
    "\n",
    "# Search without index\n",
    "t_start = datetime.now()\n",
    "_ = util.semantic_search(queries_embeddings, corpus_embeddings, score_function=util.cos_sim, top_k=128)\n",
    "t_stop = datetime.now()\n",
    "print(f\"Search time without index: {t_stop - t_start}\")"
   ]
  },
  {
   "cell_type": "markdown",
   "metadata": {},
   "source": [
    "Reranking\n",
    "Since the cross encoder gives better results but is slower than cosine similarity, we can take advantage of both: We can do a first search with bi-encoder models and then re-rank the top- k  results with a cross-encoder. We call this approach retrieve and re-rank."
   ]
  },
  {
   "cell_type": "markdown",
   "metadata": {},
   "source": [
    "Let's define a new random query (we could have used one of those generated before)"
   ]
  },
  {
   "cell_type": "code",
   "execution_count": 41,
   "metadata": {
    "execution": {
     "iopub.execute_input": "2025-05-23T16:13:33.426341Z",
     "iopub.status.busy": "2025-05-23T16:13:33.425634Z",
     "iopub.status.idle": "2025-05-23T16:13:33.451700Z",
     "shell.execute_reply": "2025-05-23T16:13:33.450878Z",
     "shell.execute_reply.started": "2025-05-23T16:13:33.426320Z"
    },
    "trusted": true
   },
   "outputs": [
    {
     "data": {
      "application/vnd.jupyter.widget-view+json": {
       "model_id": "842cafcac7b1468aacd95616db2ee548",
       "version_major": 2,
       "version_minor": 0
      },
      "text/plain": [
       "Batches:   0%|          | 0/1 [00:00<?, ?it/s]"
      ]
     },
     "metadata": {},
     "output_type": "display_data"
    }
   ],
   "source": [
    "query = \"Who is the president of the United States?\"\n",
    "query_embedding = semb_model.encode(query, convert_to_tensor=True)"
   ]
  },
  {
   "cell_type": "markdown",
   "metadata": {},
   "source": [
    "Search using ANN index"
   ]
  },
  {
   "cell_type": "code",
   "execution_count": 42,
   "metadata": {
    "execution": {
     "iopub.execute_input": "2025-05-23T16:13:35.724827Z",
     "iopub.status.busy": "2025-05-23T16:13:35.724241Z",
     "iopub.status.idle": "2025-05-23T16:13:35.730638Z",
     "shell.execute_reply": "2025-05-23T16:13:35.729944Z",
     "shell.execute_reply.started": "2025-05-23T16:13:35.724803Z"
    },
    "trusted": true
   },
   "outputs": [
    {
     "name": "stdout",
     "output_type": "stream",
     "text": [
      "Cosine similarity model search results\n",
      "Query: \"Who is the president of the United States?\"\n",
      "---------------------------------------\n",
      "Score: 0.4851\n",
      "Document: \"UUA Presidential Search Committee begins its work\n",
      "Created by 2010 General Assembly vote, committee will pick two nominees for 2017 UUA presidential election.\n",
      "That system is changing. In 2010, the General Assembly approved the creation of a Presidential Search Committee and charged it with selecting at least two nominees for president. The General Assembly also shortened the president's term of office from two four-year terms to a single six-year term.\n",
      "Members of the search committee were selected in 2013. This spring they are exploring how a system might be created that would be open to more people. \"The goal of the committee is to not just select candidates,\" said the Rev. Dr. Matthew Johnson, co-chair, \"but to think creatively and systematically about what the job entails and to broaden the circle of people willing to consider this opportunity.\"\n",
      "\"I've seen the presidency just take a toll on the people who have occupied it,\" Johnson said. \"In part that's because it has not been clear about what is and is not part of the job.\"\n",
      "So the committee is creating a job description. \"Currently there isn't one,\" said Johnson. \"There are references scattered throughout the UUA bylaws, but nothing more than a line here and there—that the president shall act as CEO, shall serve on this or that committee, or make appointments to other committees. One of the things we're determining is: What is the job? What cannot be delegated?\"\n",
      "The committee has seven members. Johnson is senior minister of the UU Church of Rockford, Ill. Liz Jones, the other co-chair, is director of religious education and family ministry at First UU Church of San Diego. The Rev. Dr. Michael Tino is minister of the UU Fellowship of Northern Westchester in Mt. Kisco, N.Y. Elandria Williams, a member of Tennessee Valley UU Church in Knoxville, Tenn., is an educator at the Highlander Research and Education Center in New Market, Tenn. Jacqui C. Williams, a member of First UU Society of Albany, N.Y., is an anti-oppression consultant and founder of Filling in the Gaps in American History. The Rev. Wayne Arnason is co-minister of West Shore UU Church in Rocky River, Ohio. The Rev. Joanna Fontaine Crawford is a minister at First UU Church of Houston, Tex.\n",
      "\"We have a wide variety of experience,\" said Johnson. \"We're balanced geographically and we represent small to large congregations.\" The Board of Trustees named Jones and Fontaine Crawford to the committee. The others were selected by the UUA Nominating Committee and elected by the General Assembly. They will each serve a six-year term.\n",
      "To develop the job description, committee members are talking with former presidents and runners-up as well as former moderators. They will also be in touch with about thirty stakeholder groups.\n",
      "The committee met for the first time in October 2013. It will meet three times a year in person and monthly by phone. In May, it will meet in Houston to draft the job description, which will be discussed at a workshop at the General Assembly in Providence, R.I., in June and presented online. The work of the committee can be followed through its blog, UUA Presidential Search Committee. All of its meetings are open to the public.\n",
      "Johnson is quick to dispel any perception that the committee was created to give certain candidates the inside track. \"That is simply not the case. We have all checked our assumptions at the door about who the nominees might be. We won't even begin to talk about names until this fall.\"\n",
      "Starting this fall through General Assembly 2015 in Portland, Ore., the committee will solicit names of potential candidates.\n",
      "Ultimately the committee will select two or more nominees for the 2017 presidential election. Other candidates may run by petition.\n",
      "Two questions loom large. The UUA has never had a female president or one who was a layperson. But that doesn't mean those two groups have an edge, said Johnson. \"No decisions have been made.\"\n",
      "The committee is also discussing campaign finance limits. \"We have presented some options to the board in regards to a top limit on fundraising—enough money to travel and pay for materials,\" said Johnson. \"It will be up to the board to decide on those limits, and up to the Election Campaign Practices Committee to enforce those limits.\" The committee also plans to suggest a limit on individual donations.\n",
      "Limiting the cost is one way to make it easier for people to run, said Johnson. Another way is to limit how much travel a candidate should have to do. \"With the way that technology has changed, we think there's a better way to campaign than to fly to 16 district meetings,\" said Johnson. \"More appearances could be made electronically.\" The committee will be reviewing campaign finance statements from the past four elections.\n",
      "What has been lacking when the UUA selects its top leadership is a sense of community and common progress, Johnson believes. \"There isn't a sense of what we are seeking together. We want the process to be driven more by the movement and less by personal interest.\"\n",
      "A version of this article appeared in the Summer 2014 issue of UU World (page 49). Photograph (above): Members of the UUA Presidential Search Committee, front row, from left: the Rev. Dr. Michael Tino and Elandria Williams; back row, from left: the Rev. Wayne Arnason, Liz Jones, the Rev. Joanna Fontaine Crawford, the Rev. Matthew Johnson, and Jacqui C. Williams. See sidebar for links to related resources.Comments powered by Disqus\"\n",
      "\n",
      "\n",
      "Score: 0.4102\n",
      "Document: \"JAKARTA, KOMPAS.com – Indonesian President Joko ‘Jokowi’ Widodo is set to give his maiden speech to the United Nations General Assembly, more than five years after his first term as the country’s head of state.\n",
      "Unlike other heads of state who made their way through New York's Manhattan traffic to the UN headquarters to deliver their speech, Jokowi’s oration is determined by the Covid-19 pandemic ravaging Indonesia and the rest of the world.\n",
      "“[The Presidential Secretariat] will be tapping [sic] Jokowi’s speech beforehand, as it will be delivered virtually in line with Covid-19 [health protocols],” said Presidential Secretariat Head Heru Budi Hartono on September 22.\n",
      "Also read: Indonesia Calls for Greater ASEAN-US Cooperation to Combat Covid-19\n",
      "“It will be played on the UN General Assembly at 8.30pm on September 22 in New York, or 7.30am, September 23 Jakarta time.”\n",
      "Heru added that President Jokowi will make his speech for the Assembly’s Open Debate session, where he and other heads of state will convey their visions and policies. Heru declined to say what the President will highlight on his speech.\n",
      "Aside from Jokowi, Foreign Minister Retno Marsudi, Environment and Forestry Ministry Siti Nurbaya, and Women’s Empowerment and Child Protection I Gusti Ayu Bintang Darmawati will also address the UN General Assembly.\n",
      "Also read: Indonesia Urges Myanmar to Resolve Conflict with the Rohingya\n",
      "Jokowi has yet to address the UN General Assembly, since he was inaugurated as Indonesia’s seventh President after he won the 2014 presidential elections.\n",
      "From then until 2019, then-Vice President Jusuf Kalla has gone to New York to deliver the speech to the annual UN General Assembly on Jokowi’s behalf.\"\n",
      "\n",
      "\n",
      "Score: 0.3979\n",
      "Document: \"Florida Gov. Rick Scott (R) played politics by reaching out to Donald Trump and not President Obama following the Fort Lauderdale airport shooting.\n",
      "Um, apparently he doesn’t know we have one president at a time.\n",
      "He was asked by reporters during a press conference this evening, saying he had contacted Trump and Mike Pence. When pressed why he hadn’t reached out to President Obama, he said this wasn’t the time to play politics. Um, he just did.\n",
      "Florida Gov. Rick Scott says he has reached out to Trump and Pence since the shooting, but not POTUS. pic.twitter.com/y8iVykaxV3\n",
      "— ABC News Politics (@ABCPolitics) January 6, 2017\n",
      "Reaction on Twitter:\n",
      "Ricki Scott is another racist who's also been a criminal and still managed to stay in office. #RickScott They all stick together.\n",
      "— Terry McMillan (@MsTerryMcMillan) January 6, 2017\n",
      "Obviously Gov. Rick Scott cares more about his personal relationship with Trump than he does about the people of Fort Lauderdale.\n",
      "— melissa 🌻 (@meliiibeth) January 6, 2017\n",
      "Unbelievable. @FLGovScott calls President-Elect @realDonaldTrump & not @POTUS @BarackObama regarding #FtLauderdaleShooting.\n",
      "— Rev Jesse Jackson Sr (@RevJJackson) January 6, 2017\n",
      "Governor Rick Scott apparently doesn't know we only have one president at a time. He only called Trump, who isn't acting president…\n",
      "— Khary Penebaker (@kharyp) January 6, 2017\n",
      "Gov Rick Scott insults Obama by contacting Trump & Pence _ who are NOT in office. More GOP arrogance dismissing a sitting president.\n",
      "— Norma Love (@APnlove) January 6, 2017\n",
      "Rick Scott is a jackass. Trump and Pence can't help, they aren't in office yet. Obama and Biden can help if asked.\n",
      "— Eric Dorsey (@EricGDorsey) January 6, 2017\n",
      ".@FLGovScott What a dispicable, repugnant act — to politicize the death of 5 people by repeatedly saying u reached out to Trump, not @POTUS\n",
      "— Brett Haber (@BrettHaber) January 6, 2017\n",
      "What \"resources\" can president-elect trump give Rick Scott and Florida right now? O is still the president the last time I checked.\n",
      "— thefieldnegro (@fieldnegro) January 6, 2017\n",
      "Rick Scott is counting the days 'til his BFFs Trump & Pence take office. I'm doing the same 'til Scott leaves office:\n",
      "731 days and counting\n",
      "— Denise (@Cocosilk73) January 6, 2017\n",
      "I feel terrible for Florida residents right now for so many reasons, not the lest of which is that they have to be governed by Rick Scott .\n",
      "— Lyndsey Christine (@Lyndsey_withaY) January 6, 2017\"\n",
      "\n",
      "\n"
     ]
    }
   ],
   "source": [
    "corpus_ids, distances = index.knn_query(query_embedding.cpu(), k=3)\n",
    "scores = 1 - distances\n",
    "\n",
    "print(\"Cosine similarity model search results\")\n",
    "print(f\"Query: \\\"{query}\\\"\")\n",
    "print(\"---------------------------------------\")\n",
    "for idx, score in zip(corpus_ids[0], scores[0]):\n",
    "    print(f\"Score: {score:.4f}\\nDocument: \\\"{contexts[idx]}\\\"\\n\\n\")"
   ]
  },
  {
   "cell_type": "markdown",
   "metadata": {},
   "source": [
    "Let's add the re-ranking"
   ]
  },
  {
   "cell_type": "code",
   "execution_count": 43,
   "metadata": {
    "execution": {
     "iopub.execute_input": "2025-05-23T16:13:48.084120Z",
     "iopub.status.busy": "2025-05-23T16:13:48.083436Z",
     "iopub.status.idle": "2025-05-23T16:13:48.508627Z",
     "shell.execute_reply": "2025-05-23T16:13:48.507929Z",
     "shell.execute_reply.started": "2025-05-23T16:13:48.084099Z"
    },
    "trusted": true
   },
   "outputs": [
    {
     "data": {
      "application/vnd.jupyter.widget-view+json": {
       "model_id": "3adf0c0b32ef4afc9d8189d40ee077f5",
       "version_major": 2,
       "version_minor": 0
      },
      "text/plain": [
       "Batches:   0%|          | 0/4 [00:00<?, ?it/s]"
      ]
     },
     "metadata": {},
     "output_type": "display_data"
    },
    {
     "name": "stdout",
     "output_type": "stream",
     "text": [
      "Cross-encoder model re-ranking results\n",
      "Query: \"Who is the president of the United States?\"\n",
      "---------------------------------------\n",
      "Score: 0.7632\n",
      "Document: \"Why It Makes A Difference!\n",
      "The President of the United States is a liar. Not a tiny weenie white liar, but a Sociopathic Liar. His word is not worth the air he is allowed to use to say it. Why Does It Make A Difference? It is because the leader of the Free World MUST be Trusted. When the President of the United States is willing to repeatedly Testify to lies, then who should our Children look up to? Sports Figures? When everyone within the Obama Administration is willing to SAY and do anything regardless of TRUTH, then why would anyone in the WORLD believe in America or Her Freedoms.\n",
      "The recent admission to IRS intimidation against “Tea Party” shows the level of tyrannical Leadership that Mr. Obama is willing to stoop. With the passage of the Obama Care TAX legislation, imagine the CONTROL that our Massive “Progressive” Government will inflict on the Freedoms guaranteed to AMERICAN Citizens by Crushing the Constitution and Bill of Rights through a Tyrannical Regulatory State.\n",
      "Why does it make a Difference when I have lost Faith in the Government of the People, when the President of the United States is Liar, manipulator and Sociopathic Collective Salvation Freak? It matters because now I don’t trust any national political leadership of either or any party. I don’t trust the Fairness of the system that is being foisted on ME.\n",
      "I don’t believe that these leader don’t have Death Panels, because I know of Their Complete Lives System and Statistical Differentials. Outcomes Based Medicine. The Truth is there will be and always has been Death Panels, but they won’t tell you the Truth and we know they are all Liars. Why, because our President is a Liar. There is not enough of Everything for Everybody to have All. They WILL run out of Other People’s Money.\n",
      "President Obama’s latest thing is to imply that people are being “Self Radicalized”. Now He Will tell you this Lie through his Minions, the FBI, CIA or The State Department, DHS but WE now Know that they are ALL ADMITTED Liars like the President. You see, nobody is SELf Radicalized. The media, movies, TV, news let alone Violent Video Games and the Stupid Divisive Political Rhetoric to organize Communities Against each other with Anger and Hate are seen by most people and guess what? The LIARS own all those people. The are admittedly used by Their Masters to Push Their Agenda. They believe that the Non-Political Class are “Pedestrian” hardly someone who needs to be told the Truth.\n",
      "This is why it makes a difference, because now I have been manipulated (not Self Radicalized) into not believing anything that my Government says or does. I will take Mr. Obama ‘s Speech to the United Nations and now know that he LIED to the World because of HIS need to Push HIS Anti-American/Anti-Constitutional Agenda on the World. Some Illusion of World Peace through Redistributive Change in World Power. Empowerment of an Anti-Separation of Church and State World run by Religious Theocrats. His Vision includes an Islamic Caliphate where an Orthodox Unified Islam crushes IT’S Citizens with Anti-Human Rights Shari’a based Muslim Brotherhood Rule.\n",
      "Even if you tell me now that it is just a Crazy Right Wing Conspiracy, I won’t believe you because now I have lost faith in My Country, My People and my God. Why, because my President is a Liar! That’s why It Makes A Difference!\n",
      "You must be some sort of fool if you didn’t realize prior to this week that the President lied. ALL Presidents lie! I can’t remember a President in my lifetime that didn’t lie, starting with JFK…get over it!\n",
      "Just remember: Benghazi which was not even an embassy but a consulate is the one attack in the last decade that you remember and you give Bush Jr a pass on Iraq & 9/11?\n",
      "“Patriotism is the last refuge of a scoundrel”. Samuel Johnson\n",
      "Obama is doing all this but without a plan. He is letting Sharia take over by doing enough for them to topple the government, then going away and leaving the Muslim Brotherhood to take over. George Bush had his flaws, but when he went into Iraq, he had a plan. He did not run in then out. And 9/11 was a terrorist attack, George couldn’t exactly tell the terrorists to chill out could he?!\n",
      "Facinating that someone would respond from the Administration. I am the last person to suggest that the World is not a War with Orthodox Islam…\n",
      "…these are the Liar in Chief’s talking Points that somehow absolve the current Administration from it’s Unholy Alliance with Orthodox Islam through the Shari’a Laws of the Muslim Brotherhood and the Ruling Saudi Wahabbism. To go before the United Nations, let alone Mexico, and put a target on every American’s Backs by supporting Shari’a based “Slander” Laws justifying Islamic Terrorism against Freedom of Speech!\n",
      "You are right…Foolish!\n",
      "It is really all of a single thing. It is easy, in fact much easier, to support Sharia in America if you refuse to speak up for the First Amendment in our dealings with the world. Sharia for oil?\n",
      "It is easy to send more armed men after a YouTube video producer than sending armed men to protect people under attack.\n",
      "It is far easier to get welfare, SNAP, Section 8 housing (NO 1099-GOV issued!) than to be a wage slave/contractor and get your W2/1099-MISC.\n",
      "It is easy to give freedom away. It is very hard to earn it back.\"\n",
      "\n",
      "\n",
      "Score: -2.3547\n",
      "Document: \"OK, quick now: Who is the Archivist of the United States? Now you know why this article is entitled “The What?”. Today’s article will not only answer that question but give you something to ponder. Let’s explore.\n",
      "The United States has an Archivist and his name is David Ferriro. Mr. Ferriro is the tenth Archivist of the United States (there were four who held the position for less than a year in an acting capacity). The position was established in 1934. The Archivist is appointed by the President and subject to Senate confirmation. Ferriro took his post in 2009.\n",
      "At this point you have to be scratching your head wondering why in the world I’m writing about this. Well, as of two weeks ago I was among the hundreds of millions who didn’t even know the position existed (I’ll get to its significance below) then a friend lent me a novel that was only a bit above penny dreadful status based upon the myth that the 16th Amendment –which allows for the federal income tax – was never properly ratified by the states. Without going down that rabbit hole; the bottom line is that in any event don’t hold your breath waiting for the income tax to disappear (unless you are Donald Trump or a senior member of his crew).\n",
      "In order to amend the Constitution the text must be passed by two-thirds of each chamber of Congress and then ratified by three-quarters of the states. Most Americans were taught that and many (I’m certain the vast majority of my American readers) remember it. Various states have various methods for ratifying an amendment to the United States’ Constitution. The issue is who certifies that a sufficient number of states ratified the amendment? It turns out that under current law the lone and basically unchallengeable authority in the matter is the Archivist of the United States.\n",
      "Now we get into what if territory. What if a president was in their second term and wanted to stay beyond the end of it? Currently the 22nd Amendment limits a president to two terms so that amendment would have to be nullified; perhaps even to the degree to allow a president for life.\n",
      "Under the current laws that would require 327 votes in the House (assuming all 435 members were present and voting), 67 votes in the Senate (regardless of “attendance”) and ratification by 38 states. Admittedly as things stand at the moment I can’t see such an amendment making it out of either, let alone both, chambers of Congress. Nor do I see it happening in any predictable configuration of the next Congress. Considering all the things that are happening in DC which we never thought could happen in America; for the sake of this discussion let’s assume that the amendment made it out of DC and to the states.\n",
      "Under our current system if the Archivist of the United States certified that 38 states ratified the amendment that is the end of the story regardless of reality. That is a dangerous situation!\n",
      "This is not a reflection on Ferriro or his integrity. Since he took office in 2009 I see no reason to assume he is a Trump stooge or would take part in something like this. However, Trump has purged countless loyal civil servants and appointees when they did not serve his purposes. What is there to stop him from replacing Ferriro? He could then appoint another sycophant, as he has done so many times already, and if he retains just 50 seats in the Senate have them confirmed. Then if he could get the amendment through Congress the states really would not serve as a backstop.\n",
      "I’ll admit today’s scenario is a bit wild and very unlikely. Perhaps I’ve been reading a bit too much post World War I 20th century European history lately. If nothing else we have all learned a history lesson and now know that the United States has an Archivist (who actually has many more duties).\n",
      "This article is the property of tellthetruthonthem.com and its content may not be used without citing the source. It may not be reproduced without the permission of Larry Marciniak.\"\n",
      "\n",
      "\n",
      "Score: -2.8141\n",
      "Document: \"The Middle East also wants a change\n",
      "One might think that Gerald Ford (of whom it was said that he could not walk and chew gum at the same time) is the leading candidate for president of the United States. Otherwise, it is impossible to explain why the left fears (and the right hopes) that Barack Obama (or perhaps even John McCain) will be up to his neck in the economic crisis for months and will be unavailable for dipping in the Middle Eastern swamp. By that time the Likud will have established a government of refusal, or perhaps a unity government, i.e., a government of paralysis. The traditional Jewish lobby will see to it that Obama will not hassle Benjamin Netanyahu (or perhaps after all the prime minister will be Tzipi Livni) about Jerusalem and the Jewish settlements in the West Bank. And a savior has come to Zion.\n",
      "Intensive care for the Israeli-Arab conflict need not necessarily interfere with rescuing the economy; rather, political and security stability in this irritable region could also contribute to soothing the markets. However, the decision to postpone until better days dealing with the regional crisis works to the advantage of those elements that will exploit stasis to ensure the coming days will be worse. \"Our\" conflict resembles a car in which the transmission offer a choice between driving onward or retreating in reverse. Our leaders have, after all, taught us that a truce enables terror organizations to get organized and arm themselves in advance of the next round.\n",
      "In the zero-sum game between Fatah and Hamas, any hiatus in the diplomatic talks to advance the end of the occupation strengthens the elements that propose the alternative of violence to obtain the same aim. The decision by the American president to sit on the fence will tear the pants of proponents of a two-state solution.\n",
      "Obama's slogan, \"Change We Need,\" is especially apt with regard to American policy in the Middle East. The new menu has been waiting since December 2006, for the president who will know how to draw the correct conclusions from the \"axis of evil\" policy and \"the democratization of the Middle East.\" This is detailed in the report submitted to Congress and the current U.S. president by James Baker (secretary of state and White House chief of staff for George Bush Sr.) and Lee Hamilton, chair of the Congressional Foreign Affairs Committee on behalf of the Democrats. The team of experts they headed pointed to a direct connection between the Israeli-Arab conflict and other problems in the Middle East, such as dealing with the regimes in Iran and in Syria. The U.S. cannot achieve its aims in the Middle East without dealing directly with the Arab-Israeli conflict, they said. They recommended taking action to establish a regional framework to support the stabilization of Iraq, which would include the neighboring Arab countries. Another recommendation was that the U.S. find a way to enter into a dialogue with Syria and even with Iran, as they border on Iraq and constitute a necessary factor in stabilizing it. Even though the experts acknowledged the problematics of dialogue with Iran, they note that Afghanistan had cooperated with the United States.\n",
      "Obama will have at his disposal a very important tool for implementing the recommended change; Palestinian President Mahmoud Abbas has related that after Obama received an explanation of the Arab peace initiative of 2002, he said that it was madness on Israel's part to have missed that opportunity. Indeed, it is hard to think of any move that would isolate Iran and embarrass Hamas and Hezbollah more than a regional peace agreement and two American embassies in Jerusalem, in the western part for Israel and in the eastern part for Palestine. Recently the Arab initiative has found favor among senior elements in Israel, led by the president and by the leaders of Kadima and of Labor. It will not wait forever for an Israeli partner..\n",
      "The new president will be sworn in not long before the citizens of Israel go to the polls. They deserve to know what Middle East policy the new prime minister they are about to elect will encounter when he (or she) comes to visit the White House. This will help them choose the direction of the change that they want at home.\"\n",
      "\n",
      "\n"
     ]
    }
   ],
   "source": [
    "corpus_ids, _ = index.knn_query(query_embedding.cpu(), k=128)\n",
    "\n",
    "model_inputs = [(query, contexts[idx]) for idx in corpus_ids[0]]\n",
    "cross_scores = xenc_model.predict(model_inputs)\n",
    "\n",
    "print(\"Cross-encoder model re-ranking results\")\n",
    "print(f\"Query: \\\"{query}\\\"\")\n",
    "print(\"---------------------------------------\")\n",
    "for idx in np.argsort(-cross_scores)[:3]:\n",
    "    print(f\"Score: {cross_scores[idx]:.4f}\\nDocument: \\\"{contexts[corpus_ids[0][idx]]}\\\"\\n\\n\")"
   ]
  },
  {
   "cell_type": "markdown",
   "metadata": {},
   "source": [
    "Finally, let's see if our dataset is big enough to give correct answers to generic questions just by finding the most similar question in the dataset and giving its associated answer. It should work kind of like a chatbot"
   ]
  },
  {
   "cell_type": "markdown",
   "metadata": {},
   "source": [
    "Let's first compute the answers' embeddings"
   ]
  },
  {
   "cell_type": "code",
   "execution_count": 44,
   "metadata": {
    "execution": {
     "iopub.execute_input": "2025-05-23T16:13:54.456186Z",
     "iopub.status.busy": "2025-05-23T16:13:54.455912Z",
     "iopub.status.idle": "2025-05-23T16:13:58.504932Z",
     "shell.execute_reply": "2025-05-23T16:13:58.504375Z",
     "shell.execute_reply.started": "2025-05-23T16:13:54.456166Z"
    },
    "trusted": true
   },
   "outputs": [
    {
     "data": {
      "application/vnd.jupyter.widget-view+json": {
       "model_id": "2769dfbf1418461cb58257267f6d513c",
       "version_major": 2,
       "version_minor": 0
      },
      "text/plain": [
       "Batches:   0%|          | 0/342 [00:00<?, ?it/s]"
      ]
     },
     "metadata": {},
     "output_type": "display_data"
    }
   ],
   "source": [
    "answers = all_data['answer'].tolist()\n",
    "answers_embeddings = semb_model.encode(answers, convert_to_tensor=True, show_progress_bar=True)"
   ]
  },
  {
   "cell_type": "code",
   "execution_count": 45,
   "metadata": {
    "execution": {
     "iopub.execute_input": "2025-05-23T16:13:59.215132Z",
     "iopub.status.busy": "2025-05-23T16:13:59.214729Z",
     "iopub.status.idle": "2025-05-23T16:14:01.575652Z",
     "shell.execute_reply": "2025-05-23T16:14:01.575115Z",
     "shell.execute_reply.started": "2025-05-23T16:13:59.215105Z"
    },
    "trusted": true
   },
   "outputs": [
    {
     "data": {
      "application/vnd.jupyter.widget-view+json": {
       "model_id": "8bbfca34275a4f55aa04e81ec65aeb1a",
       "version_major": 2,
       "version_minor": 0
      },
      "text/plain": [
       "Batches:   0%|          | 0/342 [00:00<?, ?it/s]"
      ]
     },
     "metadata": {},
     "output_type": "display_data"
    }
   ],
   "source": [
    "questions = all_data['question'].tolist()\n",
    "questions_embeddings = semb_model.encode(questions, convert_to_tensor=True, show_progress_bar=True)"
   ]
  },
  {
   "cell_type": "code",
   "execution_count": 46,
   "metadata": {
    "execution": {
     "iopub.execute_input": "2025-05-23T16:14:02.685654Z",
     "iopub.status.busy": "2025-05-23T16:14:02.685016Z",
     "iopub.status.idle": "2025-05-23T16:14:06.036780Z",
     "shell.execute_reply": "2025-05-23T16:14:06.035958Z",
     "shell.execute_reply.started": "2025-05-23T16:14:02.685628Z"
    },
    "trusted": true
   },
   "outputs": [
    {
     "name": "stdout",
     "output_type": "stream",
     "text": [
      "Start creating HNSWLIB index\n",
      "Saving index to: ./emp_dialogue_hnswlib.index\n"
     ]
    }
   ],
   "source": [
    "# Create empty index\n",
    "hnswlib_index = hnswlib.Index(space='cosine', dim=questions_embeddings.size(1))\n",
    "\n",
    "# Define hnswlib index path\n",
    "index_path = \"./emp_dialogue_hnswlib.index\"\n",
    "\n",
    "# Load index if available\n",
    "if os.path.exists(index_path):\n",
    "    print(\"Loading index...\")\n",
    "    hnswlib_index.load_index(index_path)\n",
    "# Else index data collection\n",
    "else:\n",
    "    # Initialise the index\n",
    "    print(\"Start creating HNSWLIB index\")\n",
    "    hnswlib_index.init_index(max_elements=questions_embeddings.size(0), ef_construction=400, M=64)\n",
    "    #  Compute the HNSWLIB index (it may take a while)\n",
    "    hnswlib_index.add_items(questions_embeddings.cpu(), list(range(len(questions_embeddings))))\n",
    "    # Save the index to a file for future loading\n",
    "    print(\"Saving index to:\", index_path)\n",
    "    hnswlib_index.save_index(index_path)"
   ]
  },
  {
   "cell_type": "code",
   "execution_count": null,
   "metadata": {
    "execution": {
     "iopub.execute_input": "2025-05-23T16:14:14.426000Z",
     "iopub.status.busy": "2025-05-23T16:14:14.425733Z",
     "iopub.status.idle": "2025-05-23T16:14:14.431570Z",
     "shell.execute_reply": "2025-05-23T16:14:14.430897Z",
     "shell.execute_reply.started": "2025-05-23T16:14:14.425979Z"
    },
    "trusted": true
   },
   "outputs": [],
   "source": [
    "import numpy as np\n",
    "def get_response(\n",
    "    message: str,\n",
    "    questions_embeddings,     # array/tensor of questions embeddings\n",
    "    answers: list[str],       # answers list\n",
    "    index,                    # hnswlib.Index with questions_embeddings\n",
    "    re_ranking_model=None,    #  cross-encoder\n",
    "    top_k: int = 32\n",
    ") -> str:\n",
    "   \n",
    "    message_emb = semb_model.encode(message, convert_to_tensor=True).cpu().numpy()\n",
    "\n",
    "   \n",
    "    corpus_ids, _ = index.knn_query(message_emb, k=top_k)\n",
    "\n",
    "    \n",
    "    candidate_idxs = corpus_ids[0]\n",
    "    if re_ranking_model is not None:\n",
    "        model_inputs = [\n",
    "            (message, answers[i])\n",
    "            for i in candidate_idxs\n",
    "        ]\n",
    "        cross_scores = re_ranking_model.predict(model_inputs) \n",
    "        best_pos = np.argmax(cross_scores)\n",
    "        best_idx = candidate_idxs[best_pos]\n",
    "    else:\n",
    "       \n",
    "        best_idx = candidate_idxs[0]\n",
    "    return answers[best_idx]"
   ]
  },
  {
   "cell_type": "code",
   "execution_count": null,
   "metadata": {
    "execution": {
     "iopub.execute_input": "2025-05-23T16:14:17.506918Z",
     "iopub.status.busy": "2025-05-23T16:14:17.506649Z",
     "iopub.status.idle": "2025-05-23T16:14:17.562976Z",
     "shell.execute_reply": "2025-05-23T16:14:17.562247Z",
     "shell.execute_reply.started": "2025-05-23T16:14:17.506899Z"
    },
    "trusted": true
   },
   "outputs": [
    {
     "data": {
      "application/vnd.jupyter.widget-view+json": {
       "model_id": "fede4a781d69446e92dce9835c2eedcc",
       "version_major": 2,
       "version_minor": 0
      },
      "text/plain": [
       "Batches:   0%|          | 0/1 [00:00<?, ?it/s]"
      ]
     },
     "metadata": {},
     "output_type": "display_data"
    },
    {
     "data": {
      "application/vnd.jupyter.widget-view+json": {
       "model_id": "e202f3105f1e4f3f9da8cfbb9e3368e7",
       "version_major": 2,
       "version_minor": 0
      },
      "text/plain": [
       "Batches:   0%|          | 0/1 [00:00<?, ?it/s]"
      ]
     },
     "metadata": {},
     "output_type": "display_data"
    },
    {
     "name": "stdout",
     "output_type": "stream",
     "text": [
      "Chatbot says: Albert Einstein's most famous paper was the Special Theory of Relativity. It revealed that the speed of light is a constant against which even time and space lose their absolute meaning.\n"
     ]
    }
   ],
   "source": [
    "chatbot_response = get_response(\n",
    "    \"who is einstein?\", \n",
    "    questions_embeddings,                \n",
    "    answers,                            \n",
    "    hnswlib_index,                        \n",
    "    re_ranking_model=xenc_model,          \n",
    "    top_k=32                              \n",
    ")\n",
    "\n",
    "print(\"Chatbot says:\", chatbot_response)\n"
   ]
  },
  {
   "cell_type": "markdown",
   "metadata": {},
   "source": [
    "As we could imagine, not the best result even thought if we are lucky the responses actully make some sense. Of course this is because the dataset we have is not that big"
   ]
  }
 ],
 "metadata": {
  "kaggle": {
   "accelerator": "gpu",
   "dataSources": [
    {
     "databundleVersionId": 12409991,
     "datasetId": 7483252,
     "sourceId": 11904301,
     "sourceType": "datasetVersion"
    },
    {
     "databundleVersionId": 12431183,
     "datasetId": 7496264,
     "sourceId": 11923323,
     "sourceType": "datasetVersion"
    },
    {
     "databundleVersionId": 12431392,
     "datasetId": 7398577,
     "sourceId": 11923513,
     "sourceType": "datasetVersion"
    },
    {
     "databundleVersionId": 12409982,
     "datasetId": 7483247,
     "sourceId": 11904292,
     "sourceType": "datasetVersion"
    },
    {
     "databundleVersionId": 12409970,
     "datasetId": 7483238,
     "sourceId": 11904281,
     "sourceType": "datasetVersion"
    }
   ],
   "dockerImageVersionId": 31040,
   "isGpuEnabled": true,
   "isInternetEnabled": true,
   "language": "python",
   "sourceType": "notebook"
  },
  "kernelspec": {
   "display_name": "Python 3",
   "language": "python",
   "name": "python3"
  },
  "language_info": {
   "codemirror_mode": {
    "name": "ipython",
    "version": 3
   },
   "file_extension": ".py",
   "mimetype": "text/x-python",
   "name": "python",
   "nbconvert_exporter": "python",
   "pygments_lexer": "ipython3",
   "version": "3.11.11"
  }
 },
 "nbformat": 4,
 "nbformat_minor": 4
}

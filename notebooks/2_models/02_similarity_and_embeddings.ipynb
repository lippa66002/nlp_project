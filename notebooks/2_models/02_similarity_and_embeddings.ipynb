{
 "cells": [
  {
   "cell_type": "markdown",
   "source": [
    "###Let's start by installing the required libraries.\n",
    "After this we have to restart runtime. This phase actually took a lot of time because of a lot of conflicts, this is why it's quite messy."
   ],
   "metadata": {
    "id": "JlO1r9ZmURgT"
   },
   "id": "JlO1r9ZmURgT"
  },
  {
   "cell_type": "code",
   "source": [
    "# 1. Upgrade pip\n",
    "!pip install --upgrade pip --quiet\n",
    "print(\"pip upgraded.\")\n",
    "\n",
    "!pip install numpy>=2.0.0 --force-reinstall --no-cache-dir --quiet\n",
    "print(\"Attempted to force install numpy >= 2.0.0.\")\n",
    "\n",
    "# 3. Install Pandas (hopefully it aligns with the newly installed NumPy)\n",
    "!pip install pandas --force-reinstall --no-cache-dir --quiet\n",
    "print(\"Attempted to force reinstall pandas.\")\n",
    "\n",
    "!pip install datasets scikit-learn gensim sentence-transformers plotly matplotlib seaborn --quiet\n",
    "print(\"Installed other core libraries for similarity analysis.\")\n",
    "\n",
    "print(\"\\n\\n***********************************************************\")\n",
    "print(\"***** CELL 1 EXECUTION FINISHED (FOCUSED INSTALLATIONS) *****\")\n",
    "print(\"***** !!!! IMPORTANT: RESTART YOUR RUNTIME/KERNEL NOW !!!! *****\")\n",
    "print(\"***** After restarting, run CELL 2 (Imports & Config) *****\")\n",
    "print(\"***********************************************************\")"
   ],
   "metadata": {
    "colab": {
     "base_uri": "https://localhost:8080/"
    },
    "id": "zxiMjGjDM0zv",
    "outputId": "b58b7909-1326-4f71-bc18-577e4c682dd0"
   },
   "id": "zxiMjGjDM0zv",
   "execution_count": null,
   "outputs": [
    {
     "output_type": "stream",
     "name": "stdout",
     "text": [
      "\u001b[?25l   \u001b[90m━━━━━━━━━━━━━━━━━━━━━━━━━━━━━━━━━━━━━━━━\u001b[0m \u001b[32m0.0/1.8 MB\u001b[0m \u001b[31m?\u001b[0m eta \u001b[36m-:--:--\u001b[0m\r\u001b[2K   \u001b[91m━━━━━━━━━━━━━━━━━━━━━━━━━━━━\u001b[0m\u001b[90m╺\u001b[0m\u001b[90m━━━━━━━━━━━\u001b[0m \u001b[32m1.3/1.8 MB\u001b[0m \u001b[31m40.4 MB/s\u001b[0m eta \u001b[36m0:00:01\u001b[0m\r\u001b[2K   \u001b[91m━━━━━━━━━━━━━━━━━━━━━━━━━━━━━━━━━━━━━━━\u001b[0m\u001b[91m╸\u001b[0m \u001b[32m1.8/1.8 MB\u001b[0m \u001b[31m43.9 MB/s\u001b[0m eta \u001b[36m0:00:01\u001b[0m\r\u001b[2K   \u001b[90m━━━━━━━━━━━━━━━━━━━━━━━━━━━━━━━━━━━━━━━━\u001b[0m \u001b[32m1.8/1.8 MB\u001b[0m \u001b[31m23.8 MB/s\u001b[0m eta \u001b[36m0:00:00\u001b[0m\n",
      "\u001b[?25hpip upgraded.\n",
      "\u001b[31mERROR: pip's dependency resolver does not currently take into account all the packages that are installed. This behaviour is the source of the following dependency conflicts.\n",
      "tensorflow 2.18.0 requires numpy<2.1.0,>=1.26.0, but you have numpy 2.2.6 which is incompatible.\n",
      "numba 0.60.0 requires numpy<2.1,>=1.22, but you have numpy 2.2.6 which is incompatible.\u001b[0m\u001b[31m\n",
      "\u001b[0mAttempted to force install numpy >= 2.0.0.\n",
      "\u001b[2K   \u001b[90m━━━━━━━━━━━━━━━━━━━━━━━━━━━━━━━━━━━━━━━━\u001b[0m \u001b[32m13.1/13.1 MB\u001b[0m \u001b[31m521.0 MB/s\u001b[0m eta \u001b[36m0:00:00\u001b[0m\n",
      "\u001b[2K   \u001b[90m━━━━━━━━━━━━━━━━━━━━━━━━━━━━━━━━━━━━━━━━\u001b[0m \u001b[32m16.8/16.8 MB\u001b[0m \u001b[31m498.7 MB/s\u001b[0m eta \u001b[36m0:00:00\u001b[0m\n",
      "\u001b[2K   \u001b[90m━━━━━━━━━━━━━━━━━━━━━━━━━━━━━━━━━━━━━━━━\u001b[0m \u001b[32m6/6\u001b[0m [pandas]\n",
      "\u001b[1A\u001b[2K\u001b[31mERROR: pip's dependency resolver does not currently take into account all the packages that are installed. This behaviour is the source of the following dependency conflicts.\n",
      "google-colab 1.0.0 requires pandas==2.2.2, but you have pandas 2.2.3 which is incompatible.\n",
      "tensorflow 2.18.0 requires numpy<2.1.0,>=1.26.0, but you have numpy 2.2.6 which is incompatible.\n",
      "numba 0.60.0 requires numpy<2.1,>=1.22, but you have numpy 2.2.6 which is incompatible.\u001b[0m\u001b[31m\n",
      "\u001b[0mAttempted to force reinstall pandas.\n",
      "\u001b[2K   \u001b[90m━━━━━━━━━━━━━━━━━━━━━━━━━━━━━━━━━━━━━━━━\u001b[0m \u001b[32m26.7/26.7 MB\u001b[0m \u001b[31m146.4 MB/s\u001b[0m eta \u001b[36m0:00:00\u001b[0m\n",
      "\u001b[2K   \u001b[90m━━━━━━━━━━━━━━━━━━━━━━━━━━━━━━━━━━━━━━━━\u001b[0m \u001b[32m18.3/18.3 MB\u001b[0m \u001b[31m46.6 MB/s\u001b[0m eta \u001b[36m0:00:00\u001b[0m\n",
      "\u001b[2K   \u001b[90m━━━━━━━━━━━━━━━━━━━━━━━━━━━━━━━━━━━━━━━━\u001b[0m \u001b[32m38.6/38.6 MB\u001b[0m \u001b[31m60.8 MB/s\u001b[0m eta \u001b[36m0:00:00\u001b[0m\n",
      "\u001b[2K   \u001b[90m━━━━━━━━━━━━━━━━━━━━━━━━━━━━━━━━━━━━━━━━\u001b[0m \u001b[32m363.4/363.4 MB\u001b[0m \u001b[31m46.1 MB/s\u001b[0m eta \u001b[36m0:00:00\u001b[0m\n",
      "\u001b[2K   \u001b[90m━━━━━━━━━━━━━━━━━━━━━━━━━━━━━━━━━━━━━━━━\u001b[0m \u001b[32m13.8/13.8 MB\u001b[0m \u001b[31m163.7 MB/s\u001b[0m eta \u001b[36m0:00:00\u001b[0m\n",
      "\u001b[2K   \u001b[90m━━━━━━━━━━━━━━━━━━━━━━━━━━━━━━━━━━━━━━━━\u001b[0m \u001b[32m24.6/24.6 MB\u001b[0m \u001b[31m176.0 MB/s\u001b[0m eta \u001b[36m0:00:00\u001b[0m\n",
      "\u001b[2K   \u001b[90m━━━━━━━━━━━━━━━━━━━━━━━━━━━━━━━━━━━━━━━━\u001b[0m \u001b[32m883.7/883.7 kB\u001b[0m \u001b[31m41.4 MB/s\u001b[0m eta \u001b[36m0:00:00\u001b[0m\n",
      "\u001b[2K   \u001b[90m━━━━━━━━━━━━━━━━━━━━━━━━━━━━━━━━━━━━━━━━\u001b[0m \u001b[32m664.8/664.8 MB\u001b[0m \u001b[31m44.2 MB/s\u001b[0m eta \u001b[36m0:00:00\u001b[0m\n",
      "\u001b[2K   \u001b[90m━━━━━━━━━━━━━━━━━━━━━━━━━━━━━━━━━━━━━━━━\u001b[0m \u001b[32m211.5/211.5 MB\u001b[0m \u001b[31m68.1 MB/s\u001b[0m eta \u001b[36m0:00:00\u001b[0m\n",
      "\u001b[2K   \u001b[90m━━━━━━━━━━━━━━━━━━━━━━━━━━━━━━━━━━━━━━━━\u001b[0m \u001b[32m56.3/56.3 MB\u001b[0m \u001b[31m87.6 MB/s\u001b[0m eta \u001b[36m0:00:00\u001b[0m\n",
      "\u001b[2K   \u001b[90m━━━━━━━━━━━━━━━━━━━━━━━━━━━━━━━━━━━━━━━━\u001b[0m \u001b[32m127.9/127.9 MB\u001b[0m \u001b[31m65.1 MB/s\u001b[0m eta \u001b[36m0:00:00\u001b[0m\n",
      "\u001b[2K   \u001b[90m━━━━━━━━━━━━━━━━━━━━━━━━━━━━━━━━━━━━━━━━\u001b[0m \u001b[32m207.5/207.5 MB\u001b[0m \u001b[31m69.2 MB/s\u001b[0m eta \u001b[36m0:00:00\u001b[0m\n",
      "\u001b[2K   \u001b[90m━━━━━━━━━━━━━━━━━━━━━━━━━━━━━━━━━━━━━━━━\u001b[0m \u001b[32m21.1/21.1 MB\u001b[0m \u001b[31m132.6 MB/s\u001b[0m eta \u001b[36m0:00:00\u001b[0m\n",
      "\u001b[2K   \u001b[90m━━━━━━━━━━━━━━━━━━━━━━━━━━━━━━━━━━━━━━━━\u001b[0m \u001b[32m13/13\u001b[0m [gensim]\n",
      "\u001b[1A\u001b[2K\u001b[31mERROR: pip's dependency resolver does not currently take into account all the packages that are installed. This behaviour is the source of the following dependency conflicts.\n",
      "google-colab 1.0.0 requires pandas==2.2.2, but you have pandas 2.2.3 which is incompatible.\n",
      "thinc 8.3.6 requires numpy<3.0.0,>=2.0.0, but you have numpy 1.26.4 which is incompatible.\n",
      "tsfresh 0.21.0 requires scipy>=1.14.0; python_version >= \"3.10\", but you have scipy 1.13.1 which is incompatible.\u001b[0m\u001b[31m\n",
      "\u001b[0mInstalled other core libraries for similarity analysis.\n",
      "\n",
      "\n",
      "***********************************************************\n",
      "***** CELL 1 EXECUTION FINISHED (FOCUSED INSTALLATIONS) *****\n",
      "***** !!!! IMPORTANT: RESTART YOUR RUNTIME/KERNEL NOW !!!! *****\n",
      "***** After restarting, run CELL 2 (Imports & Config) *****\n",
      "***********************************************************\n"
     ]
    }
   ]
  },
  {
   "cell_type": "markdown",
   "source": [
    "###Let's now import everything we need"
   ],
   "metadata": {
    "id": "ZjsXhIpXUlu7"
   },
   "id": "ZjsXhIpXUlu7"
  },
  {
   "cell_type": "code",
   "source": [
    "\n",
    "# Standard imports (repeat after restart to ensure they load correctly)\n",
    "import pandas as pd\n",
    "import numpy as np\n",
    "import re\n",
    "import matplotlib.pyplot as plt\n",
    "import seaborn as sns\n",
    "\n",
    "# For dataset loading\n",
    "from datasets import load_dataset\n",
    "print(f\"Datasets library version: {load_dataset.__module__.split('.')[0]}.{pd.__version__}\")\n",
    "\n",
    "# For TF-IDF\n",
    "from sklearn.feature_extraction.text import TfidfVectorizer\n",
    "from sklearn.metrics.pairwise import cosine_similarity\n",
    "print(f\"Scikit-learn version: {pd.__version__}\")\n",
    "\n",
    "# For GloVe and Word2Vec\n",
    "import gensim\n",
    "import gensim.downloader as api\n",
    "from gensim.models.word2vec import Word2Vec\n",
    "print(f\"Gensim version: {gensim.__version__}\")\n",
    "\n",
    "# For Sentence Transformers\n",
    "import sentence_transformers\n",
    "from sentence_transformers import SentenceTransformer, util\n",
    "print(f\"Sentence Transformers version: {sentence_transformers.__version__}\")\n",
    "\n",
    "\n",
    "# For t-SNE visualization\n",
    "from sklearn.manifold import TSNE\n",
    "import plotly.express as px\n",
    "\n",
    "\n",
    "# --- Configuration for Analyses ---\n",
    "DATASET_NAME = \"neural-bridge/rag-dataset-12000\"\n",
    "  # Number of question-context pairs to sample for analysis\n",
    "RANDOM_STATE = 42\n",
    "MAX_TFIDF_FEATURES = 5000\n",
    "HIST_BINS = 30\n",
    "W2V_VECTOR_SIZE = 50 # For custom Word2Vec\n",
    "\n",
    "# Setup for plots\n",
    "sns.set(style=\"whitegrid\")\n",
    "print(\"Imports and configuration complete after restart.\")"
   ],
   "metadata": {
    "colab": {
     "base_uri": "https://localhost:8080/"
    },
    "id": "HfRYu26XM3cG",
    "outputId": "2a609289-8de7-410d-ad93-6c5987fc3aea"
   },
   "id": "HfRYu26XM3cG",
   "execution_count": null,
   "outputs": [
    {
     "output_type": "stream",
     "name": "stdout",
     "text": [
      "Datasets library version: datasets.2.2.3\n",
      "Scikit-learn version: 2.2.3\n",
      "Gensim version: 4.3.3\n",
      "Sentence Transformers version: 4.1.0\n",
      "Imports and configuration complete after restart.\n"
     ]
    }
   ]
  },
  {
   "cell_type": "code",
   "source": [
    "#!pip install --upgrade datasets"
   ],
   "metadata": {
    "colab": {
     "base_uri": "https://localhost:8080/",
     "height": 983
    },
    "id": "x_AMKS4-N39B",
    "outputId": "2e943f2d-fb88-4d31-bcc7-e5a2a7a9bb8b"
   },
   "id": "x_AMKS4-N39B",
   "execution_count": null,
   "outputs": [
    {
     "output_type": "stream",
     "name": "stdout",
     "text": [
      "Requirement already satisfied: datasets in /usr/local/lib/python3.11/dist-packages (2.14.4)\n",
      "Collecting datasets\n",
      "  Downloading datasets-3.6.0-py3-none-any.whl.metadata (19 kB)\n",
      "Requirement already satisfied: filelock in /usr/local/lib/python3.11/dist-packages (from datasets) (3.18.0)\n",
      "Requirement already satisfied: numpy>=1.17 in /usr/local/lib/python3.11/dist-packages (from datasets) (1.26.4)\n",
      "Requirement already satisfied: pyarrow>=15.0.0 in /usr/local/lib/python3.11/dist-packages (from datasets) (18.1.0)\n",
      "Requirement already satisfied: dill<0.3.9,>=0.3.0 in /usr/local/lib/python3.11/dist-packages (from datasets) (0.3.7)\n",
      "Requirement already satisfied: pandas in /usr/local/lib/python3.11/dist-packages (from datasets) (2.2.3)\n",
      "Requirement already satisfied: requests>=2.32.2 in /usr/local/lib/python3.11/dist-packages (from datasets) (2.32.3)\n",
      "Requirement already satisfied: tqdm>=4.66.3 in /usr/local/lib/python3.11/dist-packages (from datasets) (4.67.1)\n",
      "Requirement already satisfied: xxhash in /usr/local/lib/python3.11/dist-packages (from datasets) (3.5.0)\n",
      "Requirement already satisfied: multiprocess<0.70.17 in /usr/local/lib/python3.11/dist-packages (from datasets) (0.70.15)\n",
      "Collecting fsspec<=2025.3.0,>=2023.1.0 (from fsspec[http]<=2025.3.0,>=2023.1.0->datasets)\n",
      "  Downloading fsspec-2025.3.0-py3-none-any.whl.metadata (11 kB)\n",
      "Requirement already satisfied: huggingface-hub>=0.24.0 in /usr/local/lib/python3.11/dist-packages (from datasets) (0.31.2)\n",
      "Requirement already satisfied: packaging in /usr/local/lib/python3.11/dist-packages (from datasets) (24.2)\n",
      "Requirement already satisfied: pyyaml>=5.1 in /usr/local/lib/python3.11/dist-packages (from datasets) (6.0.2)\n",
      "Requirement already satisfied: aiohttp!=4.0.0a0,!=4.0.0a1 in /usr/local/lib/python3.11/dist-packages (from fsspec[http]<=2025.3.0,>=2023.1.0->datasets) (3.11.15)\n",
      "Requirement already satisfied: aiohappyeyeballs>=2.3.0 in /usr/local/lib/python3.11/dist-packages (from aiohttp!=4.0.0a0,!=4.0.0a1->fsspec[http]<=2025.3.0,>=2023.1.0->datasets) (2.6.1)\n",
      "Requirement already satisfied: aiosignal>=1.1.2 in /usr/local/lib/python3.11/dist-packages (from aiohttp!=4.0.0a0,!=4.0.0a1->fsspec[http]<=2025.3.0,>=2023.1.0->datasets) (1.3.2)\n",
      "Requirement already satisfied: attrs>=17.3.0 in /usr/local/lib/python3.11/dist-packages (from aiohttp!=4.0.0a0,!=4.0.0a1->fsspec[http]<=2025.3.0,>=2023.1.0->datasets) (25.3.0)\n",
      "Requirement already satisfied: frozenlist>=1.1.1 in /usr/local/lib/python3.11/dist-packages (from aiohttp!=4.0.0a0,!=4.0.0a1->fsspec[http]<=2025.3.0,>=2023.1.0->datasets) (1.6.0)\n",
      "Requirement already satisfied: multidict<7.0,>=4.5 in /usr/local/lib/python3.11/dist-packages (from aiohttp!=4.0.0a0,!=4.0.0a1->fsspec[http]<=2025.3.0,>=2023.1.0->datasets) (6.4.3)\n",
      "Requirement already satisfied: propcache>=0.2.0 in /usr/local/lib/python3.11/dist-packages (from aiohttp!=4.0.0a0,!=4.0.0a1->fsspec[http]<=2025.3.0,>=2023.1.0->datasets) (0.3.1)\n",
      "Requirement already satisfied: yarl<2.0,>=1.17.0 in /usr/local/lib/python3.11/dist-packages (from aiohttp!=4.0.0a0,!=4.0.0a1->fsspec[http]<=2025.3.0,>=2023.1.0->datasets) (1.20.0)\n",
      "Requirement already satisfied: idna>=2.0 in /usr/local/lib/python3.11/dist-packages (from yarl<2.0,>=1.17.0->aiohttp!=4.0.0a0,!=4.0.0a1->fsspec[http]<=2025.3.0,>=2023.1.0->datasets) (3.10)\n",
      "Requirement already satisfied: typing-extensions>=3.7.4.3 in /usr/local/lib/python3.11/dist-packages (from huggingface-hub>=0.24.0->datasets) (4.13.2)\n",
      "Requirement already satisfied: charset-normalizer<4,>=2 in /usr/local/lib/python3.11/dist-packages (from requests>=2.32.2->datasets) (3.4.2)\n",
      "Requirement already satisfied: urllib3<3,>=1.21.1 in /usr/local/lib/python3.11/dist-packages (from requests>=2.32.2->datasets) (2.4.0)\n",
      "Requirement already satisfied: certifi>=2017.4.17 in /usr/local/lib/python3.11/dist-packages (from requests>=2.32.2->datasets) (2025.4.26)\n",
      "Requirement already satisfied: python-dateutil>=2.8.2 in /usr/local/lib/python3.11/dist-packages (from pandas->datasets) (2.9.0.post0)\n",
      "Requirement already satisfied: pytz>=2020.1 in /usr/local/lib/python3.11/dist-packages (from pandas->datasets) (2025.2)\n",
      "Requirement already satisfied: tzdata>=2022.7 in /usr/local/lib/python3.11/dist-packages (from pandas->datasets) (2025.2)\n",
      "Requirement already satisfied: six>=1.5 in /usr/local/lib/python3.11/dist-packages (from python-dateutil>=2.8.2->pandas->datasets) (1.17.0)\n",
      "Downloading datasets-3.6.0-py3-none-any.whl (491 kB)\n",
      "Downloading fsspec-2025.3.0-py3-none-any.whl (193 kB)\n",
      "Installing collected packages: fsspec, datasets\n",
      "\u001b[2K  Attempting uninstall: fsspec\n",
      "\u001b[2K    Found existing installation: fsspec 2025.3.2\n",
      "\u001b[2K    Uninstalling fsspec-2025.3.2:\n",
      "\u001b[2K      Successfully uninstalled fsspec-2025.3.2\n",
      "\u001b[2K  Attempting uninstall: datasets\n",
      "\u001b[2K    Found existing installation: datasets 2.14.4\n",
      "\u001b[2K    Uninstalling datasets-2.14.4:\n",
      "\u001b[2K      Successfully uninstalled datasets-2.14.4\n",
      "\u001b[2K   \u001b[90m━━━━━━━━━━━━━━━━━━━━━━━━━━━━━━━━━━━━━━━━\u001b[0m \u001b[32m2/2\u001b[0m [datasets]\n",
      "\u001b[1A\u001b[2K\u001b[31mERROR: pip's dependency resolver does not currently take into account all the packages that are installed. This behaviour is the source of the following dependency conflicts.\n",
      "gcsfs 2025.3.2 requires fsspec==2025.3.2, but you have fsspec 2025.3.0 which is incompatible.\u001b[0m\u001b[31m\n",
      "\u001b[0mSuccessfully installed datasets-3.6.0 fsspec-2025.3.0\n"
     ]
    },
    {
     "output_type": "display_data",
     "data": {
      "application/vnd.colab-display-data+json": {
       "pip_warning": {
        "packages": [
         "datasets"
        ]
       },
       "id": "4ef7024762d943cdb3f72637a5b78677"
      }
     },
     "metadata": {}
    }
   ]
  },
  {
   "cell_type": "markdown",
   "source": [
    "### Loading dataset"
   ],
   "metadata": {
    "id": "2NHrb4tfZhzF"
   },
   "id": "2NHrb4tfZhzF"
  },
  {
   "cell_type": "code",
   "source": [
    "\n",
    " Load the full RAG-12000 dataset into a DataFrame\n",
    "\n",
    "from datasets import load_dataset\n",
    "\n",
    "\n",
    "DATASET_NAME = \"neural-bridge/rag-dataset-12000\"\n",
    "\n",
    "print(f\"Loading dataset: {DATASET_NAME}...\")\n",
    "raw = load_dataset(DATASET_NAME)\n",
    "\n",
    "if isinstance(raw, dict):\n",
    "    df = pd.concat([pd.DataFrame(split) for split in raw.values()], ignore_index=True)\n",
    "else:\n",
    "    df = pd.DataFrame(raw)\n",
    "\n",
    "print(f\"Dataset loaded with shape: {df.shape}\")\n",
    "\n",
    "df.dropna(subset=[\"question\", \"context\"], inplace=True)\n",
    "print(f\"After dropping rows without question/context: {df.shape}\")\n",
    "\n"
   ],
   "metadata": {
    "colab": {
     "base_uri": "https://localhost:8080/",
     "height": 353,
     "referenced_widgets": [
      "4e24a5a0b2594d3eafc2daea743d77fe",
      "480eeb06ddc442998eeeea0beda0bebd",
      "5d010a5ed3484c4d875ccdf6f16293b6",
      "548ec0daaf6f4e8b9a2ecc81c9a546d4",
      "5cb853dd8a174d9ab24a6fee446eeffc",
      "cbe366e9f5634fffa7b66002ce02eff7",
      "8d6d6a40669f4a9e9c78644cb735f1a6",
      "d34881aa4bdd4322b40e68eab3596901",
      "066c25e0e23242298429a52f97b42af4",
      "a0ae330474ff411a81c896098fd7b784",
      "85d7dffd9c59488fa8873cf38779ebf1",
      "6fd8d66a95de429cbdcf05572dda261b",
      "b10b0e97b85040f5850bff426a604ec0",
      "fbb7052bcbb04b21af1b2629ba1f34a0",
      "dce3f710046149898066a3bf9637c1d3",
      "f731cd9cdbbf4376883a56a4884f9c88",
      "ffd8c7d3c82e4e35b4d8e3422ee65120",
      "ef7dc4c5c6bf40cc92a15c8a66181bde",
      "ac3ff70f5e864ad6bf866604f325d95f",
      "c06b68f881594ba59696ff2e3631fc14",
      "4720eef95dc14763b6babb0564020b52",
      "6956642e92a44993a94d23f884f930d2",
      "2d8dfb6f99654423946f86dbbbe38c83",
      "b03e712a1855485d9b6c89d8490318b0",
      "4ab6e18e709347e4bc1b22d218d3899e",
      "9b909931be0041d6bd188114ba08f83a",
      "ead35615b2dd48529464bf636c636a4d",
      "32709342b1e84b58962e5feb613b3f7e",
      "b6f256f57ce94f98860ceefc5a0b52fb",
      "01318c2f1e0a4c269dcf3d1e329e4e4e",
      "dbcd0ab0e0e0410da6248780d425cdec",
      "d85e4629e5c647b3b85259b69eb73743",
      "9f41f4115152455eb2736a6e75e3d817",
      "928c2647130f478bb18e2be0bcf8efe3",
      "0e0ef83d612a4f428f28b02ca3640733",
      "cb6b800836fe46a38813e1f22ce2fa07",
      "f2cde72b2b2640fca51fce494608c220",
      "51af6a7986b742a7b826c954c0acbfc7",
      "cb4c6a7a97e348b4b9167b26bca76d3e",
      "69c33005aa9e4c508485804baf9fc711",
      "b692b5901b1749aea8b4dd8103644eb2",
      "b33003f81242453fa12754bcccc5a0d8",
      "c5effd2f15494779a773d573abce4b77",
      "85b9bf0437b64758bc5ad4adbe99bf31",
      "f64aa1e2c53b4c29bca9248a1299b831",
      "aa99c6ee21454b4f935f79aea68eef06",
      "555f52416b4b4357a93eb8cf2bf43128",
      "83560adf07634a84869b644f731bdb6a",
      "21d2d9e2c0ed49ba92468d4f6a2392f3",
      "581a0eec83904b34bb71c7871e0c77d4",
      "dcbff39b55754116b158f0012b920788",
      "cf46ef9b61c7450a977b82445f1f704f",
      "5087d7317893434b8d683427687059d4",
      "ebf8fc6e717a46688edd6a15e9463da9",
      "e980197ec98e430a98eabd7ac941a40e"
     ]
    },
    "id": "fngHY9c6M7sP",
    "outputId": "6952fb61-d5a5-4c3d-ebcb-5baad7461a01"
   },
   "id": "fngHY9c6M7sP",
   "execution_count": null,
   "outputs": [
    {
     "output_type": "stream",
     "name": "stdout",
     "text": [
      "Loading dataset: neural-bridge/rag-dataset-12000...\n"
     ]
    },
    {
     "output_type": "stream",
     "name": "stderr",
     "text": [
      "/usr/local/lib/python3.11/dist-packages/huggingface_hub/utils/_auth.py:94: UserWarning: \n",
      "The secret `HF_TOKEN` does not exist in your Colab secrets.\n",
      "To authenticate with the Hugging Face Hub, create a token in your settings tab (https://huggingface.co/settings/tokens), set it as secret in your Google Colab and restart your session.\n",
      "You will be able to reuse this secret in all of your notebooks.\n",
      "Please note that authentication is recommended but still optional to access public models or datasets.\n",
      "  warnings.warn(\n"
     ]
    },
    {
     "output_type": "display_data",
     "data": {
      "text/plain": [
       "README.md:   0%|          | 0.00/5.18k [00:00<?, ?B/s]"
      ],
      "application/vnd.jupyter.widget-view+json": {
       "version_major": 2,
       "version_minor": 0,
       "model_id": "4e24a5a0b2594d3eafc2daea743d77fe"
      }
     },
     "metadata": {}
    },
    {
     "output_type": "display_data",
     "data": {
      "text/plain": [
       "(…)-00000-of-00001-9df3a936e1f63191.parquet:   0%|          | 0.00/23.1M [00:00<?, ?B/s]"
      ],
      "application/vnd.jupyter.widget-view+json": {
       "version_major": 2,
       "version_minor": 0,
       "model_id": "6fd8d66a95de429cbdcf05572dda261b"
      }
     },
     "metadata": {}
    },
    {
     "output_type": "display_data",
     "data": {
      "text/plain": [
       "(…)-00000-of-00001-af2a9f454ad1b8a3.parquet:   0%|          | 0.00/5.79M [00:00<?, ?B/s]"
      ],
      "application/vnd.jupyter.widget-view+json": {
       "version_major": 2,
       "version_minor": 0,
       "model_id": "2d8dfb6f99654423946f86dbbbe38c83"
      }
     },
     "metadata": {}
    },
    {
     "output_type": "display_data",
     "data": {
      "text/plain": [
       "Generating train split:   0%|          | 0/9600 [00:00<?, ? examples/s]"
      ],
      "application/vnd.jupyter.widget-view+json": {
       "version_major": 2,
       "version_minor": 0,
       "model_id": "928c2647130f478bb18e2be0bcf8efe3"
      }
     },
     "metadata": {}
    },
    {
     "output_type": "display_data",
     "data": {
      "text/plain": [
       "Generating test split:   0%|          | 0/2400 [00:00<?, ? examples/s]"
      ],
      "application/vnd.jupyter.widget-view+json": {
       "version_major": 2,
       "version_minor": 0,
       "model_id": "f64aa1e2c53b4c29bca9248a1299b831"
      }
     },
     "metadata": {}
    },
    {
     "output_type": "stream",
     "name": "stdout",
     "text": [
      "Dataset loaded with shape: (12000, 3)\n",
      "After dropping rows without question/context: (11997, 3)\n"
     ]
    }
   ]
  },
  {
   "cell_type": "code",
   "source": [
    "# Function for Plotting Similarity Distributions\n",
    "\n",
    "def plot_similarity_histogram(similarities, title, color='skyblue'):\n",
    "    \"\"\"Plots a histogram of similarity scores.\"\"\"\n",
    "    if not similarities:\n",
    "        print(f\"No similarities to plot for {title}\")\n",
    "        return\n",
    "    plt.figure(figsize=(7, 5))\n",
    "    plt.hist(similarities, bins=HIST_BINS, alpha=0.7, color=color)\n",
    "    plt.title(title)\n",
    "    plt.xlabel(\"Cosine Similarity\")\n",
    "    plt.ylabel(\"Frequency\")\n",
    "    plt.grid(axis='y', alpha=0.75)\n",
    "    plt.show()\n",
    "    mean_sim = np.mean(similarities)\n",
    "    median_sim = np.median(similarities)\n",
    "    print(f\"{title} - Mean: {mean_sim:.3f}, Median: {median_sim:.3f}, Min: {np.min(similarities):.3f}, Max: {np.max(similarities):.3f}\")"
   ],
   "metadata": {
    "id": "IrJo-st_M_b0"
   },
   "id": "IrJo-st_M_b0",
   "execution_count": null,
   "outputs": []
  },
  {
   "cell_type": "markdown",
   "source": [
    "## Lexical Similarity with TF-IDF\n",
    "\n",
    "We apply TF-IDF directly on the original text (no lemmatization) to measure similarity between each question and its context. The vectorizer will:\n",
    "\n",
    "- Convert all text to lowercase  \n",
    "- Remove English stopwords  \n",
    "- Restrict to the top `MAX_TFIDF_FEATURES` features  \n",
    "\n",
    "After fitting the vectorizer on both the question and context corpora, we compute cosine similarity for each pair and visualize the resulting distribution.  \n",
    "\n",
    "\n"
   ],
   "metadata": {
    "id": "l8D0zwUtbFU9"
   },
   "id": "l8D0zwUtbFU9"
  },
  {
   "cell_type": "code",
   "source": [
    "\n",
    "\n",
    "if not df.empty:\n",
    "    print(\"\\n--- 1. Lexical Similarity: TF-IDF (using original text, lowercased) ---\")\n",
    "    tfidf_similarities = []\n",
    "    try:\n",
    "        # Initialize TfidfVectorizer - basic preprocessing: lowercase, stopword removal\n",
    "        tfidf_vectorizer = TfidfVectorizer(stop_words='english',\n",
    "                                           lowercase=True,\n",
    "                                           max_features=MAX_TFIDF_FEATURES)\n",
    "\n",
    "        # Create a combined corpus of questions and contexts for fitting IDF\n",
    "        corpus_for_tfidf = pd.concat([\n",
    "            df[\"question\"].astype(str),\n",
    "            df[\"context\"].astype(str)\n",
    "        ])\n",
    "        tfidf_vectorizer.fit(corpus_for_tfidf)\n",
    "\n",
    "        # Transform questions and contexts\n",
    "        q_tfidf_vectors = tfidf_vectorizer.transform(df[\"question\"].astype(str))\n",
    "        c_tfidf_vectors = tfidf_vectorizer.transform(df[\"context\"].astype(str))\n",
    "\n",
    "        # Calculate cosine similarities\n",
    "        for q_vec, c_vec in zip(q_tfidf_vectors, c_tfidf_vectors):\n",
    "            similarity = cosine_similarity(q_vec, c_vec)[0, 0]\n",
    "            tfidf_similarities.append(similarity)\n",
    "\n",
    "        plot_similarity_histogram(tfidf_similarities,\n",
    "                                  f\"TF-IDF Q-C Similarity (Top {MAX_TFIDF_FEATURES} features)\")\n",
    "    except Exception as e:\n",
    "        print(f\"Error during TF-IDF analysis: {e}\")\n",
    "else:\n",
    "    print(\"Skipping TF-IDF analysis as no data was sampled.\")"
   ],
   "metadata": {
    "id": "4KhRvcvcNDXX",
    "colab": {
     "base_uri": "https://localhost:8080/",
     "height": 548
    },
    "outputId": "da9d78d5-fa00-44b8-bcb5-436022b459e6"
   },
   "id": "4KhRvcvcNDXX",
   "execution_count": null,
   "outputs": [
    {
     "output_type": "stream",
     "name": "stdout",
     "text": [
      "\n",
      "--- 1. Lexical Similarity: TF-IDF (using original text, lowercased) ---\n"
     ]
    },
    {
     "output_type": "display_data",
     "data": {
      "text/plain": [
       "<Figure size 700x500 with 1 Axes>"
      ],
      "image/png": "[encoded data removed]"
     },
     "metadata": {}
    },
    {
     "output_type": "stream",
     "name": "stdout",
     "text": [
      "TF-IDF Q-C Similarity (Top 5000 features) - Mean: 0.290, Median: 0.270, Min: 0.000, Max: 0.950\n"
     ]
    }
   ]
  },
  {
   "cell_type": "markdown",
   "source": [
    "## Semantic Similarity with Pre-trained GloVe Embeddings\n",
    "\n",
    "Here we use GloVe vectors (e.g. “glove-twitter-50” and “glove-wiki-gigaword-50”) to compute semantic similarity between each question and its corresponding context.  \n",
    "- Text is lowercased and tokenized into words.  \n",
    "- Each word is mapped to its 50-dimensional GloVe embedding.  \n",
    "- We average the embeddings over all tokens in the question and context separately.  \n",
    "- Finally, we compute cosine similarity between these averaged vectors to quantify semantic alignment.\n"
   ],
   "metadata": {
    "id": "E5arXJc3e9ES"
   },
   "id": "E5arXJc3e9ES"
  },
  {
   "cell_type": "code",
   "source": [
    "\n",
    "\n",
    "if not df.empty:\n",
    "    print(\"\\n--- 2. Semantic Similarity: Pre-trained GloVe Embeddings ---\")\n",
    "\n",
    "    # Helper function to get average GloVe embedding for a text\n",
    "    def get_average_glove_embedding(text, model):\n",
    "        # Simple tokenization: lowercase and find words\n",
    "        tokens = re.findall(r\"\\b\\w+\\b\", str(text).lower())\n",
    "        # Get vectors for tokens present in the model's vocabulary\n",
    "        word_vectors = [model[token] for token in tokens if token in model.key_to_index] # Gensim 4.x+\n",
    "        if not word_vectors:\n",
    "            return np.zeros(model.vector_size) # Return zero vector if no words found\n",
    "        return np.mean(word_vectors, axis=0) # Average of word vectors\n",
    "\n",
    "    glove_models_to_test = {\n",
    "        \"GloVe-Twitter-50\": \"glove-twitter-50\",\n",
    "        \"GloVe-Wiki-Gigaword-50\": \"glove-wiki-gigaword-50\"\n",
    "    }\n",
    "    all_glove_similarities = {}\n",
    "\n",
    "    for model_name, glove_id in glove_models_to_test.items():\n",
    "        print(f\"\\nProcessing with {model_name}...\")\n",
    "        current_glove_model = None\n",
    "        try:\n",
    "            current_glove_model = api.load(glove_id)\n",
    "            print(f\"{model_name} loaded (vector size: {current_glove_model.vector_size}).\")\n",
    "        except Exception as e:\n",
    "            print(f\"Could not load {model_name}: {e}\")\n",
    "            continue\n",
    "\n",
    "        similarities_for_model = []\n",
    "        for _, row in df.iterrows():\n",
    "            q_text, c_text = row[\"question\"], row[\"context\"]\n",
    "            q_emb = get_average_glove_embedding(q_text, current_glove_model)\n",
    "            c_emb = get_average_glove_embedding(c_text, current_glove_model)\n",
    "            similarity = cosine_similarity(q_emb.reshape(1, -1), c_emb.reshape(1, -1))[0, 0]\n",
    "            similarities_for_model.append(similarity)\n",
    "\n",
    "        all_glove_similarities[model_name] = similarities_for_model\n",
    "        plot_similarity_histogram(similarities_for_model, f\"{model_name} Q-C Similarity\", color='lightcoral' if 'Twitter' in model_name else 'mediumseagreen')\n",
    "else:\n",
    "    print(\"Skipping GloVe analysis as no data was sampled.\")"
   ],
   "metadata": {
    "id": "_M70adWMNHbO",
    "colab": {
     "base_uri": "https://localhost:8080/",
     "height": 1000
    },
    "outputId": "eacf4e9f-902c-43d9-853b-cddf22934a22"
   },
   "id": "_M70adWMNHbO",
   "execution_count": null,
   "outputs": [
    {
     "output_type": "stream",
     "name": "stdout",
     "text": [
      "\n",
      "--- 2. Semantic Similarity: Pre-trained GloVe Embeddings ---\n",
      "\n",
      "Processing with GloVe-Twitter-50...\n",
      "[==================================================] 100.0% 199.5/199.5MB downloaded\n",
      "GloVe-Twitter-50 loaded (vector size: 50).\n"
     ]
    },
    {
     "output_type": "display_data",
     "data": {
      "text/plain": [
       "<Figure size 700x500 with 1 Axes>"
      ],
      "image/png": "[encoded data removed]"
     },
     "metadata": {}
    },
    {
     "output_type": "stream",
     "name": "stdout",
     "text": [
      "GloVe-Twitter-50 Q-C Similarity - Mean: 0.970, Median: 0.974, Min: 0.414, Max: 0.996\n",
      "\n",
      "Processing with GloVe-Wiki-Gigaword-50...\n",
      "[==================================================] 100.0% 66.0/66.0MB downloaded\n",
      "GloVe-Wiki-Gigaword-50 loaded (vector size: 50).\n"
     ]
    },
    {
     "output_type": "display_data",
     "data": {
      "text/plain": [
       "<Figure size 700x500 with 1 Axes>"
      ],
      "image/png": "[encoded data removed]"
     },
     "metadata": {}
    },
    {
     "output_type": "stream",
     "name": "stdout",
     "text": [
      "GloVe-Wiki-Gigaword-50 Q-C Similarity - Mean: 0.948, Median: 0.956, Min: 0.151, Max: 0.994\n"
     ]
    }
   ]
  },
  {
   "cell_type": "markdown",
   "source": [
    "## Why GloVe Similarities Are Typically Very High\n",
    "\n",
    "- **Average pooling flattens differences:** Common words (e.g. “the”, “and”) dominate the mean, pushing question/context vectors close together.  \n",
    "- **Shared vocabulary bias:** Overlapping tokens in Q and C drive cosine scores toward 1.0.  \n",
    "- **No sentence‐level nuance:** GloVe ignores word order and context, so different sentences with the same words get nearly identical embeddings.\n",
    "\n",
    "**Transformer encoders** (e.g. `all-MiniLM-L6-v2`) yield lower, more varied scores by modeling syntax, context, and token importance—making them better for fine‐grained semantic similarity.  \n"
   ],
   "metadata": {
    "id": "f4mbzk_0fAgR"
   },
   "id": "f4mbzk_0fAgR"
  },
  {
   "cell_type": "markdown",
   "source": [
    "## Semantic Similarity with Sentence Transformers\n",
    "\n",
    "We leverage pre-trained sentence encoders (e.g. `all-MiniLM-L6-v2`) to embed each question and its context into dense vectors that capture full-sentence and paragraph-level semantics. After encoding:\n",
    "\n",
    "1. **Encode** the question and context separately.  \n",
    "2. **Compute cosine similarity** between the two embeddings.  \n",
    "\n",
    "\n"
   ],
   "metadata": {
    "id": "5D5y_JY9fbXJ"
   },
   "id": "5D5y_JY9fbXJ"
  },
  {
   "cell_type": "code",
   "source": [
    "\n",
    "\n",
    "if not df.empty:\n",
    "    print(\"\\n--- 3. Semantic Similarity: Sentence Transformers (all-MiniLM-L6-v2) ---\")\n",
    "    st_similarities = []\n",
    "    st_model_name = \"all-MiniLM-L6-v2\"\n",
    "    st_model = None\n",
    "\n",
    "    try:\n",
    "        print(f\"Loading Sentence Transformer model: {st_model_name}...\")\n",
    "        st_model = SentenceTransformer(st_model_name)\n",
    "        print(\"Sentence Transformer model loaded.\")\n",
    "    except Exception as e:\n",
    "        print(f\"Error loading Sentence Transformer model: {e}\")\n",
    "\n",
    "    if st_model:\n",
    "        try:\n",
    "            # Prepare questions and contexts for batch encoding (more efficient)\n",
    "            questions = df[\"question\"].astype(str).tolist()\n",
    "            contexts = df[\"context\"].astype(str).tolist()\n",
    "\n",
    "            print(\"Encoding questions...\")\n",
    "            q_embeddings = st_model.encode(questions, show_progress_bar=True)\n",
    "            print(\"Encoding contexts...\")\n",
    "            c_embeddings = st_model.encode(contexts, show_progress_bar=True)\n",
    "\n",
    "            # Calculate cosine similarities\n",
    "            for i in range(len(q_embeddings)):\n",
    "                similarity = util.pytorch_cos_sim(q_embeddings[i], c_embeddings[i]).item()\n",
    "                st_similarities.append(similarity)\n",
    "\n",
    "            plot_similarity_histogram(st_similarities, f\"Sentence Transformer ({st_model_name}) Q-C Similarity\", color='gold')\n",
    "        except Exception as e:\n",
    "            print(f\"Error during Sentence Transformer similarity calculation: {e}\")\n",
    "else:\n",
    "    print(\"Skipping Sentence Transformer analysis as no data was sampled.\")"
   ],
   "metadata": {
    "id": "ABvjpElRNIPD",
    "colab": {
     "base_uri": "https://localhost:8080/",
     "height": 1000,
     "referenced_widgets": [
      "159e7890b0ef4fe1b912e03efb0c0fbf",
      "98ddcb832c3549688138f2b998a0ceb9",
      "e7ded57c3f5d4622b8840c0597534a9e",
      "28d8b0e096e042dab8d133bf0a06a464",
      "e731eaf957bc40cf85fcdcfc68fec520",
      "71d76bdc3bec47c3beb153ab202225b5",
      "c1953de1ce3d40de9ad380ebbe58dc18",
      "80d5731e43ac4200a0dc30eb070a03af",
      "92abb981bfb04197a10aa01fb22ce3e3",
      "78a411a2ce0e4e3f88039688c717a4bc",
      "3a39e8e04d60432fb481c202739b0425",
      "1126319ffcab4291ab68d5c1c65f8ae7",
      "c24078d735794010afe5d89c1eec006b",
      "502df022f9014a68bf5a2efec257b6be",
      "3faba60bd2e3444b9ecbed3294658be0",
      "cd0d4b95a977405eafc6aa96bd840432",
      "663cad6509384f5284c12fba36e98a9f",
      "99c5716efa3846eab8d46455d8f67444",
      "f2eaef3354774c488064f49bd60f913b",
      "3533f3313c62496c88c2b31b14448487",
      "5bb6e5af5bf842a3b242453571258382",
      "2083860c367b44c39bbfc4bfd8e8c17f",
      "9405f80830a54afa80519b72af7bc19d",
      "7f8947a125be45cc9252b1de71ca11d4",
      "9a1b894bfffb4651b77f21f5912933e7",
      "2b2ee19c4d08427fa4455702f1a5b2ca",
      "dcce39db272e4c55be3f7b6c4af5b70f",
      "c1814f5410da4504b9b721c28e2e6c6f",
      "5a3471bcbe69489aa8c8dc26956430f6",
      "59d9f8dc83ea43dea5d70186a757cf74",
      "0625199d6fcd4bd69844d3450a88077c",
      "20ef40ff040a4b4a8d25c7ca6016f366",
      "3c322652d92c4f4fbb8999bd47e4b688",
      "229200cc17b94914a1cc4c2331478b60",
      "b9bfbd5f73324f46823e629651ed97bd",
      "f89a0577a2a4405ab309f011e7fc4279",
      "050e716470de452aa98c2075f0c8765b",
      "7a0594db993d4044984026730eea5db4",
      "0aab83a954f04cad8a96c795a7ed2e36",
      "dbc760f88a05487cad86dd2418a8aac5",
      "6785e4024ab04d74941cb0842860b0a4",
      "8dea588cc86c400d8335ad1a84d349e7",
      "43857cde19b644bda5b16df51eccf4be",
      "f972bbc1c42e4de5a238c6371af09bd2",
      "f01b68a9a211440eb0e494a04e899896",
      "c254a7e643354ff69a96f8cdaa1d2f18",
      "fc1bb654b4ae4475b0e9c8b7072a3513",
      "f47d9588358c4a8da764c1fa2ef4c56d",
      "ba8478dcf0fb418fa40f97476a5f9b91",
      "0b550c6beb9e4a6db654b0a41a450880",
      "498ef12cb78d44559b8408a512493625",
      "02647e27771d48698d8973db748b12ce",
      "fb3af92ac1744da8a50ef37c514fbc64",
      "a115bb944e8d41feb1549029d2587d52",
      "ed60f17ede064a1a9cc4640ca165c676",
      "d6dd1714c712428cb4d0b2b7a709dc33",
      "55ad7cc385cd4cd7bbc5b8effb0acedf",
      "9594ff730e8c4a8b98a7d237de1e1e00",
      "4d09f5d95c7748bbadc87879a8478c61",
      "449e196dff514ccfa67a91c8bb28702b",
      "3b60cba941cc41299f6309140caa1c0c",
      "96696f2708c74f6caa12c2e9291e5d7a",
      "9232894fb1d14e40a2be63f332fd5014",
      "22083a975cdc4ed791f03c5bac5e4ec8",
      "1d69fa95a27644c2be7c665dee8218ea",
      "8dceb9c6d3f9436d9b97139894212380",
      "861d6efc286642beaf5d9d4443a2aabd",
      "9ccbddae65d642b18d3b45185382b842",
      "e6552c95fe3e4f078f41d1ec0d343c4b",
      "8c02071a11654bb08f63ec3bdf45f6eb",
      "f6a2e203ce924ad5b8b37160afa6fa33",
      "52043d5c4e6648ce91780a3b90712151",
      "f8ffa66048744cb38cb7c006f451f640",
      "2bc3c05301504670a5c10c66f54104c0",
      "5e4c859e82ac49f6b5efd3c2dbd594cb",
      "7ef3c5260b6c43f1bfdd918a4c1eb209",
      "0ee6a1650de44a30ac5d0aaa83dbf8e1",
      "b79c04075733419cb796f16c8da0e4ab",
      "8fad6a4477444c62b22680c0942e946d",
      "bdb6bdcb330745caa3f65c325d0f316b",
      "63fe8878ecd24036a54faea707c02a32",
      "626448a98a9c419ca1598ae8e0dd6b04",
      "ceff76400c094ade8d3b679cef353584",
      "73ba3bd1f60c4342b0044c72514aba07",
      "83d0b321252a4ac4a45c7c491033fd0f",
      "045e4a729a554a42bb115f5ca89fb6a6",
      "549106f60bff4a1cbfc22f45e7646294",
      "aeafeb56f8774c539ded6dce11aba0a1",
      "4e4619e250214bd39d343806960ce823",
      "4707443a181e40b0a284751ddaec8486",
      "fc8690b76f074f6abc5748c70c183360",
      "725e53cb44dc4eee967d9c33a0bed834",
      "c1c6519f8a474fd3b83a15c62f93a748",
      "fbe383577ab444988f3351e4a794a0c8",
      "159bb05b6acf4ec8b916bf7cd87d5c7b",
      "33168d929700499096c2cc682e84b655",
      "d5c41a9a0b15449b91b9d0ca9e93f117",
      "235fd62101894f479d697e08ceb87bbe",
      "327ae5ef51cf4fe19943ea60cc1f9e9c",
      "ea7bfaf494c04d7eaedb60526529c522",
      "dc4dc3877a524fb69e3f4e880eeb9ea3",
      "bdf962bde5514b15bbad224e57175bb2",
      "94735dba7e924743a432b5250fc009bc",
      "8a312ba569c241928acf73bc4572be5e",
      "cb6cdb2960f04e7d84b7635a5e298664",
      "250514f40090409e9e4c72f621c0ae4c",
      "b83f61d4fd9246489d663a9e103e3207",
      "5b98f10b651f4e4d9e55f3361a34ca67",
      "94756d4fb924440eacf34209855c799e",
      "196258bb992b4197b83cb221d5fe8bc9",
      "4a426127a39b4ddbae7123a193648b9a",
      "cd2d811b5b8e41b1ac60e81bb039e2ae",
      "28eab31b723440b393dfaab32d8ce059",
      "35cbaf8cbcdc494382ab35bd7238adba",
      "09e51ec877244d33853f83db30af8799",
      "008cc5602a674227b20c2323f005310c",
      "01544eb77cf743eeadedb31ba45539d6",
      "5a5552bd45114e55a042130f1028ff9d",
      "aeb510dcbd8043658d768d5ea5d091d8",
      "c472863d86954881aee71ab1236124f4",
      "88846371cea840f18d808ff6a7681606",
      "40c000cfb9f74a95b57d0db9694e562d",
      "114cf5b139924b31b1aab8c517206cb2",
      "56b420ddb28142ad9b602a62db3c4d13",
      "3b5cf00d22b34da9862ad257676484ca",
      "8bbb1349cee74c73866472bead855dce",
      "3ea522c0136b41689121b3c31235fcc0",
      "0dca3b6ed25b4998b59c8d0ac8f5ca26",
      "031d724fb46449c795cee235281dd67c",
      "9b9f81fa606241058bd87c64eec80cf7",
      "206b6e9c01fe4d9992c788cfd13d53fd",
      "24111ff2447547338e6df44295617d51",
      "42005b7e10d94748b10a49dbddb7c02f",
      "4a74b465213b4e639467e49b629f0c5c",
      "62fe5a070fee4e009f1838e54fb6b31f",
      "9207e7c2dcd14fbbbc8f7308bcaf37c3",
      "e09c75aa72c7409eaeb31d02e52b3e1b",
      "8fb7badb1aa64e3bbf35a3e9d2967056",
      "15fd9a3c0cae4040bcf1c69cf9719b22",
      "5fbdf384018649349d605383559cdd56",
      "3fdbd141459e4f53b6e14cdf70047291",
      "7eaff701ac7a4d2e958386de8916bda1",
      "8f79796f702447e9be1a9413155bd672"
     ]
    },
    "outputId": "719fe06e-a81f-4cde-c625-5c223357817b"
   },
   "id": "ABvjpElRNIPD",
   "execution_count": null,
   "outputs": [
    {
     "output_type": "stream",
     "name": "stdout",
     "text": [
      "\n",
      "--- 3. Semantic Similarity: Sentence Transformers (all-MiniLM-L6-v2) ---\n",
      "Loading Sentence Transformer model: all-MiniLM-L6-v2...\n"
     ]
    },
    {
     "output_type": "display_data",
     "data": {
      "text/plain": [
       "modules.json:   0%|          | 0.00/349 [00:00<?, ?B/s]"
      ],
      "application/vnd.jupyter.widget-view+json": {
       "version_major": 2,
       "version_minor": 0,
       "model_id": "159e7890b0ef4fe1b912e03efb0c0fbf"
      }
     },
     "metadata": {}
    },
    {
     "output_type": "display_data",
     "data": {
      "text/plain": [
       "config_sentence_transformers.json:   0%|          | 0.00/116 [00:00<?, ?B/s]"
      ],
      "application/vnd.jupyter.widget-view+json": {
       "version_major": 2,
       "version_minor": 0,
       "model_id": "1126319ffcab4291ab68d5c1c65f8ae7"
      }
     },
     "metadata": {}
    },
    {
     "output_type": "display_data",
     "data": {
      "text/plain": [
       "README.md:   0%|          | 0.00/10.5k [00:00<?, ?B/s]"
      ],
      "application/vnd.jupyter.widget-view+json": {
       "version_major": 2,
       "version_minor": 0,
       "model_id": "9405f80830a54afa80519b72af7bc19d"
      }
     },
     "metadata": {}
    },
    {
     "output_type": "display_data",
     "data": {
      "text/plain": [
       "sentence_bert_config.json:   0%|          | 0.00/53.0 [00:00<?, ?B/s]"
      ],
      "application/vnd.jupyter.widget-view+json": {
       "version_major": 2,
       "version_minor": 0,
       "model_id": "229200cc17b94914a1cc4c2331478b60"
      }
     },
     "metadata": {}
    },
    {
     "output_type": "display_data",
     "data": {
      "text/plain": [
       "config.json:   0%|          | 0.00/612 [00:00<?, ?B/s]"
      ],
      "application/vnd.jupyter.widget-view+json": {
       "version_major": 2,
       "version_minor": 0,
       "model_id": "f01b68a9a211440eb0e494a04e899896"
      }
     },
     "metadata": {}
    },
    {
     "output_type": "stream",
     "name": "stderr",
     "text": [
      "Xet Storage is enabled for this repo, but the 'hf_xet' package is not installed. Falling back to regular HTTP download. For better performance, install the package with: `pip install huggingface_hub[hf_xet]` or `pip install hf_xet`\n",
      "WARNING:huggingface_hub.file_download:Xet Storage is enabled for this repo, but the 'hf_xet' package is not installed. Falling back to regular HTTP download. For better performance, install the package with: `pip install huggingface_hub[hf_xet]` or `pip install hf_xet`\n"
     ]
    },
    {
     "output_type": "display_data",
     "data": {
      "text/plain": [
       "model.safetensors:   0%|          | 0.00/90.9M [00:00<?, ?B/s]"
      ],
      "application/vnd.jupyter.widget-view+json": {
       "version_major": 2,
       "version_minor": 0,
       "model_id": "d6dd1714c712428cb4d0b2b7a709dc33"
      }
     },
     "metadata": {}
    },
    {
     "output_type": "display_data",
     "data": {
      "text/plain": [
       "tokenizer_config.json:   0%|          | 0.00/350 [00:00<?, ?B/s]"
      ],
      "application/vnd.jupyter.widget-view+json": {
       "version_major": 2,
       "version_minor": 0,
       "model_id": "861d6efc286642beaf5d9d4443a2aabd"
      }
     },
     "metadata": {}
    },
    {
     "output_type": "display_data",
     "data": {
      "text/plain": [
       "vocab.txt:   0%|          | 0.00/232k [00:00<?, ?B/s]"
      ],
      "application/vnd.jupyter.widget-view+json": {
       "version_major": 2,
       "version_minor": 0,
       "model_id": "b79c04075733419cb796f16c8da0e4ab"
      }
     },
     "metadata": {}
    },
    {
     "output_type": "display_data",
     "data": {
      "text/plain": [
       "tokenizer.json:   0%|          | 0.00/466k [00:00<?, ?B/s]"
      ],
      "application/vnd.jupyter.widget-view+json": {
       "version_major": 2,
       "version_minor": 0,
       "model_id": "4e4619e250214bd39d343806960ce823"
      }
     },
     "metadata": {}
    },
    {
     "output_type": "display_data",
     "data": {
      "text/plain": [
       "special_tokens_map.json:   0%|          | 0.00/112 [00:00<?, ?B/s]"
      ],
      "application/vnd.jupyter.widget-view+json": {
       "version_major": 2,
       "version_minor": 0,
       "model_id": "ea7bfaf494c04d7eaedb60526529c522"
      }
     },
     "metadata": {}
    },
    {
     "output_type": "display_data",
     "data": {
      "text/plain": [
       "config.json:   0%|          | 0.00/190 [00:00<?, ?B/s]"
      ],
      "application/vnd.jupyter.widget-view+json": {
       "version_major": 2,
       "version_minor": 0,
       "model_id": "4a426127a39b4ddbae7123a193648b9a"
      }
     },
     "metadata": {}
    },
    {
     "output_type": "stream",
     "name": "stdout",
     "text": [
      "Sentence Transformer model loaded.\n",
      "Encoding questions...\n"
     ]
    },
    {
     "output_type": "display_data",
     "data": {
      "text/plain": [
       "Batches:   0%|          | 0/375 [00:00<?, ?it/s]"
      ],
      "application/vnd.jupyter.widget-view+json": {
       "version_major": 2,
       "version_minor": 0,
       "model_id": "40c000cfb9f74a95b57d0db9694e562d"
      }
     },
     "metadata": {}
    },
    {
     "output_type": "stream",
     "name": "stdout",
     "text": [
      "Encoding contexts...\n"
     ]
    },
    {
     "output_type": "display_data",
     "data": {
      "text/plain": [
       "Batches:   0%|          | 0/375 [00:00<?, ?it/s]"
      ],
      "application/vnd.jupyter.widget-view+json": {
       "version_major": 2,
       "version_minor": 0,
       "model_id": "42005b7e10d94748b10a49dbddb7c02f"
      }
     },
     "metadata": {}
    },
    {
     "output_type": "display_data",
     "data": {
      "text/plain": [
       "<Figure size 700x500 with 1 Axes>"
      ],
      "image/png": "[encoded data removed]"
     },
     "metadata": {}
    },
    {
     "output_type": "stream",
     "name": "stdout",
     "text": [
      "Sentence Transformer (all-MiniLM-L6-v2) Q-C Similarity - Mean: 0.559, Median: 0.591, Min: -0.139, Max: 0.886\n"
     ]
    }
   ]
  },
  {
   "cell_type": "markdown",
   "source": [
    "## Custom Word2Vec on Contexts\n",
    "\n",
    "- **Preprocess:** lowercase, remove non-alphanumeric, tokenize  \n",
    "- **Train:** Word2Vec on all context token lists  \n",
    "- **Use:** average embeddings + cosine similarity  \n",
    "-  **Visualize** word vectors with t-SNE  \n"
   ],
   "metadata": {
    "id": "BfKMCuUVfrHT"
   },
   "id": "BfKMCuUVfrHT"
  },
  {
   "cell_type": "code",
   "source": [
    "\n",
    "\n",
    "if not df.empty: # Use the full df for training Word2Vec for a richer vocabulary\n",
    "    print(\"\\n--- 4. Custom Word Embeddings: Word2Vec Trained on Contexts ---\")\n",
    "\n",
    "    # Preprocessing function specific for Word2Vec training\n",
    "    def preprocess_text_for_w2v(text_series):\n",
    "        processed_sentences = []\n",
    "        for text_content in text_series.astype(str):\n",
    "            text_content = text_content.lower()\n",
    "            text_content_no_punct = re.sub(r'[^\\w\\s\\.\\?!]', '', text_content)\n",
    "            sentences = re.split(r'(?<=[.?!])\\s+', text_content_no_punct)\n",
    "\n",
    "            for sentence in sentences:\n",
    "                # Tokenize: find words (alphanumeric sequences)\n",
    "                tokens = re.findall(r\"\\b\\w+\\b\", sentence)\n",
    "                if len(tokens) > 1: # Only consider sentences with more than one token\n",
    "                    processed_sentences.append(tokens)\n",
    "        return processed_sentences\n",
    "\n",
    "    print(\"Preprocessing contexts for Word2Vec training...\")\n",
    "    # Using all available contexts from 'df' for training for a richer vocabulary\n",
    "    context_corpus_for_w2v = preprocess_text_for_w2v(df[\"context\"])\n",
    "\n",
    "    w2v_model = None\n",
    "    if context_corpus_for_w2v:\n",
    "        try:\n",
    "            print(f\"Training Word2Vec model on {len(context_corpus_for_w2v)} sentences from contexts...\")\n",
    "            w2v_model = Word2Vec(sentences=context_corpus_for_w2v,\n",
    "                                 vector_size=W2V_VECTOR_SIZE,\n",
    "                                 window=5,\n",
    "                                 min_count=5, # Ignore words with total frequency lower than this\n",
    "                                 workers=4)   # Number of worker threads to train the model\n",
    "            print(f\"Custom Word2Vec model vocabulary size: {len(w2v_model.wv.index_to_key)}\")\n",
    "\n",
    "            # --- Visualization of Word Embeddings (t-SNE) ---\n",
    "            if len(w2v_model.wv.index_to_key) > 0:\n",
    "                num_words_for_tsne = min(300, len(w2v_model.wv.index_to_key)) # Sample for visualization\n",
    "                words_for_tsne = w2v_model.wv.index_to_key[:num_words_for_tsne]\n",
    "                word_vectors_for_tsne = w2v_model.wv[words_for_tsne]\n",
    "\n",
    "                print(f\"\\nRunning t-SNE for {num_words_for_tsne} word embeddings (this might take a moment)...\")\n",
    "                perplexity_val = min(30, num_words_for_tsne - 1 if num_words_for_tsne > 1 else 1)\n",
    "                perplexity_val = max(1, perplexity_val)\n",
    "\n",
    "                tsne = TSNE(n_components=3,\n",
    "                            random_state=RANDOM_STATE,\n",
    "                            n_iter=1000, # Default is 1000, can increase for better stability\n",
    "                            perplexity=perplexity_val)\n",
    "                tsne_embeddings = tsne.fit_transform(word_vectors_for_tsne)\n",
    "\n",
    "                tsne_df = pd.DataFrame(tsne_embeddings, columns=['x', 'y', 'z'])\n",
    "                tsne_df['word'] = words_for_tsne\n",
    "\n",
    "                fig_w2v = px.scatter_3d(tsne_df, x='x', y='y', z='z', text='word',\n",
    "                                        title=f\"3D t-SNE of Custom Word Embeddings (Top {num_words_for_tsne} words from Contexts)\")\n",
    "                fig_w2v.update_traces(marker=dict(size=2), textfont_size=8)\n",
    "                fig_w2v.show()\n",
    "\n",
    "\n",
    "        except Exception as e:\n",
    "            print(f\"Error during custom Word2Vec analysis: {e}\")\n",
    "    else:\n",
    "        print(\"No sentences available after preprocessing contexts for Word2Vec training.\")\n",
    "else:\n",
    "    print(\"Skipping custom Word2Vec analysis as DataFrame is empty.\")"
   ],
   "metadata": {
    "id": "WACnVtqjNMLA",
    "colab": {
     "base_uri": "https://localhost:8080/",
     "height": 718
    },
    "outputId": "52bb331e-ea76-41c5-f27d-0b5889535dfc"
   },
   "id": "WACnVtqjNMLA",
   "execution_count": null,
   "outputs": [
    {
     "output_type": "stream",
     "name": "stdout",
     "text": [
      "\n",
      "--- 4. Custom Word Embeddings: Word2Vec Trained on Contexts ---\n",
      "Preprocessing contexts for Word2Vec training...\n",
      "Training Word2Vec model on 374134 sentences from contexts...\n",
      "Custom Word2Vec model vocabulary size: 45006\n",
      "\n",
      "Running t-SNE for 300 word embeddings (this might take a moment)...\n"
     ]
    },
    {
     "output_type": "stream",
     "name": "stderr",
     "text": [
      "/usr/local/lib/python3.11/dist-packages/sklearn/manifold/_t_sne.py:1164: FutureWarning: 'n_iter' was renamed to 'max_iter' in version 1.5 and will be removed in 1.7.\n",
      "  warnings.warn(\n"
     ]
    },
    {
     "output_type": "display_data",
     "data": {
      "text/html": [
       "<html>\n",
       "<head><meta charset=\"utf-8\" /></head>\n",
       "<body>\n",
       "    <div>            <script src=\"https://cdnjs.cloudflare.com/ajax/libs/mathjax/2.7.5/MathJax.js?config=TeX-AMS-MML_SVG\"></script><script type=\"text/javascript\">if (window.MathJax && window.MathJax.Hub && window.MathJax.Hub.Config) {window.MathJax.Hub.Config({SVG: {font: \"STIX-Web\"}});}</script>                <script type=\"text/javascript\">window.PlotlyConfig = {MathJaxConfig: 'local'};</script>\n",
       "        <script charset=\"utf-8\" src=\"https://cdn.plot.ly/plotly-2.35.2.min.js\"></script>                <div id=\"d9741e6d-0c33-47bd-bc81-dcddae3b0735\" class=\"plotly-graph-div\" style=\"height:525px; width:100%;\"></div>            <script type=\"text/javascript\">                                    window.PLOTLYENV=window.PLOTLYENV || {};                                    if (document.getElementById(\"d9741e6d-0c33-47bd-bc81-dcddae3b0735\")) {                    Plotly.newPlot(                        \"d9741e6d-0c33-47bd-bc81-dcddae3b0735\",                        [{\"hovertemplate\":\"x=%{x}\\u003cbr\\u003ey=%{y}\\u003cbr\\u003ez=%{z}\\u003cbr\\u003eword=%{text}\\u003cextra\\u003e\\u003c\\u002fextra\\u003e\",\"legendgroup\":\"\",\"marker\":{\"color\":\"#636efa\",\"symbol\":\"circle\",\"size\":2},\"mode\":\"markers+text\",\"name\":\"\",\"scene\":\"scene\",\"showlegend\":false,\"text\":[\"the\",\"and\",\"to\",\"of\",\"a\",\"in\",\"is\",\"for\",\"that\",\"i\",\"you\",\"with\",\"on\",\"it\",\"this\",\"are\",\"as\",\"be\",\"at\",\"have\",\"your\",\"was\",\"from\",\"or\",\"by\",\"we\",\"will\",\"not\",\"but\",\"an\",\"can\",\"my\",\"all\",\"they\",\"its\",\"more\",\"has\",\"if\",\"he\",\"one\",\"so\",\"their\",\"about\",\"our\",\"when\",\"what\",\"his\",\"up\",\"out\",\"there\",\"also\",\"which\",\"time\",\"do\",\"who\",\"like\",\"new\",\"were\",\"just\",\"some\",\"get\",\"how\",\"would\",\"been\",\"me\",\"had\",\"other\",\"no\",\"her\",\"them\",\"said\",\"people\",\"into\",\"than\",\"she\",\"make\",\"these\",\"first\",\"only\",\"may\",\"most\",\"well\",\"1\",\"now\",\"any\",\"after\",\"over\",\"us\",\"very\",\"good\",\"many\",\"use\",\"work\",\"see\",\"2\",\"then\",\"years\",\"way\",\"two\",\"dont\",\"know\",\"because\",\"even\",\"need\",\"year\",\"through\",\"day\",\"could\",\"best\",\"back\",\"much\",\"where\",\"here\",\"while\",\"great\",\"should\",\"want\",\"take\",\"love\",\"im\",\"go\",\"such\",\"those\",\"help\",\"before\",\"think\",\"being\",\"really\",\"3\",\"last\",\"right\",\"home\",\"life\",\"business\",\"find\",\"5\",\"free\",\"made\",\"world\",\"am\",\"going\",\"information\",\"him\",\"still\",\"used\",\"off\",\"too\",\"each\",\"around\",\"every\",\"down\",\"own\",\"4\",\"look\",\"both\",\"things\",\"did\",\"little\",\"place\",\"another\",\"part\",\"same\",\"few\",\"next\",\"lot\",\"high\",\"since\",\"during\",\"long\",\"10\",\"using\",\"online\",\"always\",\"different\",\"service\",\"something\",\"team\",\"game\",\"company\",\"three\",\"come\",\"why\",\"between\",\"better\",\"does\",\"read\",\"state\",\"school\",\"without\",\"top\",\"never\",\"family\",\"sure\",\"thats\",\"got\",\"however\",\"say\",\"days\",\"set\",\"services\",\"might\",\"experience\",\"keep\",\"system\",\"data\",\"big\",\"give\",\"number\",\"health\",\"available\",\"end\",\"youre\",\"including\",\"must\",\"support\",\"s\",\"week\",\"feel\",\"start\",\"show\",\"6\",\"again\",\"city\",\"money\",\"group\",\"under\",\"com\",\"water\",\"found\",\"today\",\"able\",\"book\",\"price\",\"small\",\"put\",\"looking\",\"making\",\"house\",\"important\",\"food\",\"once\",\"ive\",\"0\",\"having\",\"thing\",\"area\",\"7\",\"away\",\"times\",\"play\",\"says\",\"working\",\"students\",\"change\",\"open\",\"against\",\"full\",\"local\",\"within\",\"site\",\"old\",\"market\",\"public\",\"though\",\"please\",\"research\",\"post\",\"care\",\"didnt\",\"point\",\"design\",\"getting\",\"until\",\"real\",\"second\",\"provide\",\"power\",\"course\",\"room\",\"process\",\"community\",\"order\",\"cant\",\"try\",\"case\",\"8\",\"together\",\"12\",\"often\",\"program\",\"season\",\"enough\",\"products\",\"person\",\"news\",\"m\",\"social\",\"name\",\"website\",\"national\"],\"x\":[15.350013,106.823364,-59.26605,-5.705475,-17.105627,-18.323019,38.759865,2.143412,-32.719093,-39.01565,-47.71664,8.157742,-43.23326,-22.849613,-17.386059,44.763927,-48.127296,9.011299,-33.716805,16.588688,16.915031,43.221077,2.7723968,7.2596893,1.3295779,-49.58669,38.46395,-45.008366,-18.826313,-4.8730493,52.197388,0.2120756,-32.583466,-45.284214,28.848106,-70.0738,15.411443,-16.927135,-8.835417,-28.102406,-35.474876,9.665732,7.4154806,19.027624,-21.91912,-33.731335,-9.502981,-47.04361,-52.22087,-36.249767,-29.202461,-29.950346,-0.23443602,44.999596,-45.982967,54.632618,-70.61447,45.923927,-23.311014,-45.6902,28.478445,-43.908913,31.233912,14.849955,-25.011473,18.026564,-40.437363,-35.119617,-8.029552,-22.22749,33.343815,-31.022566,-71.92615,-2.3400607,-14.849405,18.44687,-38.31176,-9.7833185,-20.890558,25.876747,-68.58119,-61.21039,79.90464,-18.054333,-9.597253,-16.140547,-62.57384,-28.489384,-48.331116,-54.51655,-52.62017,55.71068,-0.8580131,36.098827,81.04979,-78.76421,22.523369,-16.273563,-30.255556,55.10371,45.336586,-22.985205,-11.688447,62.897736,20.573078,-62.383884,8.496957,42.915173,-63.696384,-47.01468,-61.532726,-30.676779,-27.127417,-11.06866,-64.45228,40.015945,65.96415,30.681618,61.282215,52.370712,32.921906,-58.106007,-45.051388,49.680134,-15.178971,49.24324,4.1749954,-36.90344,69.9275,2.8673072,-24.129913,-9.712406,-0.6220044,14.024155,38.671642,57.496155,52.208347,6.393386,7.4660325,60.275124,-16.99341,38.067356,-15.463976,-25.75256,47.168365,-53.776783,-42.332363,-23.950586,-55.273396,-15.245035,-61.534073,-19.80354,66.051735,-59.088985,-31.962858,-37.771027,33.693123,-51.56823,-7.268662,-8.011835,-0.42894024,-15.044044,-39.113552,-0.94713044,-58.16149,-40.32202,-25.527214,-14.653781,-59.69481,57.791374,54.440353,44.978817,-32.72511,-36.417816,30.368982,-29.213945,7.8974767,11.919559,20.18979,-23.772924,25.321726,-27.228645,-20.059395,-68.80788,22.752062,29.506067,-6.278308,-16.422869,1.539927,32.510185,-40.451523,-8.814827,-26.219038,38.318512,20.260695,-10.805439,42.093994,26.378872,17.357697,32.60697,30.16047,8.2765255,15.137719,30.853315,37.610947,-61.420258,31.250555,-22.435766,20.969648,43.6867,5.606475,43.928246,-5.872296,39.082348,17.153399,60.136463,10.307295,43.98084,29.933914,19.606428,69.41164,-6.6528435,-9.86024,-12.4555235,3.5222278,-11.481285,39.842403,32.039448,8.928308,64.31702,-19.043367,19.205154,42.653152,-34.30791,22.255077,-63.77131,6.7896185,-12.73718,-46.914833,31.28616,-18.946814,4.1414256,76.79254,6.1446056,-24.160215,-7.560895,60.09343,-56.907623,24.590996,16.800585,31.399992,4.214133,-5.644566,25.492353,26.80012,-17.977612,16.065445,3.9637892,-10.980332,31.92111,-20.75363,29.26414,5.0006766,-9.861352,55.252728,19.268005,25.939096,23.014637,45.74053,-3.125172,12.985236,0.71926224,-28.417265,-64.589714,-13.42626,45.462727,27.235268,0.31532452,-15.673764,23.048462,1.1312958,46.175186,49.138042,44.497643,-1.4731532,72.18175,-52.437157,66.9978,-42.14772,17.018976,13.225107,-39.736446,38.461227,-11.948933,33.124783,69.86469,3.144804,4.897799,32.49827,3.6737711],\"y\":[-11.500666,-156.99954,-6.569662,-11.945906,57.65714,-2.1134503,-27.457848,5.632626,-39.94161,-26.124577,-12.71734,7.462198,-1.2408235,-32.007885,-42.710648,-2.0510542,26.17247,31.24195,12.425964,62.74453,3.4859724,-31.779453,-11.471038,25.736351,-13.472506,-25.877193,37.715595,-20.436096,22.579575,52.51563,37.237587,12.494438,-27.344255,-21.40846,-26.903244,-34.977936,55.208904,48.01636,-31.053738,64.49145,18.251768,-7.865066,32.353523,-11.5699835,40.764454,53.020775,1.9416857,42.11484,20.632992,10.604098,-10.046061,-50.254723,-14.242756,13.756908,-44.236244,24.416674,-3.0675282,-10.36091,11.613711,-26.753275,27.558844,47.302975,49.73766,-43.885456,-5.481661,50.339542,-53.554047,44.61657,4.9618154,-10.120795,26.819166,-11.47861,32.780243,20.961538,-26.170137,46.75092,-44.400826,69.65789,27.102627,33.618355,23.258955,-31.198137,-21.746792,-2.057713,39.209232,26.215517,18.56356,-0.6179012,16.79057,1.5442445,-34.19299,16.829441,-52.430717,24.295963,-17.194336,5.4750557,-30.323315,-18.293825,-48.027996,51.921093,35.559498,29.9841,12.501855,17.381433,-10.029938,33.55112,-19.071053,47.08778,8.684011,21.841213,-19.72727,39.002495,4.479623,12.849087,-0.7680489,34.61095,26.750664,36.662003,32.85837,-14.170726,23.153566,-40.943447,-45.430313,27.27681,30.140688,40.90355,22.146336,10.880842,-11.980886,67.0881,24.625963,-27.03089,-33.531124,-45.78805,28.181196,-17.911427,-7.663657,34.1182,-25.251308,-19.941544,21.95034,-37.60901,-3.9585063,4.238203,5.703613,31.36772,26.468191,47.738503,24.733877,52.627068,25.509464,-39.50605,-24.951614,53.11499,-21.806816,3.364699,55.224277,-6.4416466,-16.48955,54.148724,-14.225345,39.517654,-39.069496,63.40305,-18.532246,-21.135048,10.812612,14.568998,-20.102642,-22.224335,13.360191,-18.92406,0.50230014,-42.38398,-46.727386,9.425446,-33.036007,4.921657,-39.906082,-43.194355,23.011679,42.16766,-17.741941,-25.648478,56.267426,16.851263,-50.873363,-61.268482,21.107376,-7.8052573,-11.057621,-45.253605,29.60835,-25.919176,38.72661,15.47849,32.150322,-19.30097,10.958769,-56.844498,42.373276,-41.836834,30.792675,-28.793411,-32.156822,1.9788327,41.004726,-35.881813,-63.49675,-4.845217,2.5937307,-7.9496613,-25.373507,26.256706,-54.23187,-49.697624,-12.6451,51.418053,8.930643,11.293904,-23.67474,15.4133215,-44.199028,-18.277252,-42.856976,-6.707725,-5.7282286,-64.87551,22.161581,5.1447296,29.360186,-2.2581787,-41.496605,-28.219296,32.75247,44.067623,42.11809,-35.116825,-5.0993567,-64.29801,25.62574,63.35835,-34.86721,54.542995,-4.12011,-31.62626,-32.167835,13.360495,-8.729077,13.393201,29.10785,-61.06736,-66.76284,-6.794543,3.0468588,-2.715409,-8.914961,-55.872578,-7.7393365,-18.453554,-13.56166,-37.89777,-58.628838,27.161428,-9.072208,-45.84103,5.8975186,-72.44656,56.775677,-6.6511216,-27.436882,49.5853,23.733685,14.361755,63.277466,41.660812,-20.6621,-8.660137,-25.135662,-26.396898,-52.340385,1.0861213,45.211216,15.33431,6.4958324,-24.526634,39.510567,-12.040879,-13.97135,-38.980667,1.3702642,25.64862,-55.69482,-0.71074647,6.284567,-40.71941,-71.05901,-0.7558202,-24.443165,-45.01854],\"z\":[-3.2173007,4.427231,-28.45315,38.497944,-35.684673,47.374557,-40.86302,45.876617,-28.66277,-57.492283,-52.156765,63.396263,52.92272,-40.677673,-38.037544,-53.736042,21.933537,-28.802011,67.21065,23.29008,-65.433846,-49.395138,55.55944,39.13078,73.19112,-51.047264,-60.02998,-19.829685,13.281933,-44.36194,-52.233055,-65.79046,-4.0468326,-43.192993,-25.068521,-14.455706,40.39998,33.78711,-58.022312,-15.091926,8.163736,-68.95838,59.88482,-68.017235,43.512615,18.197857,-74.7819,-42.368057,-53.091217,28.254051,4.111032,-28.94815,-26.024904,-28.124863,-25.011524,33.6719,-7.355106,-58.126884,-8.529313,3.9368832,-7.284399,22.062244,-56.55088,-34.94596,-57.477093,28.64559,21.19813,-4.771495,-65.426125,-42.706184,57.401028,-33.45803,-28.708147,-0.34991974,-63.50673,-5.640601,7.926525,-7.4500628,-3.0941281,-53.483154,31.810802,35.06288,-7.69327,13.484611,-22.807537,64.280334,-20.50083,-45.26257,0.99566984,15.538793,11.967785,-0.7731236,-19.223242,11.761039,5.3126235,5.25954,61.71159,-15.420965,48.554623,-26.719065,16.171085,22.418608,-0.7201748,-23.909523,-42.097103,-18.901121,-35.099194,-49.68048,31.681862,-39.72963,21.62957,34.273754,22.670732,33.62281,16.839611,-45.27755,-23.336458,-18.020784,18.382921,-35.08494,-20.804317,33.402107,-0.8580465,-13.592484,54.07821,25.570316,-38.65185,-4.789356,-2.1632533,-4.3985972,-19.25417,-0.006542904,-18.330357,-7.7636557,0.9770947,1.0612729,31.305307,8.817421,-13.550008,-38.257538,-43.18575,31.456001,-52.497494,6.40054,7.4440103,-45.432407,8.126459,-21.816122,-25.997019,-19.16847,-39.922516,-12.683476,-7.6284366,1.9594767,7.1377053,-19.680725,-36.61035,2.1921935,-6.2447276,-31.643148,14.274025,-5.096392,53.29014,-16.995584,0.7572613,38.253403,45.32272,61.391193,36.295036,14.928606,9.257708,34.55665,-3.1329253,20.062946,11.953872,-25.81314,5.606967,-25.297493,-1.3263335,53.52535,-28.76144,16.738562,59.317596,-16.992235,-40.44845,23.650528,32.363914,14.818447,48.164894,8.410496,-10.31875,0.3053466,-36.67324,-28.932272,17.211279,14.9736395,27.737087,63.50677,8.088058,14.539546,-45.698177,-20.399204,-11.655021,6.6611223,19.21201,3.9643333,-4.947674,36.56965,25.074593,19.69184,-7.2646527,-32.58128,50.686806,-52.734577,9.817817,17.601223,-43.493958,16.886927,-15.096164,-4.1149073,5.2650385,-18.602478,23.768833,-34.729603,12.434824,64.322716,42.96437,-16.273767,19.046173,19.142227,-50.626686,28.72189,-9.138697,26.274479,5.698866,5.648922,2.8215644,8.698149,26.889736,-4.444777,40.092365,33.467007,0.11158989,23.094332,-15.823337,22.070992,3.8124998,-37.803753,59.144196,-15.769916,48.34684,-16.589151,-0.013376595,-13.804983,4.863052,73.68127,10.43282,17.91279,52.926258,30.141846,27.426268,-9.7694645,31.348715,23.20881,50.998947,29.54825,29.250982,13.035986,-29.219713,-13.41732,27.901756,15.42715,50.05327,8.065152,-0.5240684,-6.1800346,-4.6332583,5.2643166,14.074297,14.6443405,6.703796,-10.585582,-35.24661,-15.248955,16.243889,17.38349,-25.465128,12.44314,15.917384,16.71609,-36.821262,-6.396839,2.3695476,-27.220858,42.30468,14.1791725,27.406488,25.773321,37.862076,36.7213],\"type\":\"scatter3d\",\"textfont\":{\"size\":8}}],                        {\"template\":{\"data\":{\"histogram2dcontour\":[{\"type\":\"histogram2dcontour\",\"colorbar\":{\"outlinewidth\":0,\"ticks\":\"\"},\"colorscale\":[[0.0,\"#0d0887\"],[0.1111111111111111,\"#46039f\"],[0.2222222222222222,\"#7201a8\"],[0.3333333333333333,\"#9c179e\"],[0.4444444444444444,\"#bd3786\"],[0.5555555555555556,\"#d8576b\"],[0.6666666666666666,\"#ed7953\"],[0.7777777777777778,\"#fb9f3a\"],[0.8888888888888888,\"#fdca26\"],[1.0,\"#f0f921\"]]}],\"choropleth\":[{\"type\":\"choropleth\",\"colorbar\":{\"outlinewidth\":0,\"ticks\":\"\"}}],\"histogram2d\":[{\"type\":\"histogram2d\",\"colorbar\":{\"outlinewidth\":0,\"ticks\":\"\"},\"colorscale\":[[0.0,\"#0d0887\"],[0.1111111111111111,\"#46039f\"],[0.2222222222222222,\"#7201a8\"],[0.3333333333333333,\"#9c179e\"],[0.4444444444444444,\"#bd3786\"],[0.5555555555555556,\"#d8576b\"],[0.6666666666666666,\"#ed7953\"],[0.7777777777777778,\"#fb9f3a\"],[0.8888888888888888,\"#fdca26\"],[1.0,\"#f0f921\"]]}],\"heatmap\":[{\"type\":\"heatmap\",\"colorbar\":{\"outlinewidth\":0,\"ticks\":\"\"},\"colorscale\":[[0.0,\"#0d0887\"],[0.1111111111111111,\"#46039f\"],[0.2222222222222222,\"#7201a8\"],[0.3333333333333333,\"#9c179e\"],[0.4444444444444444,\"#bd3786\"],[0.5555555555555556,\"#d8576b\"],[0.6666666666666666,\"#ed7953\"],[0.7777777777777778,\"#fb9f3a\"],[0.8888888888888888,\"#fdca26\"],[1.0,\"#f0f921\"]]}],\"heatmapgl\":[{\"type\":\"heatmapgl\",\"colorbar\":{\"outlinewidth\":0,\"ticks\":\"\"},\"colorscale\":[[0.0,\"#0d0887\"],[0.1111111111111111,\"#46039f\"],[0.2222222222222222,\"#7201a8\"],[0.3333333333333333,\"#9c179e\"],[0.4444444444444444,\"#bd3786\"],[0.5555555555555556,\"#d8576b\"],[0.6666666666666666,\"#ed7953\"],[0.7777777777777778,\"#fb9f3a\"],[0.8888888888888888,\"#fdca26\"],[1.0,\"#f0f921\"]]}],\"contourcarpet\":[{\"type\":\"contourcarpet\",\"colorbar\":{\"outlinewidth\":0,\"ticks\":\"\"}}],\"contour\":[{\"type\":\"contour\",\"colorbar\":{\"outlinewidth\":0,\"ticks\":\"\"},\"colorscale\":[[0.0,\"#0d0887\"],[0.1111111111111111,\"#46039f\"],[0.2222222222222222,\"#7201a8\"],[0.3333333333333333,\"#9c179e\"],[0.4444444444444444,\"#bd3786\"],[0.5555555555555556,\"#d8576b\"],[0.6666666666666666,\"#ed7953\"],[0.7777777777777778,\"#fb9f3a\"],[0.8888888888888888,\"#fdca26\"],[1.0,\"#f0f921\"]]}],\"surface\":[{\"type\":\"surface\",\"colorbar\":{\"outlinewidth\":0,\"ticks\":\"\"},\"colorscale\":[[0.0,\"#0d0887\"],[0.1111111111111111,\"#46039f\"],[0.2222222222222222,\"#7201a8\"],[0.3333333333333333,\"#9c179e\"],[0.4444444444444444,\"#bd3786\"],[0.5555555555555556,\"#d8576b\"],[0.6666666666666666,\"#ed7953\"],[0.7777777777777778,\"#fb9f3a\"],[0.8888888888888888,\"#fdca26\"],[1.0,\"#f0f921\"]]}],\"mesh3d\":[{\"type\":\"mesh3d\",\"colorbar\":{\"outlinewidth\":0,\"ticks\":\"\"}}],\"scatter\":[{\"fillpattern\":{\"fillmode\":\"overlay\",\"size\":10,\"solidity\":0.2},\"type\":\"scatter\"}],\"parcoords\":[{\"type\":\"parcoords\",\"line\":{\"colorbar\":{\"outlinewidth\":0,\"ticks\":\"\"}}}],\"scatterpolargl\":[{\"type\":\"scatterpolargl\",\"marker\":{\"colorbar\":{\"outlinewidth\":0,\"ticks\":\"\"}}}],\"bar\":[{\"error_x\":{\"color\":\"#2a3f5f\"},\"error_y\":{\"color\":\"#2a3f5f\"},\"marker\":{\"line\":{\"color\":\"#E5ECF6\",\"width\":0.5},\"pattern\":{\"fillmode\":\"overlay\",\"size\":10,\"solidity\":0.2}},\"type\":\"bar\"}],\"scattergeo\":[{\"type\":\"scattergeo\",\"marker\":{\"colorbar\":{\"outlinewidth\":0,\"ticks\":\"\"}}}],\"scatterpolar\":[{\"type\":\"scatterpolar\",\"marker\":{\"colorbar\":{\"outlinewidth\":0,\"ticks\":\"\"}}}],\"histogram\":[{\"marker\":{\"pattern\":{\"fillmode\":\"overlay\",\"size\":10,\"solidity\":0.2}},\"type\":\"histogram\"}],\"scattergl\":[{\"type\":\"scattergl\",\"marker\":{\"colorbar\":{\"outlinewidth\":0,\"ticks\":\"\"}}}],\"scatter3d\":[{\"type\":\"scatter3d\",\"line\":{\"colorbar\":{\"outlinewidth\":0,\"ticks\":\"\"}},\"marker\":{\"colorbar\":{\"outlinewidth\":0,\"ticks\":\"\"}}}],\"scattermapbox\":[{\"type\":\"scattermapbox\",\"marker\":{\"colorbar\":{\"outlinewidth\":0,\"ticks\":\"\"}}}],\"scatterternary\":[{\"type\":\"scatterternary\",\"marker\":{\"colorbar\":{\"outlinewidth\":0,\"ticks\":\"\"}}}],\"scattercarpet\":[{\"type\":\"scattercarpet\",\"marker\":{\"colorbar\":{\"outlinewidth\":0,\"ticks\":\"\"}}}],\"carpet\":[{\"aaxis\":{\"endlinecolor\":\"#2a3f5f\",\"gridcolor\":\"white\",\"linecolor\":\"white\",\"minorgridcolor\":\"white\",\"startlinecolor\":\"#2a3f5f\"},\"baxis\":{\"endlinecolor\":\"#2a3f5f\",\"gridcolor\":\"white\",\"linecolor\":\"white\",\"minorgridcolor\":\"white\",\"startlinecolor\":\"#2a3f5f\"},\"type\":\"carpet\"}],\"table\":[{\"cells\":{\"fill\":{\"color\":\"#EBF0F8\"},\"line\":{\"color\":\"white\"}},\"header\":{\"fill\":{\"color\":\"#C8D4E3\"},\"line\":{\"color\":\"white\"}},\"type\":\"table\"}],\"barpolar\":[{\"marker\":{\"line\":{\"color\":\"#E5ECF6\",\"width\":0.5},\"pattern\":{\"fillmode\":\"overlay\",\"size\":10,\"solidity\":0.2}},\"type\":\"barpolar\"}],\"pie\":[{\"automargin\":true,\"type\":\"pie\"}]},\"layout\":{\"autotypenumbers\":\"strict\",\"colorway\":[\"#636efa\",\"#EF553B\",\"#00cc96\",\"#ab63fa\",\"#FFA15A\",\"#19d3f3\",\"#FF6692\",\"#B6E880\",\"#FF97FF\",\"#FECB52\"],\"font\":{\"color\":\"#2a3f5f\"},\"hovermode\":\"closest\",\"hoverlabel\":{\"align\":\"left\"},\"paper_bgcolor\":\"white\",\"plot_bgcolor\":\"#E5ECF6\",\"polar\":{\"bgcolor\":\"#E5ECF6\",\"angularaxis\":{\"gridcolor\":\"white\",\"linecolor\":\"white\",\"ticks\":\"\"},\"radialaxis\":{\"gridcolor\":\"white\",\"linecolor\":\"white\",\"ticks\":\"\"}},\"ternary\":{\"bgcolor\":\"#E5ECF6\",\"aaxis\":{\"gridcolor\":\"white\",\"linecolor\":\"white\",\"ticks\":\"\"},\"baxis\":{\"gridcolor\":\"white\",\"linecolor\":\"white\",\"ticks\":\"\"},\"caxis\":{\"gridcolor\":\"white\",\"linecolor\":\"white\",\"ticks\":\"\"}},\"coloraxis\":{\"colorbar\":{\"outlinewidth\":0,\"ticks\":\"\"}},\"colorscale\":{\"sequential\":[[0.0,\"#0d0887\"],[0.1111111111111111,\"#46039f\"],[0.2222222222222222,\"#7201a8\"],[0.3333333333333333,\"#9c179e\"],[0.4444444444444444,\"#bd3786\"],[0.5555555555555556,\"#d8576b\"],[0.6666666666666666,\"#ed7953\"],[0.7777777777777778,\"#fb9f3a\"],[0.8888888888888888,\"#fdca26\"],[1.0,\"#f0f921\"]],\"sequentialminus\":[[0.0,\"#0d0887\"],[0.1111111111111111,\"#46039f\"],[0.2222222222222222,\"#7201a8\"],[0.3333333333333333,\"#9c179e\"],[0.4444444444444444,\"#bd3786\"],[0.5555555555555556,\"#d8576b\"],[0.6666666666666666,\"#ed7953\"],[0.7777777777777778,\"#fb9f3a\"],[0.8888888888888888,\"#fdca26\"],[1.0,\"#f0f921\"]],\"diverging\":[[0,\"#8e0152\"],[0.1,\"#c51b7d\"],[0.2,\"#de77ae\"],[0.3,\"#f1b6da\"],[0.4,\"#fde0ef\"],[0.5,\"#f7f7f7\"],[0.6,\"#e6f5d0\"],[0.7,\"#b8e186\"],[0.8,\"#7fbc41\"],[0.9,\"#4d9221\"],[1,\"#276419\"]]},\"xaxis\":{\"gridcolor\":\"white\",\"linecolor\":\"white\",\"ticks\":\"\",\"title\":{\"standoff\":15},\"zerolinecolor\":\"white\",\"automargin\":true,\"zerolinewidth\":2},\"yaxis\":{\"gridcolor\":\"white\",\"linecolor\":\"white\",\"ticks\":\"\",\"title\":{\"standoff\":15},\"zerolinecolor\":\"white\",\"automargin\":true,\"zerolinewidth\":2},\"scene\":{\"xaxis\":{\"backgroundcolor\":\"#E5ECF6\",\"gridcolor\":\"white\",\"linecolor\":\"white\",\"showbackground\":true,\"ticks\":\"\",\"zerolinecolor\":\"white\",\"gridwidth\":2},\"yaxis\":{\"backgroundcolor\":\"#E5ECF6\",\"gridcolor\":\"white\",\"linecolor\":\"white\",\"showbackground\":true,\"ticks\":\"\",\"zerolinecolor\":\"white\",\"gridwidth\":2},\"zaxis\":{\"backgroundcolor\":\"#E5ECF6\",\"gridcolor\":\"white\",\"linecolor\":\"white\",\"showbackground\":true,\"ticks\":\"\",\"zerolinecolor\":\"white\",\"gridwidth\":2}},\"shapedefaults\":{\"line\":{\"color\":\"#2a3f5f\"}},\"annotationdefaults\":{\"arrowcolor\":\"#2a3f5f\",\"arrowhead\":0,\"arrowwidth\":1},\"geo\":{\"bgcolor\":\"white\",\"landcolor\":\"#E5ECF6\",\"subunitcolor\":\"white\",\"showland\":true,\"showlakes\":true,\"lakecolor\":\"white\"},\"title\":{\"x\":0.05},\"mapbox\":{\"style\":\"light\"}}},\"scene\":{\"domain\":{\"x\":[0.0,1.0],\"y\":[0.0,1.0]},\"xaxis\":{\"title\":{\"text\":\"x\"}},\"yaxis\":{\"title\":{\"text\":\"y\"}},\"zaxis\":{\"title\":{\"text\":\"z\"}}},\"legend\":{\"tracegroupgap\":0},\"title\":{\"text\":\"3D t-SNE of Custom Word Embeddings (Top 300 words from Contexts)\"}},                        {\"responsive\": true}                    ).then(function(){\n",
       "                            \n",
       "var gd = document.getElementById('d9741e6d-0c33-47bd-bc81-dcddae3b0735');\n",
       "var x = new MutationObserver(function (mutations, observer) {{\n",
       "        var display = window.getComputedStyle(gd).display;\n",
       "        if (!display || display === 'none') {{\n",
       "            console.log([gd, 'removed!']);\n",
       "            Plotly.purge(gd);\n",
       "            observer.disconnect();\n",
       "        }}\n",
       "}});\n",
       "\n",
       "// Listen for the removal of the full notebook cells\n",
       "var notebookContainer = gd.closest('#notebook-container');\n",
       "if (notebookContainer) {{\n",
       "    x.observe(notebookContainer, {childList: true});\n",
       "}}\n",
       "\n",
       "// Listen for the clearing of the current output cell\n",
       "var outputEl = gd.closest('.output');\n",
       "if (outputEl) {{\n",
       "    x.observe(outputEl, {childList: true});\n",
       "}}\n",
       "\n",
       "                        })                };                            </script>        </div>\n",
       "</body>\n",
       "</html>"
      ]
     },
     "metadata": {}
    }
   ]
  },
  {
   "cell_type": "markdown",
   "source": [
    "With our embeddings we can perform some interesting and easy tasks. For example we can sum 2 embeddings and see what is the reculting word"
   ],
   "metadata": {
    "id": "ypasIgGZSd0Y"
   },
   "id": "ypasIgGZSd0Y"
  },
  {
   "cell_type": "code",
   "source": [
    "vec = w2v_model.wv['duke'] + (w2v_model.wv['woman'] - w2v_model.wv['man'])\n",
    "vec, w2v_model.wv.most_similar([vec], topn=10)"
   ],
   "metadata": {
    "colab": {
     "base_uri": "https://localhost:8080/"
    },
    "id": "zSaf4kzQSoRk",
    "outputId": "fb7b5bbb-39e1-482b-a8ff-be4dad5b8a14"
   },
   "id": "zSaf4kzQSoRk",
   "execution_count": null,
   "outputs": [
    {
     "output_type": "execute_result",
     "data": {
      "text/plain": [
       "(array([ 1.6151296e+00, -2.3413488e-01,  9.7060817e-01, -1.2051917e+00,\n",
       "        -2.8115433e-01,  8.4582585e-01, -8.5059285e-02,  2.3599388e-01,\n",
       "        -1.3042125e+00,  3.5266480e-01,  2.9128146e-01, -2.0841032e-02,\n",
       "         9.6544880e-01,  1.4435419e-01, -1.0329579e+00, -7.7035534e-01,\n",
       "         1.5382591e+00,  4.6272331e-01, -8.1079531e-01,  4.0623896e-02,\n",
       "        -2.5150782e-01,  9.5354950e-01,  7.6551509e-01, -1.3464825e+00,\n",
       "        -1.7080320e-01,  4.3690127e-01,  1.7830729e-04,  1.0688031e+00,\n",
       "         3.3437696e-01, -3.1901136e-02,  5.2503300e-01,  6.4193970e-01,\n",
       "         9.6174568e-01, -8.5135108e-01, -1.0840032e+00, -1.0301068e+00,\n",
       "         5.3630704e-01,  3.3708370e-01,  1.9157839e+00,  7.9224110e-02,\n",
       "        -3.3694154e-01, -3.5164219e-01,  5.7653165e-01,  8.0873406e-01,\n",
       "         1.1676770e+00, -2.4374413e-01, -7.3451179e-01, -1.0092515e-01,\n",
       "         5.3152263e-02,  1.2172102e+00], dtype=float32),\n",
       " [('bachelor', 0.6693355441093445),\n",
       "  ('infant', 0.666530966758728),\n",
       "  ('postdoctoral', 0.6593334674835205),\n",
       "  ('dentistry', 0.6492018699645996),\n",
       "  ('veterinary', 0.6478017568588257),\n",
       "  ('librarian', 0.6432424783706665),\n",
       "  ('kindergarten', 0.6411960124969482),\n",
       "  ('moffitt', 0.6409359574317932),\n",
       "  ('eldest', 0.63807213306427),\n",
       "  ('judy', 0.6294817328453064)])"
      ]
     },
     "metadata": {},
     "execution_count": 9
    }
   ]
  },
  {
   "cell_type": "markdown",
   "source": [
    "Or we choose a random word, see what are the most similar words based on the embeddings we just computed, and have a 3d visualization of those words. I actually thought they would be closer in space, but they are at least semantically related\n"
   ],
   "metadata": {
    "id": "tvB-ugozf0pc"
   },
   "id": "tvB-ugozf0pc"
  },
  {
   "cell_type": "code",
   "source": [
    "from sklearn.manifold import TSNE\n",
    "import pandas as pd\n",
    "import plotly.express as px\n",
    "\n",
    "# we choose a random word and find the most similar\n",
    "example_word_w2v = 'cake'\n",
    "if example_word_w2v in w2v_model.wv:\n",
    "    neighbors = w2v_model.wv.most_similar(example_word_w2v, topn=5)\n",
    "    words_for_viz = [example_word_w2v] + [w for w, _ in neighbors]\n",
    "else:\n",
    "    words_for_viz = w2v_model.wv.index_to_key[:6]\n",
    "\n",
    "\n",
    "word_vectors = w2v_model.wv[words_for_viz]\n",
    "\n",
    "perplexity_val = min(30, len(words_for_viz) - 1)\n",
    "perplexity_val = max(1, perplexity_val)\n",
    "tsne = TSNE(n_components=3,\n",
    "            random_state=RANDOM_STATE,\n",
    "            n_iter=1000,\n",
    "            perplexity=perplexity_val)\n",
    "tsne_embeddings = tsne.fit_transform(word_vectors)\n",
    "\n",
    "tsne_df = pd.DataFrame(tsne_embeddings, columns=['x', 'y', 'z'])\n",
    "tsne_df['word'] = words_for_viz\n",
    "\n",
    "fig = px.scatter_3d(\n",
    "    tsne_df,\n",
    "    x='x', y='y', z='z',\n",
    "    text='word',\n",
    "    title=f\"3D t-SNE: '{example_word_w2v}' & Top {len(words_for_viz)-1} similar\"\n",
    ")\n",
    "fig.update_traces(marker=dict(size=4), textfont_size=10)\n",
    "fig.show()\n"
   ],
   "metadata": {
    "colab": {
     "base_uri": "https://localhost:8080/",
     "height": 611
    },
    "id": "oyg8lAUITA_i",
    "outputId": "cc445770-95b7-4e55-e45c-c6a984964ece"
   },
   "id": "oyg8lAUITA_i",
   "execution_count": null,
   "outputs": [
    {
     "output_type": "stream",
     "name": "stderr",
     "text": [
      "/usr/local/lib/python3.11/dist-packages/sklearn/manifold/_t_sne.py:1164: FutureWarning:\n",
      "\n",
      "'n_iter' was renamed to 'max_iter' in version 1.5 and will be removed in 1.7.\n",
      "\n"
     ]
    },
    {
     "output_type": "display_data",
     "data": {
      "text/html": [
       "<html>\n",
       "<head><meta charset=\"utf-8\" /></head>\n",
       "<body>\n",
       "    <div>            <script src=\"https://cdnjs.cloudflare.com/ajax/libs/mathjax/2.7.5/MathJax.js?config=TeX-AMS-MML_SVG\"></script><script type=\"text/javascript\">if (window.MathJax && window.MathJax.Hub && window.MathJax.Hub.Config) {window.MathJax.Hub.Config({SVG: {font: \"STIX-Web\"}});}</script>                <script type=\"text/javascript\">window.PlotlyConfig = {MathJaxConfig: 'local'};</script>\n",
       "        <script charset=\"utf-8\" src=\"https://cdn.plot.ly/plotly-2.35.2.min.js\"></script>                <div id=\"44731bc6-861d-432d-957f-9cfd193bb8ef\" class=\"plotly-graph-div\" style=\"height:525px; width:100%;\"></div>            <script type=\"text/javascript\">                                    window.PLOTLYENV=window.PLOTLYENV || {};                                    if (document.getElementById(\"44731bc6-861d-432d-957f-9cfd193bb8ef\")) {                    Plotly.newPlot(                        \"44731bc6-861d-432d-957f-9cfd193bb8ef\",                        [{\"hovertemplate\":\"x=%{x}\\u003cbr\\u003ey=%{y}\\u003cbr\\u003ez=%{z}\\u003cbr\\u003eword=%{text}\\u003cextra\\u003e\\u003c\\u002fextra\\u003e\",\"legendgroup\":\"\",\"marker\":{\"color\":\"#636efa\",\"symbol\":\"circle\",\"size\":4},\"mode\":\"markers+text\",\"name\":\"\",\"scene\":\"scene\",\"showlegend\":false,\"text\":[\"cake\",\"chocolate\",\"pie\",\"salad\",\"bread\",\"soup\"],\"x\":[-1.4601852,-24.661966,31.378885,-69.36846,76.71308,-117.253334],\"y\":[113.888084,-93.17544,48.71304,-19.014477,-25.479313,33.09416],\"z\":[-26.115353,66.90895,110.17901,-82.46575,-27.545534,54.681385],\"type\":\"scatter3d\",\"textfont\":{\"size\":10}}],                        {\"template\":{\"data\":{\"histogram2dcontour\":[{\"type\":\"histogram2dcontour\",\"colorbar\":{\"outlinewidth\":0,\"ticks\":\"\"},\"colorscale\":[[0.0,\"#0d0887\"],[0.1111111111111111,\"#46039f\"],[0.2222222222222222,\"#7201a8\"],[0.3333333333333333,\"#9c179e\"],[0.4444444444444444,\"#bd3786\"],[0.5555555555555556,\"#d8576b\"],[0.6666666666666666,\"#ed7953\"],[0.7777777777777778,\"#fb9f3a\"],[0.8888888888888888,\"#fdca26\"],[1.0,\"#f0f921\"]]}],\"choropleth\":[{\"type\":\"choropleth\",\"colorbar\":{\"outlinewidth\":0,\"ticks\":\"\"}}],\"histogram2d\":[{\"type\":\"histogram2d\",\"colorbar\":{\"outlinewidth\":0,\"ticks\":\"\"},\"colorscale\":[[0.0,\"#0d0887\"],[0.1111111111111111,\"#46039f\"],[0.2222222222222222,\"#7201a8\"],[0.3333333333333333,\"#9c179e\"],[0.4444444444444444,\"#bd3786\"],[0.5555555555555556,\"#d8576b\"],[0.6666666666666666,\"#ed7953\"],[0.7777777777777778,\"#fb9f3a\"],[0.8888888888888888,\"#fdca26\"],[1.0,\"#f0f921\"]]}],\"heatmap\":[{\"type\":\"heatmap\",\"colorbar\":{\"outlinewidth\":0,\"ticks\":\"\"},\"colorscale\":[[0.0,\"#0d0887\"],[0.1111111111111111,\"#46039f\"],[0.2222222222222222,\"#7201a8\"],[0.3333333333333333,\"#9c179e\"],[0.4444444444444444,\"#bd3786\"],[0.5555555555555556,\"#d8576b\"],[0.6666666666666666,\"#ed7953\"],[0.7777777777777778,\"#fb9f3a\"],[0.8888888888888888,\"#fdca26\"],[1.0,\"#f0f921\"]]}],\"heatmapgl\":[{\"type\":\"heatmapgl\",\"colorbar\":{\"outlinewidth\":0,\"ticks\":\"\"},\"colorscale\":[[0.0,\"#0d0887\"],[0.1111111111111111,\"#46039f\"],[0.2222222222222222,\"#7201a8\"],[0.3333333333333333,\"#9c179e\"],[0.4444444444444444,\"#bd3786\"],[0.5555555555555556,\"#d8576b\"],[0.6666666666666666,\"#ed7953\"],[0.7777777777777778,\"#fb9f3a\"],[0.8888888888888888,\"#fdca26\"],[1.0,\"#f0f921\"]]}],\"contourcarpet\":[{\"type\":\"contourcarpet\",\"colorbar\":{\"outlinewidth\":0,\"ticks\":\"\"}}],\"contour\":[{\"type\":\"contour\",\"colorbar\":{\"outlinewidth\":0,\"ticks\":\"\"},\"colorscale\":[[0.0,\"#0d0887\"],[0.1111111111111111,\"#46039f\"],[0.2222222222222222,\"#7201a8\"],[0.3333333333333333,\"#9c179e\"],[0.4444444444444444,\"#bd3786\"],[0.5555555555555556,\"#d8576b\"],[0.6666666666666666,\"#ed7953\"],[0.7777777777777778,\"#fb9f3a\"],[0.8888888888888888,\"#fdca26\"],[1.0,\"#f0f921\"]]}],\"surface\":[{\"type\":\"surface\",\"colorbar\":{\"outlinewidth\":0,\"ticks\":\"\"},\"colorscale\":[[0.0,\"#0d0887\"],[0.1111111111111111,\"#46039f\"],[0.2222222222222222,\"#7201a8\"],[0.3333333333333333,\"#9c179e\"],[0.4444444444444444,\"#bd3786\"],[0.5555555555555556,\"#d8576b\"],[0.6666666666666666,\"#ed7953\"],[0.7777777777777778,\"#fb9f3a\"],[0.8888888888888888,\"#fdca26\"],[1.0,\"#f0f921\"]]}],\"mesh3d\":[{\"type\":\"mesh3d\",\"colorbar\":{\"outlinewidth\":0,\"ticks\":\"\"}}],\"scatter\":[{\"fillpattern\":{\"fillmode\":\"overlay\",\"size\":10,\"solidity\":0.2},\"type\":\"scatter\"}],\"parcoords\":[{\"type\":\"parcoords\",\"line\":{\"colorbar\":{\"outlinewidth\":0,\"ticks\":\"\"}}}],\"scatterpolargl\":[{\"type\":\"scatterpolargl\",\"marker\":{\"colorbar\":{\"outlinewidth\":0,\"ticks\":\"\"}}}],\"bar\":[{\"error_x\":{\"color\":\"#2a3f5f\"},\"error_y\":{\"color\":\"#2a3f5f\"},\"marker\":{\"line\":{\"color\":\"#E5ECF6\",\"width\":0.5},\"pattern\":{\"fillmode\":\"overlay\",\"size\":10,\"solidity\":0.2}},\"type\":\"bar\"}],\"scattergeo\":[{\"type\":\"scattergeo\",\"marker\":{\"colorbar\":{\"outlinewidth\":0,\"ticks\":\"\"}}}],\"scatterpolar\":[{\"type\":\"scatterpolar\",\"marker\":{\"colorbar\":{\"outlinewidth\":0,\"ticks\":\"\"}}}],\"histogram\":[{\"marker\":{\"pattern\":{\"fillmode\":\"overlay\",\"size\":10,\"solidity\":0.2}},\"type\":\"histogram\"}],\"scattergl\":[{\"type\":\"scattergl\",\"marker\":{\"colorbar\":{\"outlinewidth\":0,\"ticks\":\"\"}}}],\"scatter3d\":[{\"type\":\"scatter3d\",\"line\":{\"colorbar\":{\"outlinewidth\":0,\"ticks\":\"\"}},\"marker\":{\"colorbar\":{\"outlinewidth\":0,\"ticks\":\"\"}}}],\"scattermapbox\":[{\"type\":\"scattermapbox\",\"marker\":{\"colorbar\":{\"outlinewidth\":0,\"ticks\":\"\"}}}],\"scatterternary\":[{\"type\":\"scatterternary\",\"marker\":{\"colorbar\":{\"outlinewidth\":0,\"ticks\":\"\"}}}],\"scattercarpet\":[{\"type\":\"scattercarpet\",\"marker\":{\"colorbar\":{\"outlinewidth\":0,\"ticks\":\"\"}}}],\"carpet\":[{\"aaxis\":{\"endlinecolor\":\"#2a3f5f\",\"gridcolor\":\"white\",\"linecolor\":\"white\",\"minorgridcolor\":\"white\",\"startlinecolor\":\"#2a3f5f\"},\"baxis\":{\"endlinecolor\":\"#2a3f5f\",\"gridcolor\":\"white\",\"linecolor\":\"white\",\"minorgridcolor\":\"white\",\"startlinecolor\":\"#2a3f5f\"},\"type\":\"carpet\"}],\"table\":[{\"cells\":{\"fill\":{\"color\":\"#EBF0F8\"},\"line\":{\"color\":\"white\"}},\"header\":{\"fill\":{\"color\":\"#C8D4E3\"},\"line\":{\"color\":\"white\"}},\"type\":\"table\"}],\"barpolar\":[{\"marker\":{\"line\":{\"color\":\"#E5ECF6\",\"width\":0.5},\"pattern\":{\"fillmode\":\"overlay\",\"size\":10,\"solidity\":0.2}},\"type\":\"barpolar\"}],\"pie\":[{\"automargin\":true,\"type\":\"pie\"}]},\"layout\":{\"autotypenumbers\":\"strict\",\"colorway\":[\"#636efa\",\"#EF553B\",\"#00cc96\",\"#ab63fa\",\"#FFA15A\",\"#19d3f3\",\"#FF6692\",\"#B6E880\",\"#FF97FF\",\"#FECB52\"],\"font\":{\"color\":\"#2a3f5f\"},\"hovermode\":\"closest\",\"hoverlabel\":{\"align\":\"left\"},\"paper_bgcolor\":\"white\",\"plot_bgcolor\":\"#E5ECF6\",\"polar\":{\"bgcolor\":\"#E5ECF6\",\"angularaxis\":{\"gridcolor\":\"white\",\"linecolor\":\"white\",\"ticks\":\"\"},\"radialaxis\":{\"gridcolor\":\"white\",\"linecolor\":\"white\",\"ticks\":\"\"}},\"ternary\":{\"bgcolor\":\"#E5ECF6\",\"aaxis\":{\"gridcolor\":\"white\",\"linecolor\":\"white\",\"ticks\":\"\"},\"baxis\":{\"gridcolor\":\"white\",\"linecolor\":\"white\",\"ticks\":\"\"},\"caxis\":{\"gridcolor\":\"white\",\"linecolor\":\"white\",\"ticks\":\"\"}},\"coloraxis\":{\"colorbar\":{\"outlinewidth\":0,\"ticks\":\"\"}},\"colorscale\":{\"sequential\":[[0.0,\"#0d0887\"],[0.1111111111111111,\"#46039f\"],[0.2222222222222222,\"#7201a8\"],[0.3333333333333333,\"#9c179e\"],[0.4444444444444444,\"#bd3786\"],[0.5555555555555556,\"#d8576b\"],[0.6666666666666666,\"#ed7953\"],[0.7777777777777778,\"#fb9f3a\"],[0.8888888888888888,\"#fdca26\"],[1.0,\"#f0f921\"]],\"sequentialminus\":[[0.0,\"#0d0887\"],[0.1111111111111111,\"#46039f\"],[0.2222222222222222,\"#7201a8\"],[0.3333333333333333,\"#9c179e\"],[0.4444444444444444,\"#bd3786\"],[0.5555555555555556,\"#d8576b\"],[0.6666666666666666,\"#ed7953\"],[0.7777777777777778,\"#fb9f3a\"],[0.8888888888888888,\"#fdca26\"],[1.0,\"#f0f921\"]],\"diverging\":[[0,\"#8e0152\"],[0.1,\"#c51b7d\"],[0.2,\"#de77ae\"],[0.3,\"#f1b6da\"],[0.4,\"#fde0ef\"],[0.5,\"#f7f7f7\"],[0.6,\"#e6f5d0\"],[0.7,\"#b8e186\"],[0.8,\"#7fbc41\"],[0.9,\"#4d9221\"],[1,\"#276419\"]]},\"xaxis\":{\"gridcolor\":\"white\",\"linecolor\":\"white\",\"ticks\":\"\",\"title\":{\"standoff\":15},\"zerolinecolor\":\"white\",\"automargin\":true,\"zerolinewidth\":2},\"yaxis\":{\"gridcolor\":\"white\",\"linecolor\":\"white\",\"ticks\":\"\",\"title\":{\"standoff\":15},\"zerolinecolor\":\"white\",\"automargin\":true,\"zerolinewidth\":2},\"scene\":{\"xaxis\":{\"backgroundcolor\":\"#E5ECF6\",\"gridcolor\":\"white\",\"linecolor\":\"white\",\"showbackground\":true,\"ticks\":\"\",\"zerolinecolor\":\"white\",\"gridwidth\":2},\"yaxis\":{\"backgroundcolor\":\"#E5ECF6\",\"gridcolor\":\"white\",\"linecolor\":\"white\",\"showbackground\":true,\"ticks\":\"\",\"zerolinecolor\":\"white\",\"gridwidth\":2},\"zaxis\":{\"backgroundcolor\":\"#E5ECF6\",\"gridcolor\":\"white\",\"linecolor\":\"white\",\"showbackground\":true,\"ticks\":\"\",\"zerolinecolor\":\"white\",\"gridwidth\":2}},\"shapedefaults\":{\"line\":{\"color\":\"#2a3f5f\"}},\"annotationdefaults\":{\"arrowcolor\":\"#2a3f5f\",\"arrowhead\":0,\"arrowwidth\":1},\"geo\":{\"bgcolor\":\"white\",\"landcolor\":\"#E5ECF6\",\"subunitcolor\":\"white\",\"showland\":true,\"showlakes\":true,\"lakecolor\":\"white\"},\"title\":{\"x\":0.05},\"mapbox\":{\"style\":\"light\"}}},\"scene\":{\"domain\":{\"x\":[0.0,1.0],\"y\":[0.0,1.0]},\"xaxis\":{\"title\":{\"text\":\"x\"}},\"yaxis\":{\"title\":{\"text\":\"y\"}},\"zaxis\":{\"title\":{\"text\":\"z\"}}},\"legend\":{\"tracegroupgap\":0},\"title\":{\"text\":\"3D t-SNE: 'cake' & Top 5 similar\"}},                        {\"responsive\": true}                    ).then(function(){\n",
       "                            \n",
       "var gd = document.getElementById('44731bc6-861d-432d-957f-9cfd193bb8ef');\n",
       "var x = new MutationObserver(function (mutations, observer) {{\n",
       "        var display = window.getComputedStyle(gd).display;\n",
       "        if (!display || display === 'none') {{\n",
       "            console.log([gd, 'removed!']);\n",
       "            Plotly.purge(gd);\n",
       "            observer.disconnect();\n",
       "        }}\n",
       "}});\n",
       "\n",
       "// Listen for the removal of the full notebook cells\n",
       "var notebookContainer = gd.closest('#notebook-container');\n",
       "if (notebookContainer) {{\n",
       "    x.observe(notebookContainer, {childList: true});\n",
       "}}\n",
       "\n",
       "// Listen for the clearing of the current output cell\n",
       "var outputEl = gd.closest('.output');\n",
       "if (outputEl) {{\n",
       "    x.observe(outputEl, {childList: true});\n",
       "}}\n",
       "\n",
       "                        })                };                            </script>        </div>\n",
       "</body>\n",
       "</html>"
      ]
     },
     "metadata": {}
    }
   ]
  },
  {
   "cell_type": "markdown",
   "source": [
    "Finally i will just save the model so that if we need it in other notebooks we can easily load it"
   ],
   "metadata": {
    "id": "5-Xc9IoeTR4t"
   },
   "id": "5-Xc9IoeTR4t"
  },
  {
   "cell_type": "code",
   "source": [
    "# saving\n",
    "w2v_model.save(\"w2v_custom.model\")\n",
    "\n",
    "# later we can load it like this\n",
    "'''from gensim.models import Word2Vec\n",
    "w2v_model = Word2Vec.load(\"w2v_custom.model\")'''\n"
   ],
   "metadata": {
    "id": "BAg85oXnTYwm"
   },
   "id": "BAg85oXnTYwm",
   "execution_count": null,
   "outputs": []
  },
  {
   "cell_type": "markdown",
   "source": [
    "## Similarity and Embedding Analysis Complete\n",
    "\n",
    "Analysis performed on  question-context pairs from our dataset.\n",
    "\n",
    "**Methods explored:**\n",
    "1. **Lexical Similarity:** TF-IDF (original text, lowercased, stopword removal)  \n",
    "2. **Semantic Similarity:** Pre-trained GloVe Embeddings (Twitter & Wikipedia, original text, lowercased)  \n",
    "3. **Semantic Similarity:** Sentence Transformers (`all-MiniLM-L6-v2`, original text)  \n",
    "4. **Custom Word Embeddings:** Word2Vec trained on preprocessed context data, with t-SNE visualization\n",
    "\n",
    "\n"
   ],
   "metadata": {
    "id": "1KgI82PYT799"
   },
   "id": "1KgI82PYT799"
  }
 ],
 "metadata": {
  "colab": {
   "provenance": [],
   "gpuType": "T4"
  },
  "language_info": {
   "name": "python"
  },
  "kernelspec": {
   "name": "python3",
   "display_name": "Python 3"
  },
  "accelerator": "GPU"
 },
 "nbformat": 4,
 "nbformat_minor": 5
}